{
 "cells": [
  {
   "cell_type": "markdown",
   "metadata": {},
   "source": [
    "# Building Autoencoders in ~~Keras~~ PyTorch\n",
    "\n",
    "WNixalo – 2018/6/16\n",
    "\n",
    "[Building Autoencoders in Keras](https://blog.keras.io/building-autoencoders-in-keras.html)"
   ]
  },
  {
   "cell_type": "code",
   "execution_count": 1,
   "metadata": {},
   "outputs": [],
   "source": [
    "%matplotlib inline\n",
    "%reload_ext autoreload\n",
    "%autoreload 2"
   ]
  },
  {
   "cell_type": "code",
   "execution_count": 2,
   "metadata": {},
   "outputs": [],
   "source": [
    "import numpy as np\n",
    "import torch"
   ]
  },
  {
   "cell_type": "code",
   "execution_count": 3,
   "metadata": {},
   "outputs": [],
   "source": [
    "import matplotlib.pyplot as plt"
   ]
  },
  {
   "cell_type": "code",
   "execution_count": 4,
   "metadata": {},
   "outputs": [],
   "source": [
    "import copy"
   ]
  },
  {
   "cell_type": "markdown",
   "metadata": {},
   "source": [
    "## 1. Building the simplest possible autoencoder"
   ]
  },
  {
   "cell_type": "markdown",
   "metadata": {},
   "source": [
    "> We'll start simple, with a single fully-connected neural layer as encoder and as decoder:\n",
    "\n",
    "```\n",
    "from keras.layers import Input, Dense\n",
    "from keras.models import Model\n",
    "\n",
    "# this is the size of our encoded representations\n",
    "encoding_dim = 32 # 32 floats -> compression of factor 24.5 assuming input is 784 floats\n",
    "\n",
    "# this is our input placeholder\n",
    "input_img = Input(shape=(784,))\n",
    "# \"encoded\" is the encoded representation of the input\n",
    "encoded = Dense(encoding_dim, activation='relu')(input_img)\n",
    "# \"decoded\" is the lossy reconstruction of the input\n",
    "decoded = Dense(784, activation='sigmoid')(encoded)\n",
    "\n",
    "# this model maps an input to its reconstruction\n",
    "autoencoder = Model(input_img, decoded)\n",
    "```"
   ]
  },
  {
   "cell_type": "markdown",
   "metadata": {},
   "source": [
    "> Let's also create a separate encoder model:\n",
    "\n",
    "```\n",
    "# this model maps an input to its encoded representation\n",
    "encoder = Model(input_img, encoded)\n",
    "```\n",
    "> As well as the decoder model:\n",
    "\n",
    "```\n",
    "# create a placeholder for an encoded (32-dimensional) input\n",
    "encoded_input = Input(shape=(encoding_dim,))\n",
    "# retrieve the last layer of the autoencoder model\n",
    "decoder_layer = autoencoder.layers[-1]\n",
    "# create the decoder model\n",
    "decoder = Model(encoded_input, decoder_layer(encoded_input))\n",
    "```"
   ]
  },
  {
   "cell_type": "code",
   "execution_count": 5,
   "metadata": {},
   "outputs": [],
   "source": [
    "import torch.nn as nn\n",
    "import torch.nn.functional as F"
   ]
  },
  {
   "cell_type": "code",
   "execution_count": 6,
   "metadata": {},
   "outputs": [],
   "source": [
    "input_size   = 784\n",
    "encoding_dim = 32"
   ]
  },
  {
   "cell_type": "code",
   "execution_count": 7,
   "metadata": {},
   "outputs": [],
   "source": [
    "# writing full classes for the en/de-coders is overkill, but this is the \n",
    "# general form of writing pytorch modules.\n",
    "\n",
    "class Encoder(nn.Module):\n",
    "    def __init__(self, input_size, encoding_dim):\n",
    "        super().__init__()\n",
    "        self.layers = nn.ModuleList([nn.Linear(input_size, encoding_dim), nn.ReLU()])\n",
    "    def forward(self, x):\n",
    "        for layer in self.layers:\n",
    "            x = layer(x)\n",
    "        return x\n",
    "            \n",
    "class Decoder(nn.Module):\n",
    "    def __init__(self, encoding_dim, input_size):\n",
    "        super().__init__()\n",
    "        self.layers = nn.ModuleList([nn.Linear(encoding_dim, input_size)])\n",
    "    def forward(self, x):\n",
    "        for layer in self.layers:\n",
    "            x = layer(x)\n",
    "        return x\n",
    "\n",
    "class Autoencoder(nn.Module):\n",
    "    def __init__(self, input_size=784, encoding_dim=32):\n",
    "        super().__init__()\n",
    "        self.encoder = Encoder(input_size, encoding_dim)\n",
    "        self.decoder = Decoder(encoding_dim, input_size)\n",
    "    def forward(self, x):\n",
    "        x = x.view(x.size(0), -1) # flatten to (nm,1) vector\n",
    "        x = self.encoder(x)  # Encode\n",
    "        x = self.decoder(x)  # Decode\n",
    "        x = F.sigmoid(x)\n",
    "        x = x.reshape(x.size(0),1,28,28) # should be a more elegant way to do this\n",
    "        return x"
   ]
  },
  {
   "cell_type": "code",
   "execution_count": 8,
   "metadata": {},
   "outputs": [],
   "source": [
    "autoencoder = Autoencoder(784, 32)"
   ]
  },
  {
   "cell_type": "markdown",
   "metadata": {},
   "source": [
    "> Now let's train our autoencoder to reconstruct MNIST digits.\n",
    ">\n",
    "> First, we'll configure our model to use a per-pixel binary crossentropy loss, and the Adadelta optimizer:\n",
    "\n",
    "```\n",
    "autoencoder.compile(optimizer='adadelta', loss='binary_crossentropy')\n",
    "```\n",
    "\n",
    "> Let's prepare our input data. We're using MNIST digits, and we're discarding the labels (since we're only interested in encoding/decoding the input images).\n",
    "\n",
    "```\n",
    "from keras.datasets import mnist\n",
    "import numpy as np\n",
    "(x_train, _), (x_test, _) = mnist.load_data()\n",
    "```\n",
    "\n",
    "> We will normalize all values between 0 and 1 and we will flatten the 28x28 images into vectors of size 784.\n",
    "\n",
    "```\n",
    "x_train = x_train.astype('float32') / 255.\n",
    "x_test  = x_test.astype('float32') / 255.\n",
    "x_train = x_train.reshape((len(x_train), np.prod(x_train.shape[1:])))\n",
    "x_test  = x_test.reshape((len(x_test), np.prod(x_test.shape[1:])))\n",
    "print(x_train.shape)\n",
    "print(x_test.shape)\n",
    "```"
   ]
  },
  {
   "cell_type": "code",
   "execution_count": 10,
   "metadata": {},
   "outputs": [],
   "source": [
    "# # these are actually initialized within the training loop\n",
    "# optimizer = torch.optim.Adadelta(autoencoder.parameters())\n",
    "# criterion = torch.nn.BCELoss()"
   ]
  },
  {
   "cell_type": "code",
   "execution_count": 9,
   "metadata": {},
   "outputs": [],
   "source": [
    "import torchvision"
   ]
  },
  {
   "cell_type": "code",
   "execution_count": 10,
   "metadata": {},
   "outputs": [],
   "source": [
    "bs = 16\n",
    "\n",
    "# stats = [[0.1307],[0.3073]] # calculated from training set\n",
    "\n",
    "tfm0 = torchvision.transforms.ToTensor()  # convert [0,255] -> [0.0,1.0]\n",
    "# tfm1 = torchvision.transforms.Normalize(*stats) # normalize to [-1.0,+1.0]\n",
    "\n",
    "# tfms = [tfm0, tfm1]\n",
    "# tfms = torchvision.transforms.Compose(tfms)"
   ]
  },
  {
   "cell_type": "code",
   "execution_count": 11,
   "metadata": {},
   "outputs": [],
   "source": [
    "train_dataset = torchvision.datasets.MNIST('data/MNIST/',train=True, transform=tfm0)\n",
    "test_dataset  = torchvision.datasets.MNIST('data/MNIST/',train=False,transform=tfm0)\n",
    "\n",
    "train_loader  = torch.utils.data.DataLoader(train_dataset, batch_size=bs, shuffle=True)\n",
    "test_loader   = torch.utils.data.DataLoader(test_dataset,  batch_size=bs)"
   ]
  },
  {
   "cell_type": "markdown",
   "metadata": {},
   "source": [
    "---"
   ]
  },
  {
   "cell_type": "markdown",
   "metadata": {},
   "source": [
    "### Aside: Flattening Tensors and Untrained Autoencoder output"
   ]
  },
  {
   "cell_type": "markdown",
   "metadata": {},
   "source": [
    "multiple ways to flatten tensors:"
   ]
  },
  {
   "cell_type": "code",
   "execution_count": 12,
   "metadata": {},
   "outputs": [
    {
     "name": "stdout",
     "output_type": "stream",
     "text": [
      "True\n",
      "torch.Size([16, 784])\n",
      "torch.Size([16, 784])\n"
     ]
    }
   ],
   "source": [
    "# get minibatch\n",
    "x,_ = next(iter(train_loader)); x_test,_ = next(iter(test_loader))\n",
    "# check ea. way to flatten is identical\n",
    "compare0 = torch.equal(np.reshape(x, (len(x), np.prod(x.shape[1:]))),\n",
    "                       x.reshape(len(x), np.prod(x.shape[1:])))\n",
    "compare1 = torch.equal(x.view(x.size(0), -1), x.reshape(len(x), np.prod(x.shape[1:])))\n",
    "print(True == compare0 == compare1)\n",
    "# display flattened minibatch shapes\n",
    "print(x.view(x.size(0), -1).shape)\n",
    "print(x_test.view(x_test.size(0), -1).shape)"
   ]
  },
  {
   "cell_type": "markdown",
   "metadata": {},
   "source": [
    "Here's a test of the autoencoder without any training (you'd expect just noise):"
   ]
  },
  {
   "cell_type": "code",
   "execution_count": 13,
   "metadata": {},
   "outputs": [],
   "source": [
    "x,y = next(iter(train_loader))\n",
    "z = autoencoder(x)"
   ]
  },
  {
   "cell_type": "code",
   "execution_count": 14,
   "metadata": {},
   "outputs": [
    {
     "data": {
      "text/plain": [
       "torch.Size([16, 1, 28, 28])"
      ]
     },
     "execution_count": 14,
     "metadata": {},
     "output_type": "execute_result"
    }
   ],
   "source": [
    "z.shape"
   ]
  },
  {
   "cell_type": "code",
   "execution_count": 197,
   "metadata": {},
   "outputs": [
    {
     "data": {
      "image/png": "[encoded data removed]",
      "text/plain": [
       "<Figure size 432x288 with 2 Axes>"
      ]
     },
     "metadata": {},
     "output_type": "display_data"
    }
   ],
   "source": [
    "fig,axes = plt.subplots(1,2); plt.set_cmap(['gray','viridis'][1]);\n",
    "axes[0].imshow(x[0][0].numpy()); axes[1].imshow(z[0][0].detach().numpy());"
   ]
  },
  {
   "cell_type": "code",
   "execution_count": 15,
   "metadata": {},
   "outputs": [],
   "source": [
    "def compare_plot(x,z, idx=0, cdx=1):\n",
    "    \"\"\"assumes x,y (bs,1,28,28) tensors\"\"\"\n",
    "    fig,axes = plt.subplots(1,2); plt.set_cmap(['gray','viridis'][cdx]);\n",
    "    if type(z) == torch.Tensor: z = z.detach().numpy()\n",
    "    axes[0].imshow(x[idx][0].numpy()); axes[1].imshow(z[idx][0]);"
   ]
  },
  {
   "cell_type": "markdown",
   "metadata": {},
   "source": [
    "---"
   ]
  },
  {
   "cell_type": "markdown",
   "metadata": {},
   "source": [
    "> Now let's train our autoencoder for 50 epochs:\n",
    "\n",
    "```\n",
    "autoencoder.fit(x_train, x_train, epochs=50, batch_size=256, shuffle=True,\n",
    "                validation_data=(x_test, x_test))\n",
    "```\n",
    "\n",
    "> After 50 epochs, the autoencoder seems to reach a stable train/test loss value of about `0.11`. We can try to visualize the reconstrubted inputs and the encoded representations. We will use Matplotlib.\n",
    "\n",
    "```\n",
    "# encode and decode some digits\n",
    "# note that we take them from the *test* set\n",
    "encoded_imgs = encoder.predict(x_test)\n",
    "decoded_imgs = decoder.predict(encoded_imgs)\n",
    "```\n",
    "\n",
    "```\n",
    "# use Matplotlib (don't ask)\n",
    "import matplotlib.pyplot as plt\n",
    "\n",
    "n = 10 # how many digits we will display\n",
    "plt.figure(figsize=(20, 4))\n",
    "for i in range(n):\n",
    "    # display original\n",
    "    ax = plt.subplot(2, n, i + 1)\n",
    "    plt.imshow(x_test[i].reshape(28, 28))\n",
    "    plt.gray()\n",
    "    ax.get_xaxis().set_visible(False)\n",
    "    ax.get_yaxis().set_visible(False)\n",
    "    \n",
    "    # display reconstruction\n",
    "    ax = plt.subplot(2, n, i + 1 + n)\n",
    "    plt.imshow(decoded_imgs[i].reshape(28, 28))\n",
    "    plt.gray()\n",
    "    ax.get_xaxis().set_visible(False)\n",
    "    ax.get_yaxis().set_visible(False)\n",
    "plt.show()\n",
    "```"
   ]
  },
  {
   "cell_type": "code",
   "execution_count": 16,
   "metadata": {},
   "outputs": [],
   "source": [
    "def train(model, trainloader=None, valloader=None, num_epochs=1):\n",
    "    # use GPU0 if available # pytorch >= 0.4\n",
    "    device = torch.device('cuda:0' if torch.cuda.is_available() else 'cpu')\n",
    "    \n",
    "    # name dataloaders for phases\n",
    "    phases = ['train']\n",
    "    dataloaders = {'train':trainloader}\n",
    "    if valloader:\n",
    "        phases.append('valid')\n",
    "        dataloaders['valid'] = valloader\n",
    "    \n",
    "    # move model to gpu -- pytorch >= 0.4 ## NOTE: havent tested on gpu yet\n",
    "    model.to(device)\n",
    "    optimizer = torch.optim.Adadelta(autoencoder.parameters())\n",
    "    criterion = torch.nn.BCELoss()\n",
    "    \n",
    "    # epoch w/ train & val phases\n",
    "    for epoch in range(num_epochs):\n",
    "        print(f'Epoch {epoch+1}/{num_epochs}\\n{\"-\"*10}')\n",
    "        \n",
    "        for phase in phases:\n",
    "            if phase == 'train':\n",
    "                #scheduler.step() # (no LR scheduler this time)\n",
    "                model.train() # set model to training mode\n",
    "            else: model.eval() # set model to evaluation mode\n",
    "                \n",
    "            running_loss, running_correct, count = 0.0, 0, 0\n",
    "        \n",
    "            for i, minibatch in enumerate(dataloaders[phase]):\n",
    "                x,y = minibatch\n",
    "                x,y = x.to(device), y.to(device)\n",
    "\n",
    "                # zero param gradients\n",
    "                optimizer.zero_grad()\n",
    "\n",
    "                # forward: track history if training phase\n",
    "                with torch.set_grad_enabled(phase=='train'): # pytorch >= 0.4\n",
    "                    outputs = model(x)\n",
    "                    loss    = criterion(outputs, x)\n",
    "                    preds,_ = torch.max(outputs,1) # for accuracy metric\n",
    "                    # backward & optimize if training phase\n",
    "                    if phase == 'train':\n",
    "                        loss.backward()\n",
    "                        optimizer.step()\n",
    "                \n",
    "                # stats\n",
    "                running_loss += loss.item() * x.size(0)\n",
    "                count += len(x)\n",
    "            \n",
    "            epoch_loss = running_loss / count\n",
    "            print(f'{phase} loss {epoch_loss:.6f}')\n",
    "        print()"
   ]
  },
  {
   "cell_type": "code",
   "execution_count": 205,
   "metadata": {},
   "outputs": [
    {
     "name": "stdout",
     "output_type": "stream",
     "text": [
      "Epoch 1/1\n",
      "----------\n",
      "CPU times: user 54.4 s, sys: 1.3 s, total: 55.7 s\n",
      "Wall time: 19.7 s\n"
     ]
    }
   ],
   "source": [
    "%time train(autoencoder, trainloader=train_loader, valloader=test_loader, num_epochs=1)"
   ]
  },
  {
   "cell_type": "code",
   "execution_count": 211,
   "metadata": {},
   "outputs": [
    {
     "data": {
      "image/png": "[encoded data removed]",
      "text/plain": [
       "<Figure size 432x288 with 2 Axes>"
      ]
     },
     "metadata": {},
     "output_type": "display_data"
    }
   ],
   "source": [
    "x,y = next(iter(train_loader))\n",
    "z = autoencoder(x)\n",
    "compare_plot(x,z)"
   ]
  },
  {
   "cell_type": "markdown",
   "metadata": {},
   "source": [
    "Woah."
   ]
  },
  {
   "cell_type": "markdown",
   "metadata": {},
   "source": [
    "---"
   ]
  },
  {
   "cell_type": "markdown",
   "metadata": {},
   "source": [
    "### Aside: Fast.AI\n",
    "\n",
    "FChollet makes use of TensorBoard to make some fancy plots of the training process. Also, Keras isn't at PyTorch's abstraction level: PyTorch is comparable to TensorFlow, Keras' backend. So instead of doing all my training manually, I'm going to modify the pytorch dataloaders a bit so I can use them with fastai for training. This'll give me some powerful high-level control over the process."
   ]
  },
  {
   "cell_type": "code",
   "execution_count": 17,
   "metadata": {},
   "outputs": [],
   "source": [
    "# create copies of dataloaders for ModelData\n",
    "train_loadermd = copy.deepcopy(train_loader)\n",
    "test_loadermd  = copy.deepcopy(test_loader)\n",
    "\n",
    "# set y to be x and convert [0,255] int to [0.0,1.0] float. (dl doesnt trsfm `y` by default)\n",
    "train_loadermd.dataset.train_labels = train_loadermd.dataset.train_data.type(torch.FloatTensor)/255\n",
    "test_loadermd.dataset.test_labels   = test_loadermd.dataset.test_data.type(torch.FloatTensor)/255\n",
    "\n",
    "# add channel dimension for compatibility. (bs,h,w) –> (bs,ch,h,w)\n",
    "train_loadermd.dataset.train_labels = train_loadermd.dataset.train_labels.reshape((len(train_loadermd.dataset),1,28,28))\n",
    "test_loadermd.dataset.test_labels   = test_loadermd.dataset.test_labels.reshape((len(test_loadermd.dataset),1,28,28))"
   ]
  },
  {
   "cell_type": "code",
   "execution_count": 18,
   "metadata": {},
   "outputs": [],
   "source": [
    "from fastai.conv_learner import *"
   ]
  },
  {
   "cell_type": "code",
   "execution_count": 19,
   "metadata": {},
   "outputs": [],
   "source": [
    "md = ModelData('data/MNIST', train_loadermd, test_loadermd)"
   ]
  },
  {
   "cell_type": "code",
   "execution_count": 20,
   "metadata": {},
   "outputs": [],
   "source": [
    "learn = Learner.from_model_data(Autoencoder(), md)\n",
    "learn.crit = F.binary_cross_entropy"
   ]
  },
  {
   "cell_type": "code",
   "execution_count": 174,
   "metadata": {},
   "outputs": [
    {
     "data": {
      "application/vnd.jupyter.widget-view+json": {
       "model_id": "",
       "version_major": 2,
       "version_minor": 0
      },
      "text/plain": [
       "HBox(children=(IntProgress(value=0, description='Epoch', max=1), HTML(value='')))"
      ]
     },
     "metadata": {},
     "output_type": "display_data"
    },
    {
     "name": "stdout",
     "output_type": "stream",
     "text": [
      "epoch      trn_loss   val_loss                                  \n",
      "    0      0.142973   0.154716  \n"
     ]
    },
    {
     "data": {
      "image/png": "[encoded data removed]",
      "text/plain": [
       "<Figure size 432x288 with 1 Axes>"
      ]
     },
     "metadata": {},
     "output_type": "display_data"
    }
   ],
   "source": [
    "learn.lr_find()\n",
    "learn.sched.plot()"
   ]
  },
  {
   "cell_type": "code",
   "execution_count": 175,
   "metadata": {},
   "outputs": [
    {
     "data": {
      "image/png": "[encoded data removed]",
      "text/plain": [
       "<Figure size 432x288 with 2 Axes>"
      ]
     },
     "metadata": {},
     "output_type": "display_data"
    }
   ],
   "source": [
    "z = learn.predict()        # run learner on val data\n",
    "x = md.val_ds.test_data[0] # get X from val dataset\n",
    "compare_plot([[x]], z) # expects dims: (batchsize, channels, rows, cols)"
   ]
  },
  {
   "cell_type": "code",
   "execution_count": 176,
   "metadata": {},
   "outputs": [
    {
     "data": {
      "application/vnd.jupyter.widget-view+json": {
       "model_id": "155c662ef81648409af929a11b25d3b0",
       "version_major": 2,
       "version_minor": 0
      },
      "text/plain": [
       "HBox(children=(IntProgress(value=0, description='Epoch', max=1), HTML(value='')))"
      ]
     },
     "metadata": {},
     "output_type": "display_data"
    },
    {
     "name": "stdout",
     "output_type": "stream",
     "text": [
      "epoch      trn_loss   val_loss                                  \n",
      "    0      0.264682   0.262922  \n"
     ]
    },
    {
     "data": {
      "image/png": "[encoded data removed]",
      "text/plain": [
       "<Figure size 432x288 with 2 Axes>"
      ]
     },
     "metadata": {},
     "output_type": "display_data"
    }
   ],
   "source": [
    "learn.fit(0.01, 1)     # fit learner to data\n",
    "z = learn.predict()    # run learner on val data\n",
    "compare_plot([[x]], z) # display X vs Z"
   ]
  },
  {
   "cell_type": "code",
   "execution_count": 188,
   "metadata": {},
   "outputs": [
    {
     "data": {
      "image/png": "[encoded data removed]",
      "text/plain": [
       "<Figure size 432x288 with 2 Axes>"
      ]
     },
     "metadata": {},
     "output_type": "display_data"
    }
   ],
   "source": [
    "x = md.val_ds.test_data.reshape(len(md.val_ds),1,28,28)\n",
    "compare_plot(x, z, idx=10)"
   ]
  },
  {
   "cell_type": "markdown",
   "metadata": {},
   "source": [
    "---"
   ]
  },
  {
   "cell_type": "markdown",
   "metadata": {},
   "source": [
    "Now that I got fastai working with the data, I can easily train 50 epochs. Although, to show how quickly the model converges w/ MNIST data, here's the result of a couple epochs via pure-pytorch:"
   ]
  },
  {
   "cell_type": "code",
   "execution_count": 221,
   "metadata": {},
   "outputs": [
    {
     "name": "stdout",
     "output_type": "stream",
     "text": [
      "Epoch 1/2\n",
      "----------\n",
      "train loss 0.200236\n",
      "valid loss 0.148270\n",
      "\n",
      "Epoch 2/2\n",
      "----------\n",
      "train loss 0.131812\n",
      "valid loss 0.117702\n",
      "\n"
     ]
    }
   ],
   "source": [
    "autoencoder = Autoencoder()\n",
    "train(autoencoder, train_loader, test_loader, num_epochs=2)"
   ]
  },
  {
   "cell_type": "code",
   "execution_count": 223,
   "metadata": {},
   "outputs": [
    {
     "data": {
      "image/png": "[encoded data removed]",
      "text/plain": [
       "<Figure size 432x288 with 2 Axes>"
      ]
     },
     "metadata": {},
     "output_type": "display_data"
    }
   ],
   "source": [
    "x,y = next(iter(test_loader))\n",
    "z = autoencoder(x)\n",
    "compare_plot(x, z)"
   ]
  },
  {
   "cell_type": "markdown",
   "metadata": {},
   "source": [
    "Now to train for 50 epochs with fastai:"
   ]
  },
  {
   "cell_type": "code",
   "execution_count": 242,
   "metadata": {},
   "outputs": [],
   "source": [
    "autoencoder = Autoencoder()\n",
    "learner = Learner.from_model_data(autoencoder, md)\n",
    "learner.crit = F.binary_cross_entropy\n",
    "learner.opt_fn = torch.optim.Adadelta"
   ]
  },
  {
   "cell_type": "code",
   "execution_count": 243,
   "metadata": {},
   "outputs": [
    {
     "data": {
      "application/vnd.jupyter.widget-view+json": {
       "model_id": "f2f62b4e608843bfb5029dc2168c677c",
       "version_major": 2,
       "version_minor": 0
      },
      "text/plain": [
       "HBox(children=(IntProgress(value=0, description='Epoch', max=1), HTML(value='')))"
      ]
     },
     "metadata": {},
     "output_type": "display_data"
    },
    {
     "name": "stdout",
     "output_type": "stream",
     "text": [
      "epoch      trn_loss   val_loss                                 \n",
      "    0      0.180425   0.171059  \n"
     ]
    },
    {
     "data": {
      "image/png": "[encoded data removed]",
      "text/plain": [
       "<Figure size 432x288 with 1 Axes>"
      ]
     },
     "metadata": {},
     "output_type": "display_data"
    }
   ],
   "source": [
    "learner.lr_find()\n",
    "learner.sched.plot()"
   ]
  },
  {
   "cell_type": "markdown",
   "metadata": {},
   "source": [
    "Looks like I'll have to use a really aggressive learning rate just to get started anywhere. The `torch.optim.Adadelta` optimizer's default was `1.0` in the pytorch training loop. I'm training for 50 epochs anyway (to match the tutorial) so I'll go with `0.5`. The tutorial is also using batch sizes of 256, but I'm using 16 (for no particular reason than not wanting to reinitialize everything).\n",
    "\n",
    "Nothing special with training: just 50 cycles, each 1 epoch long, using default [Cosine Annealing](https://arxiv.org/abs/1608.03983), no weight decay. "
   ]
  },
  {
   "cell_type": "code",
   "execution_count": 245,
   "metadata": {},
   "outputs": [
    {
     "data": {
      "application/vnd.jupyter.widget-view+json": {
       "model_id": "e55ddb305758402ca94b78dda147a200",
       "version_major": 2,
       "version_minor": 0
      },
      "text/plain": [
       "HBox(children=(IntProgress(value=0, description='Epoch', max=50), HTML(value='')))"
      ]
     },
     "metadata": {},
     "output_type": "display_data"
    },
    {
     "name": "stdout",
     "output_type": "stream",
     "text": [
      "epoch      trn_loss   val_loss                                 \n",
      "    0      0.180503   0.179986  \n",
      "    1      0.146636   0.145664                                 \n",
      "    2      0.127929   0.126243                                 \n",
      "    3      0.116537   0.114927                                 \n",
      "    4      0.110755   0.108692                                 \n",
      "    5      0.106966   0.105151                                 \n",
      "    6      0.104011   0.102819                                 \n",
      "    7      0.102981   0.101205                                 \n",
      "    8      0.100336   0.099909                                  \n",
      "    9      0.101887   0.099023                                   \n",
      "    10     0.10073    0.098413                                   \n",
      "    11     0.098454   0.097746                                   \n",
      "    12     0.099941   0.097324                                   \n",
      "    13     0.096887   0.096923                                   \n",
      "    14     0.097922   0.096655                                   \n",
      "    15     0.099135   0.096455                                   \n",
      "    16     0.09719    0.096281                                   \n",
      "    17     0.096672   0.096134                                   \n",
      "    18     0.097642   0.095951                                   \n",
      "    19     0.096808   0.095842                                   \n",
      "    20     0.097703   0.095802                                   \n",
      "    21     0.097251   0.0957                                     \n",
      "    22     0.097903   0.095605                                   \n",
      "    23     0.097281   0.095573                                   \n",
      "    24     0.096383   0.095419                                   \n",
      "    25     0.096412   0.095387                                   \n",
      "    26     0.096422   0.095451                                   \n",
      "    27     0.097631   0.095294                                   \n",
      "    28     0.096548   0.095258                                   \n",
      "    29     0.096357   0.095187                                   \n",
      "    30     0.096116   0.095171                                   \n",
      "    31     0.096966   0.095122                                   \n",
      "    32     0.096267   0.095071                                   \n",
      "    33     0.097147   0.094986                                   \n",
      "    34     0.095909   0.094997                                   \n",
      "    35     0.097563   0.094984                                   \n",
      "    36     0.095372   0.094918                                   \n",
      "    37     0.096651   0.09493                                    \n",
      "    38     0.096898   0.094867                                  \n",
      "    39     0.096978   0.094793                                   \n",
      "    40     0.096873   0.094749                                   \n",
      "    41     0.09536    0.094688                                   \n",
      "    42     0.094865   0.094657                                   \n",
      "    43     0.095538   0.094549                                   \n",
      "    44     0.095497   0.094434                                   \n",
      "    45     0.096441   0.094239                                   \n",
      "    46     0.096006   0.094079                                   \n",
      "    47     0.093832   0.09398                                    \n",
      "    48     0.095412   0.09387                                    \n",
      "    49     0.095988   0.093775                                   \n"
     ]
    },
    {
     "data": {
      "text/plain": [
       "[0.09377471673488617]"
      ]
     },
     "execution_count": 245,
     "metadata": {},
     "output_type": "execute_result"
    }
   ],
   "source": [
    "learner.fit(0.5, n_cycle=50)"
   ]
  },
  {
   "cell_type": "code",
   "execution_count": 246,
   "metadata": {},
   "outputs": [],
   "source": [
    "learn.save('pytorch-autoencoder-50ep')"
   ]
  },
  {
   "cell_type": "code",
   "execution_count": 263,
   "metadata": {},
   "outputs": [],
   "source": [
    "x,y = next(iter(md.val_dl)) # get 1st minibatch\n",
    "z = learner.predict()"
   ]
  },
  {
   "cell_type": "code",
   "execution_count": 266,
   "metadata": {},
   "outputs": [
    {
     "data": {
      "image/png": "[encoded data removed]",
      "text/plain": [
       "<Figure size 432x288 with 2 Axes>"
      ]
     },
     "metadata": {},
     "output_type": "display_data"
    }
   ],
   "source": [
    "compare_plot(x,z)"
   ]
  },
  {
   "cell_type": "code",
   "execution_count": 22,
   "metadata": {},
   "outputs": [],
   "source": [
    "def compare_batch(x, z, bs=16, figsize=(16,2)):\n",
    "    bs = min(len(x), bs) # digits to display\n",
    "    fig = plt.figure(figsize=figsize)\n",
    "    for i in range(bs):\n",
    "        # display original\n",
    "        ax = plt.subplot(2, bs, i+1); ax.imshow(x[i].reshape(28,28))\n",
    "        ax.get_xaxis().set_visible(False); ax.get_yaxis().set_visible(False)\n",
    "        \n",
    "        # display reconstruction\n",
    "        ax = plt.subplot(2, bs, i+1+bs); ax.imshow(z[i].reshape(28,28))\n",
    "        ax.get_xaxis().set_visible(False); ax.get_yaxis().set_visible(False)"
   ]
  },
  {
   "cell_type": "code",
   "execution_count": 286,
   "metadata": {},
   "outputs": [
    {
     "data": {
      "image/png": "[encoded data removed]",
      "text/plain": [
       "<Figure size 1152x144 with 32 Axes>"
      ]
     },
     "metadata": {},
     "output_type": "display_data"
    }
   ],
   "source": [
    "compare_batch(x,z)"
   ]
  },
  {
   "cell_type": "markdown",
   "metadata": {},
   "source": [
    "> Here's what we get. The top row is the original digits, and the bottom row is the reconstructed digits. We are losing quite a bit of detail with this basic approach.\n",
    "\n",
    "<img src=\"https://blog.keras.io/img/ae/basic_ae_32.png\">"
   ]
  },
  {
   "cell_type": "markdown",
   "metadata": {},
   "source": [
    "## 2. Adding a sparsity constraint on the encoded representations"
   ]
  },
  {
   "cell_type": "markdown",
   "metadata": {},
   "source": [
    "> In the previous example, the representations were only constrained by the size of the hidden layer (32). In such a situation, what typically ahppens is that the hidden layer is learning an approximation of [PCA](https://en.wikipedia.org/wiki/Principal_component_analysis) [(principal component analysis)](https://en.wikipedia.org/wiki/Principal_component_analysis). But another way to constrain the representations to be compact is to add a sparsity constraint on the activity of the hidden representations, so fewer units would \"fire\" at a given time. In Keras, this can be done by adding an `activity_regularizer` to our `Dense` layer:\n",
    "\n",
    "```\n",
    "from keras import regularizers\n",
    "\n",
    "encoding_dim = 32\n",
    "\n",
    "input_img = Input(shape=(784,))\n",
    "# add a Dense layer with a L1 activity regularizer\n",
    "encoded = Dense(encoding_dim, activation='relu',\n",
    "                activity_regularizer=regularizers.l1(10e-5))(input_img)\n",
    "decoded = Dense(784, activation='sigmoid')(encoded)\n",
    "\n",
    "autoencoder = Model(input_img, decoded)\n",
    "```\n",
    "\n",
    "> Let's train this model for 100 epochs (with the added regularization the model is less likely to overfit and can be trained longer). The model ends with a train loss of `0.11` and a test loss of `0.10`. The difference between the two is mostly due to the regularization term being added to the loss during training (worth about 0.01)."
   ]
  },
  {
   "cell_type": "markdown",
   "metadata": {},
   "source": [
    "Fast AI's Learner has a built-in regularization function attribute. \n",
    "\n",
    "Internally in `fastai.model.Stepper` in the `step(.)` function, the `output` is calculated by passing the input/s into the model `self.m(.)`. If the `output` is a tuple, in the case of multi-headed models or models that also output intermediate activations, `output` is reassigned and destructured: `output` is reassigned to it's 1st item, and `xtra` is a list of all the rest.\n",
    "\n",
    "`raw_loss` is first calculated on the `output` and `y` using the loss function `self.crit`. If no regularization function is attached to the Learner, the `raw_loss` is returned as the loss. Otherwise, `output`, `xtra`, and `raw_loss` are all passed into the regularizer `self.reg_fn` and the result is returned as loss.\n",
    "\n",
    "So adding L1 (or any) regularization to a Fast AI Learner is as easy as defining a regularization function that accepts arguments: `output, xtra, raw_loss` and assigning it to `learner.reg_fn`. Also make sure the encoder sends a copy of it\n",
    "\n",
    "This raises a further question of how exactly was multi-head / output work done, for example in [pascal.ipynb](https://github.com/fastai/fastai/blob/master/courses/dl2/pascal-multi.ipynb) (multi-head multi-output) and [lesson2-image_models.ipynb](https://github.com/fastai/fastai/blob/master/courses/dl1/lesson2-image_models.ipynb) (multi-output). In lesson2-image_models that abstraction layer is still hidden, but in pascal.ipynb the SSD model's `OutConv` nn.Module class outputs a *`list`* of [classifications, regressions], so I think that's the big clue. I tested this and the output indeed didn't get destructured."
   ]
  },
  {
   "cell_type": "code",
   "execution_count": 23,
   "metadata": {},
   "outputs": [],
   "source": [
    "# writing full classes for the en/de-coders is overkill, but this is the \n",
    "# general form of writing pytorch modules.\n",
    "\n",
    "class EncoderL1(nn.Module):\n",
    "    def __init__(self, input_size, encoding_dim):\n",
    "        super().__init__()\n",
    "        self.layers = nn.ModuleList([nn.Linear(input_size, encoding_dim), nn.ReLU()])\n",
    "    def forward(self, x):\n",
    "        for layer in self.layers:\n",
    "            x = layer(x)\n",
    "        return x\n",
    "            \n",
    "class Decoder(nn.Module):\n",
    "    def __init__(self, encoding_dim, input_size):\n",
    "        super().__init__()\n",
    "        self.layers = nn.ModuleList([nn.Linear(encoding_dim, input_size)])\n",
    "    def forward(self, x):\n",
    "        for layer in self.layers:\n",
    "            x = layer(x)\n",
    "        return x\n",
    "\n",
    "class AutoencoderL1(nn.Module):\n",
    "    \"\"\"Basic autoencoder with extra encoder output for L1 regularization.\"\"\"\n",
    "    def __init__(self, input_size=784, encoding_dim=32):\n",
    "        super().__init__()\n",
    "        self.encoder = EncoderL1(input_size, encoding_dim)\n",
    "        self.decoder = Decoder(encoding_dim, input_size)\n",
    "    def forward(self, x):\n",
    "        x = x.view(x.size(0), -1) # flatten to (nm,1) vector\n",
    "        l1x = self.encoder(x)  # Encode\n",
    "        x = self.decoder(l1x)  # Decode\n",
    "        x = F.sigmoid(x)\n",
    "        x = x.reshape(x.size(0),1,28,28) # should be a more elegant way to do this\n",
    "        return x, l1x # autoencoder and encoder outputs\n",
    "    \n",
    "def l1_reg(output, xtra, raw_loss, λ1=1e-4):\n",
    "    \"\"\"Adds L1 Regularization to the Loss.\"\"\"\n",
    "    return λ1*torch.abs(*xtra).sum() + raw_loss # xtra comes in as list, deconstruct to tensor"
   ]
  },
  {
   "cell_type": "code",
   "execution_count": 28,
   "metadata": {},
   "outputs": [],
   "source": [
    "learn = Learner.from_model_data(AutoencoderL1(), md)"
   ]
  },
  {
   "cell_type": "code",
   "execution_count": 29,
   "metadata": {},
   "outputs": [],
   "source": [
    "learn.crit = F.binary_cross_entropy\n",
    "learn.opt_fn = torch.optim.Adadelta\n",
    "learn.reg_fn = l1_reg"
   ]
  },
  {
   "cell_type": "code",
   "execution_count": 30,
   "metadata": {},
   "outputs": [
    {
     "data": {
      "application/vnd.jupyter.widget-view+json": {
       "model_id": "7d720922c8624e8cb9f4259ea2a429d6",
       "version_major": 2,
       "version_minor": 0
      },
      "text/plain": [
       "HBox(children=(IntProgress(value=0, description='Epoch', max=1), HTML(value='')))"
      ]
     },
     "metadata": {},
     "output_type": "display_data"
    },
    {
     "name": "stdout",
     "output_type": "stream",
     "text": [
      "epoch      trn_loss   val_loss                                 \n",
      "    0      0.246507   0.239414  \n"
     ]
    },
    {
     "data": {
      "image/png": "[encoded data removed]",
      "text/plain": [
       "<Figure size 432x288 with 1 Axes>"
      ]
     },
     "metadata": {},
     "output_type": "display_data"
    }
   ],
   "source": [
    "learn.lr_find()\n",
    "learn.sched.plot()"
   ]
  },
  {
   "cell_type": "code",
   "execution_count": 31,
   "metadata": {
    "scrolled": false
   },
   "outputs": [
    {
     "data": {
      "application/vnd.jupyter.widget-view+json": {
       "model_id": "81abb141798c46e19bc5f54ae89584c4",
       "version_major": 2,
       "version_minor": 0
      },
      "text/plain": [
       "HBox(children=(IntProgress(value=0, description='Epoch'), HTML(value='')))"
      ]
     },
     "metadata": {},
     "output_type": "display_data"
    },
    {
     "name": "stdout",
     "output_type": "stream",
     "text": [
      "epoch      trn_loss   val_loss                                 \n",
      "    0      0.250728   0.248423  \n",
      "    1      0.231891   0.231998                                 \n",
      "    2      0.224072   0.220726                                 \n",
      "    3      0.218669   0.21725                                  \n",
      "    4      0.217783   0.21568                                  \n",
      "    5      0.214344   0.214774                                 \n",
      "    6      0.214792   0.213973                                 \n",
      "    7      0.214472   0.21356                                  \n",
      "    8      0.215391   0.213021                                 \n",
      "    9      0.214764   0.212651                                 \n",
      "    10     0.213261   0.212288                                 \n",
      "    11     0.215662   0.212235                                 \n",
      "    12     0.215801   0.211687                                 \n",
      "    13     0.213287   0.211712                                 \n",
      "    14     0.212363   0.211242                                 \n",
      "    15     0.214929   0.211148                                 \n",
      "    16     0.211418   0.210893                                 \n",
      "    17     0.213183   0.210403                                 \n",
      "    18     0.210202   0.210322                                 \n",
      "    19     0.212448   0.210095                                 \n",
      "    20     0.214052   0.209838                                 \n",
      "    21     0.212362   0.209638                                 \n",
      "    22     0.21093    0.209292                                 \n",
      "    23     0.210809   0.209161                                 \n",
      "    24     0.208424   0.208805                                 \n",
      "    25     0.211796   0.208757                                 \n",
      "    26     0.209186   0.208177                                 \n",
      "    27     0.202112   0.203661                                 \n",
      "    28     0.200053   0.198871                                 \n",
      "    29     0.197028   0.197766                                 \n",
      "    30     0.198351   0.197138                                 \n",
      "    31     0.195027   0.196505                                 \n",
      "    32     0.201171   0.196194                                 \n",
      "    33     0.196294   0.195889                                 \n",
      "    34     0.196206   0.195579                                 \n",
      "    35     0.194749   0.195337                                 \n",
      "    36     0.197545   0.195441                                 \n",
      "    37     0.195938   0.194983                                 \n",
      "    38     0.195462   0.194897                                 \n",
      "    39     0.195252   0.194728                                 \n",
      "    40     0.19517    0.194871                                 \n",
      "    41     0.195441   0.194452                                 \n",
      "    42     0.19506    0.194397                                 \n",
      "    43     0.197389   0.194431                                 \n",
      "    44     0.193827   0.194218                                 \n",
      "    45     0.194498   0.193927                                 \n",
      "    46     0.195605   0.194014                                 \n",
      "    47     0.195702   0.193939                                 \n",
      "    48     0.195721   0.193727                                 \n",
      "    49     0.195037   0.193647                                  \n",
      "    50     0.196885   0.193479                                  \n",
      "    51     0.196552   0.193214                                 \n",
      "    52     0.188157   0.193239                                 \n",
      "    53     0.196309   0.193157                                 \n",
      "    54     0.194332   0.19309                                  \n",
      "    55     0.195321   0.193134                                  \n",
      "    56     0.192788   0.192848                                  \n",
      "    57     0.19455    0.193147                                  \n",
      "    58     0.193524   0.192736                                  \n",
      "    59     0.193172   0.19251                                   \n",
      "    60     0.194228   0.193028                                  \n",
      "    61     0.194252   0.192686                                  \n",
      "    62     0.193488   0.192514                                  \n",
      "    63     0.193046   0.192446                                  \n",
      "    64     0.195129   0.192356                                  \n",
      "    65     0.194313   0.192707                                  \n",
      "    66     0.193202   0.192403                                  \n",
      "    67     0.19404    0.192078                                  \n",
      "    68     0.190446   0.192127                                  \n",
      "    69     0.194587   0.192071                                  \n",
      "    70     0.193974   0.192075                                  \n",
      "    71     0.195237   0.192065                                  \n",
      "    72     0.194764   0.192281                                  \n",
      "    73     0.192829   0.19189                                   \n",
      "    74     0.193417   0.192164                                  \n",
      "    75     0.192915   0.191963                                  \n",
      "    76     0.192471   0.191633                                  \n",
      "    77     0.192812   0.191628                                  \n",
      "    78     0.192207   0.191699                                  \n",
      "    79     0.191981   0.191719                                  \n",
      "    80     0.194317   0.191467                                  \n",
      "    81     0.193124   0.191468                                  \n",
      "    82     0.19371    0.191475                                  \n",
      "    83     0.193718   0.191594                                  \n",
      "    84     0.194073   0.191415                                 \n",
      "    85     0.194182   0.191322                                 \n",
      "    86     0.193363   0.191507                                  \n",
      "    87     0.189904   0.191335                                 \n",
      "    88     0.192567   0.191504                                 \n",
      "    89     0.193546   0.191206                                 \n",
      "    90     0.195682   0.191548                                  \n",
      "    91     0.191894   0.191569                                  \n",
      "    92     0.19303    0.191532                                 \n",
      "    93     0.191095   0.190958                                 \n",
      "    94     0.190473   0.190923                                 \n",
      "    95     0.191526   0.190989                                 \n",
      "    96     0.192925   0.1911                                   \n",
      "    97     0.194582   0.190933                                 \n",
      "    98     0.19148    0.190934                                 \n",
      "    99     0.192061   0.190795                                 \n",
      "CPU times: user 2h 21min 21s, sys: 13min 24s, total: 2h 34min 46s\n",
      "Wall time: 1h 13min 6s\n"
     ]
    },
    {
     "data": {
      "text/plain": [
       "[0.190795294547081]"
      ]
     },
     "execution_count": 31,
     "metadata": {},
     "output_type": "execute_result"
    }
   ],
   "source": [
    "%time learn.fit(0.5, 100) # same lr as before; now 100 cycles (1 ep/cyc)"
   ]
  },
  {
   "cell_type": "markdown",
   "metadata": {},
   "source": [
    "I think my learning rate was too low with the added regularization. And I just realized since this is pytorch I could have the model output the encoder outputs for regularization *only* when in training mode. *hmm*, next time."
   ]
  },
  {
   "cell_type": "code",
   "execution_count": 36,
   "metadata": {},
   "outputs": [],
   "source": [
    "learn.save('autoencoder_l1reg_100ep')"
   ]
  },
  {
   "cell_type": "code",
   "execution_count": 69,
   "metadata": {},
   "outputs": [],
   "source": [
    "x = next(iter(learn.data.val_dl))[0]\n",
    "z = learn.predict()"
   ]
  },
  {
   "cell_type": "code",
   "execution_count": 72,
   "metadata": {},
   "outputs": [
    {
     "data": {
      "text/plain": [
       "((10000, 1, 28, 28), torch.Size([16, 1, 28, 28]))"
      ]
     },
     "execution_count": 72,
     "metadata": {},
     "output_type": "execute_result"
    }
   ],
   "source": [
    "z.shape, x.shape"
   ]
  },
  {
   "cell_type": "code",
   "execution_count": 71,
   "metadata": {},
   "outputs": [
    {
     "data": {
      "image/png": "[encoded data removed]",
      "text/plain": [
       "<Figure size 1152x144 with 32 Axes>"
      ]
     },
     "metadata": {},
     "output_type": "display_data"
    }
   ],
   "source": [
    "compare_batch(x, z)"
   ]
  },
  {
   "cell_type": "markdown",
   "metadata": {},
   "source": [
    "> Here's a visualization of our new results:\n",
    "\n",
    "<img src=\"https://blog.keras.io/img/ae/sparse_ae_32.png\" >\n",
    "\n",
    "> They look pretty similar to the previous model, the only significant difference being the sparsity of the encoded representations. `encoded_imgs.mean()` yields a value `3.33` (over our 10,000 test images), whereas with the previous model the same quantity was `7.30`. So our new model yields encoded representations that are twice sparser."
   ]
  },
  {
   "cell_type": "code",
   "execution_count": 104,
   "metadata": {},
   "outputs": [
    {
     "data": {
      "text/plain": [
       "0.18292214"
      ]
     },
     "execution_count": 104,
     "metadata": {},
     "output_type": "execute_result"
    }
   ],
   "source": [
    "encodings = [] # now its convenient Im getting the encoder's output\n",
    "for x,_ in iter(learn.data.val_dl):\n",
    "    encodings.append(learn.model(x)[1].detach().numpy().mean())\n",
    "np.array(encodings).mean()"
   ]
  },
  {
   "cell_type": "markdown",
   "metadata": {},
   "source": [
    "## 3. Deep autoencoder"
   ]
  },
  {
   "cell_type": "markdown",
   "metadata": {},
   "source": [
    "> We do not have to limit ourselves to a single layer as encoder or decoder, we could instead use a stack of layers such as:\n",
    "\n",
    "```\n",
    "input_img = Input(shape(784,))\n",
    "encoded = Dense(128, activation='relu')(input_img)\n",
    "encoded = Dense(64,  activation='relu')(encoded)\n",
    "encoded = Dense(32,  activation='relu')(encoded)\n",
    "\n",
    "decoded = Dense(64,  actication='relu')(encoded)\n",
    "decoded = Dense(128, activation='relu')(decoded)\n",
    "decoded = Dense(784, activation='sigmoid')(decoded)\n",
    "```\n",
    "\n",
    "> Let's try this:\n",
    "\n",
    "```\n",
    "autoencoder = Model(inpu_img, decoded)\n",
    "autoencoder.compile(optimizer='adadelta', loss='binary_crossentropy')\n",
    "\n",
    "autoencoder.fit(x_train, x_train, epochs=100, batch_size=256, shuffle=True, \n",
    "                validation_data=(x_test, x_test))\n",
    "```"
   ]
  },
  {
   "cell_type": "markdown",
   "metadata": {},
   "source": [
    "## 4. Convolutional autoencoder"
   ]
  },
  {
   "cell_type": "code",
   "execution_count": null,
   "metadata": {},
   "outputs": [],
   "source": []
  },
  {
   "cell_type": "markdown",
   "metadata": {},
   "source": [
    "## 5. Application to image denoising"
   ]
  },
  {
   "cell_type": "code",
   "execution_count": null,
   "metadata": {},
   "outputs": [],
   "source": []
  },
  {
   "cell_type": "markdown",
   "metadata": {},
   "source": [
    "## 6. Sequence–to–sequence autoencoder"
   ]
  },
  {
   "cell_type": "code",
   "execution_count": null,
   "metadata": {},
   "outputs": [],
   "source": []
  },
  {
   "cell_type": "markdown",
   "metadata": {},
   "source": [
    "## 7. Variational autoencoder (VAE)"
   ]
  },
  {
   "cell_type": "code",
   "execution_count": null,
   "metadata": {},
   "outputs": [],
   "source": []
  },
  {
   "cell_type": "code",
   "execution_count": null,
   "metadata": {},
   "outputs": [],
   "source": []
  },
  {
   "cell_type": "markdown",
   "metadata": {},
   "source": [
    "---"
   ]
  },
  {
   "cell_type": "markdown",
   "metadata": {},
   "source": [
    "### Aside: calculating μ & σ of MNIST"
   ]
  },
  {
   "cell_type": "markdown",
   "metadata": {},
   "source": [
    "I wanted some values to normalize the dataset with. I did this by only passing in the `ToTensor()` transfor to the dataset object and turning off shuffling (though that shouldn't matter), then computing the standard deviation & mean.\n",
    "\n",
    "On second look, FChollet only normalizes to between `[0.0,1.0]`, so this was unnecessary."
   ]
  },
  {
   "cell_type": "code",
   "execution_count": 99,
   "metadata": {},
   "outputs": [
    {
     "name": "stdout",
     "output_type": "stream",
     "text": [
      "CPU times: user 4.82 s, sys: 17.3 ms, total: 4.84 s\n",
      "Wall time: 4.86 s\n"
     ]
    }
   ],
   "source": [
    "%%time\n",
    "std,mean,count = 0.,0.,0\n",
    "for x,_ in train_loader:\n",
    "    std   += torch.std(x)\n",
    "    mean  += torch.mean(x)\n",
    "    count += 1\n",
    "std  /= count\n",
    "mean /= count"
   ]
  },
  {
   "cell_type": "code",
   "execution_count": 100,
   "metadata": {},
   "outputs": [
    {
     "data": {
      "text/plain": [
       "(tensor(0.3073), tensor(0.1307))"
      ]
     },
     "execution_count": 100,
     "metadata": {},
     "output_type": "execute_result"
    }
   ],
   "source": [
    "std, mean"
   ]
  },
  {
   "cell_type": "markdown",
   "metadata": {},
   "source": [
    "---"
   ]
  },
  {
   "cell_type": "markdown",
   "metadata": {},
   "source": [
    "## dev dump"
   ]
  },
  {
   "cell_type": "markdown",
   "metadata": {},
   "source": [
    "---"
   ]
  },
  {
   "cell_type": "markdown",
   "metadata": {},
   "source": [
    "So.. what is an \"activity_regularizer\"? It forces fewer activations to fire... sounds a lot like Dropout.. Ah but he's using L1.. so he's just adding a penalty on activation, not outright killing them. So how to do that in pytorch. First of all looking at [how Keras does it](https://github.com/keras-team/keras/blob/master/keras/regularizers.py#L53):\n",
    "\n",
    "```\n",
    "L1 activity regularizer: regularizers.l1\n",
    "    ––> regularizers.l1:\n",
    "        ––> def l1(l=0.01):\n",
    "                return L1L2(l1=l1)\n",
    "    ––> class L1L2(Regularizer):\n",
    "            ...\n",
    "            def __call__(self, x):\n",
    "                regularization = 0.\n",
    "                if self.l1:\n",
    "                    regularization += K.sum(self.l1 * K.abs(x))\n",
    "                ...\n",
    "                return regularization\n",
    "```\n",
    "\n",
    "Checking the [Keras source code](https://github.com/keras-team/keras/blob/master/keras/layers/core.py#L816) for what the practical difference between activation vs weight regularization is on a `Dense` layer:\n",
    "\n",
    "```\n",
    "    ...\n",
    "    activity_regularizer: Regularizer function applied to \n",
    "        the output of the layer (its \"activation\").\n",
    "        (see [regularizer](../regularizers.md)).\n",
    "    ...\n",
    "```\n",
    "\n",
    "Ah, so it's just L1 (`sum(l1 * abs(x))`) on the output. How does that talk to the optimizer though? It has to affect the loss value somehow.\n",
    "\n",
    "Oh, duh. You [just edit the loss function](https://stackoverflow.com/a/47196174) to now take this L1 loss term. Just checking [fast.ai for how that's implemented](https://github.com/fastai/fastai/blob/master/courses/dl2/pascal-multi.ipynb) again\n",
    " (we did exactly this for multi-object detection –– see the \"Train\" section).\n",
    " \n",
    "\n",
    "Looks like in PyTorch we create a function and assign it to the Fast AI Learner's `.crit` (see `ssd_loss` defn). Also looks like you can create an `nn.Module` class that acts on an input like any other NN. I really like pytorch's flexibility.\n",
    "\n",
    "Although if I define it as a class, I could directly assign the `l1` multiplier to use via `learn.crit.l1 = ..`. If that becomes a problem I'll 'upgrade' it.\n",
    "\n",
    "**Edit**: No, no. I got mistaken and started looking at implementing L1 *Loss*. I wanted L1 *Regularization*, which is just a penalty tacked onto the loss value. Luckily adding a regularizer is easy [in pytorch](https://stackoverflow.com/questions/44641976/in-pytorch-how-to-add-l1-regularizer-to-activations) and fastai."
   ]
  },
  {
   "cell_type": "code",
   "execution_count": 292,
   "metadata": {},
   "outputs": [],
   "source": [
    "def bce_l1_loss(pred, targ, l1=1e-4):\n",
    "    return F.binary_cross_entropy(pred, targ) + l1*F.l1_loss(pred, targ)"
   ]
  },
  {
   "cell_type": "code",
   "execution_count": 288,
   "metadata": {},
   "outputs": [
    {
     "data": {
      "text/plain": [
       "<function torch.nn.functional.binary_cross_entropy(input, target, weight=None, size_average=True, reduce=True)>"
      ]
     },
     "execution_count": 288,
     "metadata": {},
     "output_type": "execute_result"
    }
   ],
   "source": [
    "learn.crit"
   ]
  },
  {
   "cell_type": "code",
   "execution_count": 293,
   "metadata": {},
   "outputs": [],
   "source": [
    "learn.crit = bce_l1_loss"
   ]
  },
  {
   "cell_type": "code",
   "execution_count": 294,
   "metadata": {},
   "outputs": [
    {
     "data": {
      "text/plain": [
       "<function __main__.bce_l1_loss(pred, targ, l1=0.0001)>"
      ]
     },
     "execution_count": 294,
     "metadata": {},
     "output_type": "execute_result"
    }
   ],
   "source": [
    "learn.crit"
   ]
  },
  {
   "cell_type": "markdown",
   "metadata": {},
   "source": [
    "*Ohh*. I just noticed: the L1 Loss FChollet is using is *on the Encoder*. So I can't just put it on the end of my Autoencoder. This isn't hard. I just have to change the model's architecture to output an L1 loss from the encoder in addition to what was going on before:"
   ]
  },
  {
   "cell_type": "markdown",
   "metadata": {},
   "source": [
    "---"
   ]
  },
  {
   "cell_type": "code",
   "execution_count": 211,
   "metadata": {},
   "outputs": [],
   "source": [
    "autoencoder = Autoencoder()"
   ]
  },
  {
   "cell_type": "code",
   "execution_count": 212,
   "metadata": {},
   "outputs": [
    {
     "name": "stdout",
     "output_type": "stream",
     "text": [
      "Epoch 1/1\n",
      "----------\n",
      "train loss 0.199573\n",
      "valid loss 0.147295\n",
      "CPU times: user 41.7 s, sys: 1.15 s, total: 42.9 s\n",
      "Wall time: 15.8 s\n"
     ]
    }
   ],
   "source": [
    "%time train(autoencoder, trainloader=train_loader, valloader=test_loader)"
   ]
  },
  {
   "cell_type": "code",
   "execution_count": 213,
   "metadata": {},
   "outputs": [],
   "source": [
    "x,y = next(iter(train_loader))"
   ]
  },
  {
   "cell_type": "code",
   "execution_count": 214,
   "metadata": {},
   "outputs": [],
   "source": [
    "z = autoencoder(x)"
   ]
  },
  {
   "cell_type": "code",
   "execution_count": 215,
   "metadata": {},
   "outputs": [
    {
     "data": {
      "image/png": "[encoded data removed]",
      "text/plain": [
       "<Figure size 432x288 with 2 Axes>"
      ]
     },
     "metadata": {},
     "output_type": "display_data"
    }
   ],
   "source": [
    "compare_plot(x, z, idx=0)"
   ]
  },
  {
   "cell_type": "code",
   "execution_count": 216,
   "metadata": {},
   "outputs": [
    {
     "name": "stdout",
     "output_type": "stream",
     "text": [
      "Epoch 1/2\n",
      "----------\n",
      "train loss 0.131929\n",
      "valid loss 0.117059\n",
      "Epoch 2/2\n",
      "----------\n",
      "train loss 0.111982\n",
      "valid loss 0.105339\n",
      "CPU times: user 1min 26s, sys: 3.22 s, total: 1min 30s\n",
      "Wall time: 35.4 s\n"
     ]
    }
   ],
   "source": [
    "%time train(autoencoder, trainloader=train_loader, valloader=test_loader, num_epochs=2)"
   ]
  },
  {
   "cell_type": "code",
   "execution_count": 218,
   "metadata": {},
   "outputs": [
    {
     "name": "stdout",
     "output_type": "stream",
     "text": [
      "Epoch 1/2\n",
      "----------\n",
      "train loss 0.104650\n",
      "valid loss 0.100961\n",
      "\n",
      "Epoch 2/2\n",
      "----------\n",
      "train loss 0.101456\n",
      "valid loss 0.098749\n",
      "\n",
      "CPU times: user 1min 23s, sys: 2.31 s, total: 1min 25s\n",
      "Wall time: 31.3 s\n"
     ]
    }
   ],
   "source": [
    "%time train(autoencoder, trainloader=train_loader, valloader=test_loader, num_epochs=2)"
   ]
  },
  {
   "cell_type": "code",
   "execution_count": 220,
   "metadata": {},
   "outputs": [
    {
     "data": {
      "image/png": "[encoded data removed]",
      "text/plain": [
       "<Figure size 432x288 with 2 Axes>"
      ]
     },
     "metadata": {},
     "output_type": "display_data"
    }
   ],
   "source": [
    "x,y = next(iter(test_loader))\n",
    "z   = autoencoder(x)\n",
    "compare_plot(x,z)"
   ]
  },
  {
   "cell_type": "markdown",
   "metadata": {},
   "source": [
    "---"
   ]
  },
  {
   "cell_type": "code",
   "execution_count": 131,
   "metadata": {},
   "outputs": [
    {
     "data": {
      "text/plain": [
       "torch.Tensor"
      ]
     },
     "execution_count": 131,
     "metadata": {},
     "output_type": "execute_result"
    }
   ],
   "source": [
    "type(x[0][0])"
   ]
  },
  {
   "cell_type": "code",
   "execution_count": 130,
   "metadata": {},
   "outputs": [
    {
     "data": {
      "text/plain": [
       "numpy.ndarray"
      ]
     },
     "execution_count": 130,
     "metadata": {},
     "output_type": "execute_result"
    }
   ],
   "source": [
    "type(z[0][0])"
   ]
  },
  {
   "cell_type": "markdown",
   "metadata": {},
   "source": [
    "---"
   ]
  },
  {
   "cell_type": "code",
   "execution_count": 212,
   "metadata": {},
   "outputs": [
    {
     "data": {
      "image/png": "[encoded data removed]",
      "text/plain": [
       "<Figure size 432x288 with 2 Axes>"
      ]
     },
     "metadata": {},
     "output_type": "display_data"
    }
   ],
   "source": [
    "compare_plot(x,z,idx=1)"
   ]
  },
  {
   "cell_type": "code",
   "execution_count": 213,
   "metadata": {},
   "outputs": [
    {
     "data": {
      "image/png": "[encoded data removed]",
      "text/plain": [
       "<Figure size 432x288 with 2 Axes>"
      ]
     },
     "metadata": {},
     "output_type": "display_data"
    }
   ],
   "source": [
    "compare_plot(x,z,idx=2)"
   ]
  },
  {
   "cell_type": "code",
   "execution_count": 214,
   "metadata": {},
   "outputs": [
    {
     "data": {
      "image/png": "[encoded data removed]",
      "text/plain": [
       "<Figure size 432x288 with 2 Axes>"
      ]
     },
     "metadata": {},
     "output_type": "display_data"
    }
   ],
   "source": [
    "compare_plot(x,z,idx=3)"
   ]
  },
  {
   "cell_type": "code",
   "execution_count": 22,
   "metadata": {},
   "outputs": [],
   "source": [
    "tmp = copy.deepcopy(train_loader)"
   ]
  },
  {
   "cell_type": "code",
   "execution_count": 23,
   "metadata": {},
   "outputs": [],
   "source": [
    "tmp.dataset.train_labels = tmp.dataset.train_data"
   ]
  },
  {
   "cell_type": "code",
   "execution_count": 84,
   "metadata": {},
   "outputs": [],
   "source": [
    "x,y = next(iter(tmp))"
   ]
  },
  {
   "cell_type": "code",
   "execution_count": 82,
   "metadata": {},
   "outputs": [
    {
     "data": {
      "text/plain": [
       "(tensor([ 0.0000,  0.0000,  0.0000,  0.0000,  0.0000,  0.0000,  0.0000,\n",
       "          0.0000,  0.0000,  0.0000,  0.0000,  0.0000,  0.0000,  0.0000,\n",
       "          0.2471,  0.9412,  0.9882,  0.9882,  0.9882,  0.5490]),\n",
       " tensor([ 0.0000,  0.0000,  0.0000,  0.0000,  0.0000,  0.0000,  0.0000,\n",
       "          0.0000,  0.0000,  0.0000,  0.0000,  0.0000,  0.0000,  0.0000,\n",
       "          0.2471,  0.9412,  0.9882,  0.9882,  0.9882,  0.5490]))"
      ]
     },
     "execution_count": 82,
     "metadata": {},
     "output_type": "execute_result"
    }
   ],
   "source": [
    "(y[0].type(torch.FloatTensor)/255)[8,:20], x[0][0,8,:20]"
   ]
  },
  {
   "cell_type": "code",
   "execution_count": 85,
   "metadata": {},
   "outputs": [],
   "source": [
    "tmp.dataset.train_labels = tmp.dataset.train_data.type(torch.FloatTensor)/255"
   ]
  },
  {
   "cell_type": "code",
   "execution_count": 86,
   "metadata": {},
   "outputs": [],
   "source": [
    "x,y = next(iter(tmp))"
   ]
  },
  {
   "cell_type": "code",
   "execution_count": 89,
   "metadata": {
    "scrolled": false
   },
   "outputs": [
    {
     "data": {
      "text/plain": [
       "True"
      ]
     },
     "execution_count": 89,
     "metadata": {},
     "output_type": "execute_result"
    }
   ],
   "source": [
    "torch.equal(x[0][0], y[0])"
   ]
  },
  {
   "cell_type": "code",
   "execution_count": 91,
   "metadata": {},
   "outputs": [
    {
     "data": {
      "text/plain": [
       "(torch.Size([60000, 28, 28]), torch.Size([60000, 28, 28]))"
      ]
     },
     "execution_count": 91,
     "metadata": {},
     "output_type": "execute_result"
    }
   ],
   "source": [
    "tmp.dataset.train_labels.shape, tmp.dataset.train_data.shape"
   ]
  },
  {
   "cell_type": "markdown",
   "metadata": {},
   "source": [
    "---"
   ]
  },
  {
   "cell_type": "code",
   "execution_count": 102,
   "metadata": {},
   "outputs": [],
   "source": [
    "tmp.dataset.train_labels = tmp.dataset.train_labels.reshape((60000,1,28,28))"
   ]
  },
  {
   "cell_type": "code",
   "execution_count": 122,
   "metadata": {},
   "outputs": [],
   "source": [
    "z = learn.predict()"
   ]
  },
  {
   "cell_type": "code",
   "execution_count": 133,
   "metadata": {},
   "outputs": [
    {
     "data": {
      "image/png": "[encoded data removed]",
      "text/plain": [
       "<Figure size 432x288 with 2 Axes>"
      ]
     },
     "metadata": {},
     "output_type": "display_data"
    }
   ],
   "source": [
    "compare_plot()"
   ]
  },
  {
   "cell_type": "markdown",
   "metadata": {},
   "source": [
    "---"
   ]
  },
  {
   "cell_type": "code",
   "execution_count": 181,
   "metadata": {},
   "outputs": [
    {
     "data": {
      "text/plain": [
       "torch.Size([28, 28])"
      ]
     },
     "execution_count": 181,
     "metadata": {},
     "output_type": "execute_result"
    }
   ],
   "source": [
    "x[0].shape"
   ]
  },
  {
   "cell_type": "code",
   "execution_count": 136,
   "metadata": {},
   "outputs": [
    {
     "data": {
      "text/plain": [
       "torch.Size([10000])"
      ]
     },
     "execution_count": 136,
     "metadata": {},
     "output_type": "execute_result"
    }
   ],
   "source": [
    "test_loader.dataset.test_labels.shape"
   ]
  },
  {
   "cell_type": "code",
   "execution_count": 137,
   "metadata": {},
   "outputs": [
    {
     "data": {
      "text/plain": [
       "10000"
      ]
     },
     "execution_count": 137,
     "metadata": {},
     "output_type": "execute_result"
    }
   ],
   "source": [
    "len(train_loadermd.dataset)"
   ]
  },
  {
   "cell_type": "code",
   "execution_count": 93,
   "metadata": {},
   "outputs": [],
   "source": [
    "from fastai.conv_learner import *"
   ]
  },
  {
   "cell_type": "code",
   "execution_count": 108,
   "metadata": {},
   "outputs": [],
   "source": [
    "md = ModelData('data/MNIST', tmp, tmp)"
   ]
  },
  {
   "cell_type": "code",
   "execution_count": 109,
   "metadata": {},
   "outputs": [],
   "source": [
    "learn = Learner.from_model_data(autoencoder, md)\n",
    "learn.crit = F.binary_cross_entropy"
   ]
  },
  {
   "cell_type": "code",
   "execution_count": 110,
   "metadata": {},
   "outputs": [
    {
     "data": {
      "application/vnd.jupyter.widget-view+json": {
       "model_id": "",
       "version_major": 2,
       "version_minor": 0
      },
      "text/plain": [
       "HBox(children=(IntProgress(value=0, description='Epoch', max=1), HTML(value='')))"
      ]
     },
     "metadata": {},
     "output_type": "display_data"
    },
    {
     "name": "stdout",
     "output_type": "stream",
     "text": [
      "epoch      trn_loss   val_loss                                  \n",
      "    0      0.145403   0.166833  \n"
     ]
    },
    {
     "data": {
      "image/png": "[encoded data removed]",
      "text/plain": [
       "<Figure size 432x288 with 1 Axes>"
      ]
     },
     "metadata": {},
     "output_type": "display_data"
    }
   ],
   "source": [
    "learn.lr_find()\n",
    "learn.sched.plot()"
   ]
  },
  {
   "cell_type": "code",
   "execution_count": 121,
   "metadata": {},
   "outputs": [
    {
     "data": {
      "application/vnd.jupyter.widget-view+json": {
       "model_id": "",
       "version_major": 2,
       "version_minor": 0
      },
      "text/plain": [
       "HBox(children=(IntProgress(value=0, description='Epoch', max=1), HTML(value='')))"
      ]
     },
     "metadata": {},
     "output_type": "display_data"
    },
    {
     "name": "stdout",
     "output_type": "stream",
     "text": [
      "epoch      trn_loss   val_loss                                 \n",
      "    0      0.260972   0.262096  \n"
     ]
    },
    {
     "data": {
      "text/plain": [
       "[0.2620958075960477]"
      ]
     },
     "execution_count": 121,
     "metadata": {},
     "output_type": "execute_result"
    }
   ],
   "source": [
    "learn.fit(0.01, 1)"
   ]
  }
 ],
 "metadata": {
  "kernelspec": {
   "display_name": "Python 3 (FastAI)",
   "language": "python",
   "name": "fastai"
  },
  "language_info": {
   "codemirror_mode": {
    "name": "ipython",
    "version": 3
   },
   "file_extension": ".py",
   "mimetype": "text/x-python",
   "name": "python",
   "nbconvert_exporter": "python",
   "pygments_lexer": "ipython3",
   "version": "3.6.5"
  }
 },
 "nbformat": 4,
 "nbformat_minor": 2
}
