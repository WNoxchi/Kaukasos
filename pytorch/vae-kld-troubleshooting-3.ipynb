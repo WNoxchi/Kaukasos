{
 "cells": [
  {
   "cell_type": "markdown",
   "metadata": {},
   "source": [
    "# VAE Troubleshooting –– 3"
   ]
  },
  {
   "cell_type": "markdown",
   "metadata": {},
   "source": [
    "WNixalo – 2016/6/24-5"
   ]
  },
  {
   "cell_type": "code",
   "execution_count": 1,
   "metadata": {
    "collapsed": true
   },
   "outputs": [],
   "source": [
    "%matplotlib inline\n",
    "%reload_ext autoreload\n",
    "%autoreload 2"
   ]
  },
  {
   "cell_type": "code",
   "execution_count": 2,
   "metadata": {
    "collapsed": true
   },
   "outputs": [],
   "source": [
    "import matplotlib.pyplot as plt\n",
    "import numpy as np\n",
    "import torch\n",
    "import torch.nn as nn\n",
    "import torch.nn.functional as F\n",
    "import torchvision\n",
    "from fastai.conv_learner import *"
   ]
  },
  {
   "cell_type": "markdown",
   "metadata": {},
   "source": [
    "## 1. Setup"
   ]
  },
  {
   "cell_type": "code",
   "execution_count": 3,
   "metadata": {
    "collapsed": true
   },
   "outputs": [],
   "source": [
    "input_size   = 784\n",
    "encoding_dim = 32\n",
    "bs = 16\n",
    "tfm0 = torchvision.transforms.ToTensor()  # convert [0,255] -> [0.0,1.0]"
   ]
  },
  {
   "cell_type": "code",
   "execution_count": 4,
   "metadata": {
    "collapsed": true
   },
   "outputs": [],
   "source": [
    "train_dataset = torchvision.datasets.MNIST('data/MNIST/',train=True, transform=tfm0)\n",
    "test_dataset  = torchvision.datasets.MNIST('data/MNIST/',train=False,transform=tfm0)\n",
    "\n",
    "train_loader  = torch.utils.data.DataLoader(train_dataset, batch_size=bs, shuffle=True)\n",
    "test_loader   = torch.utils.data.DataLoader(test_dataset,  batch_size=bs)"
   ]
  },
  {
   "cell_type": "code",
   "execution_count": 5,
   "metadata": {
    "collapsed": true
   },
   "outputs": [],
   "source": [
    "# create copies of dataloaders for ModelData\n",
    "train_loadermd = copy.deepcopy(train_loader)\n",
    "test_loadermd  = copy.deepcopy(test_loader)\n",
    "\n",
    "# set y to be x and convert [0,255] int to [0.0,1.0] float. (dl doesnt trsfm `y` by default)\n",
    "train_loadermd.dataset.train_labels = train_loadermd.dataset.train_data.type(torch.FloatTensor)/255\n",
    "test_loadermd.dataset.test_labels   = test_loadermd.dataset.test_data.type(torch.FloatTensor)/255\n",
    "\n",
    "# add channel dimension for compatibility. (bs,h,w) –> (bs,ch,h,w)\n",
    "train_loadermd.dataset.train_labels = train_loadermd.dataset.train_labels.reshape((len(train_loadermd.dataset),1,28,28))\n",
    "test_loadermd.dataset.test_labels   = test_loadermd.dataset.test_labels.reshape((len(test_loadermd.dataset),1,28,28))"
   ]
  },
  {
   "cell_type": "code",
   "execution_count": 6,
   "metadata": {
    "collapsed": true
   },
   "outputs": [],
   "source": [
    "md = ModelData('data/MNIST', train_loadermd, test_loadermd)"
   ]
  },
  {
   "cell_type": "markdown",
   "metadata": {},
   "source": [
    "### visuals"
   ]
  },
  {
   "cell_type": "code",
   "execution_count": 22,
   "metadata": {
    "collapsed": true
   },
   "outputs": [],
   "source": [
    "def compare_batch(x, z, bs=16, figsize=(16,2)):\n",
    "    bs = min(len(x), bs) # digits to display\n",
    "    fig = plt.figure(figsize=figsize)\n",
    "    for i in range(bs):\n",
    "        # display original\n",
    "        ax = plt.subplot(2, bs, i+1); ax.imshow(x[i].reshape(28,28))\n",
    "        ax.get_xaxis().set_visible(False); ax.get_yaxis().set_visible(False)\n",
    "        \n",
    "        # display reconstruction\n",
    "        ax = plt.subplot(2, bs, i+1+bs); ax.imshow(z[i].reshape(28,28))\n",
    "        ax.get_xaxis().set_visible(False); ax.get_yaxis().set_visible(False)\n",
    "        \n",
    "def space_plot(model):\n",
    "    model.eval()\n",
    "    plt.figure(figsize=(6,6)); plt.style.use('classic');\n",
    "\n",
    "    for x,y in iter(test_loader):\n",
    "        z, μ, logvar, enc_x = model(x)\n",
    "\n",
    "        plt.scatter(enc_x.detach()[:,0], enc_x.detach()[:,1], c=y); \n",
    "    plt.colorbar(); plt.style.use('default');\n",
    "    \n",
    "def model_plots(model, dataloader):\n",
    "    x,y = next(iter(dataloader))\n",
    "    z = model(x)\n",
    "    if len(z) > 1: print([zi.shape for zi in z]);\n",
    "    compare_batch(x,z[0].detach())\n",
    "    space_plot(model)"
   ]
  },
  {
   "cell_type": "markdown",
   "metadata": {},
   "source": [
    "### architecture"
   ]
  },
  {
   "cell_type": "code",
   "execution_count": 8,
   "metadata": {
    "collapsed": true
   },
   "outputs": [],
   "source": [
    "# working pytorch example\n",
    "class VAE(nn.Module):\n",
    "    def __init__(self):\n",
    "        super(VAE, self).__init__()\n",
    "\n",
    "        self.fc1 = nn.Linear(784, 400)\n",
    "        self.fc21 = nn.Linear(400, 20)\n",
    "        self.fc22 = nn.Linear(400, 20)\n",
    "        self.fc3 = nn.Linear(20, 400)\n",
    "        self.fc4 = nn.Linear(400, 784)\n",
    "\n",
    "    def encode(self, x):\n",
    "        h1 = F.relu(self.fc1(x))\n",
    "        return self.fc21(h1), self.fc22(h1)\n",
    "\n",
    "    def reparameterize(self, mu, logvar):\n",
    "        if self.training:\n",
    "            std = torch.exp(0.5*logvar)\n",
    "            eps = torch.randn_like(std)\n",
    "            return eps.mul(std).add_(mu)\n",
    "        else:\n",
    "            return mu\n",
    "\n",
    "    def decode(self, z):\n",
    "        h3 = F.relu(self.fc3(z))\n",
    "        return F.sigmoid(self.fc4(h3))\n",
    "\n",
    "    def forward(self, x):\n",
    "        mu, logvar = self.encode(x.view(-1, 784))\n",
    "        z = self.reparameterize(mu, logvar)\n",
    "        return self.decode(z), mu, logvar"
   ]
  },
  {
   "cell_type": "code",
   "execution_count": 48,
   "metadata": {
    "collapsed": true
   },
   "outputs": [],
   "source": [
    "# my version I'm trying to get to work\n",
    "class Encoder(nn.Module):\n",
    "    def __init__(self):\n",
    "        super().__init__()\n",
    "        self.fc0  = nn.Linear(784,512)\n",
    "        self.fc10 = nn.Linear(512,2)\n",
    "        self.fc11 = nn.Linear(512,2)\n",
    "    def forward(self, x):\n",
    "        h1 = F.relu(self.fc0(x))\n",
    "        mu,logv = self.fc10(h1), self.fc11(h1)\n",
    "        return mu, logv\n",
    "\n",
    "class Decoder(nn.Module):\n",
    "    def __init__(self):\n",
    "        super().__init__()\n",
    "        self.fc2 = nn.Linear(2,512)\n",
    "        self.fc3 = nn.Linear(512,784)\n",
    "    def forward(self, x):\n",
    "        h3 = F.relu(self.fc2(x))\n",
    "        z  = F.sigmoid(self.fc3(h3))\n",
    "        return z\n",
    "\n",
    "class VariationalAutoencoder(nn.Module):\n",
    "    def __init__(self):\n",
    "        super().__init__()\n",
    "        self.encoder = Encoder()\n",
    "        self.decoder = Decoder()\n",
    "    def reparameterize(self, mu, logv):\n",
    "        if self.training:\n",
    "            sig = torch.exp(0.5*logv)\n",
    "            eps = torch.randn_like(sig)\n",
    "            return eps*sig + mu ## eps.mul(sig).add_(mu)\n",
    "#             return eps.mul(sig).add_(mu)\n",
    "        else: return mu\n",
    "    def forward(self, x):\n",
    "        shape = x.shape\n",
    "        x = x.view(x.size(0),-1)\n",
    "        mu, logv = self.encoder(x)\n",
    "        h = self.reparameterize(mu,logv)\n",
    "        z = self.decoder(h)\n",
    "        z = z.view(z.size(0), *shape[1:])\n",
    "#         z = z.view(z.size(0),1,28,28)\n",
    "        return z, mu, logv, h"
   ]
  },
  {
   "cell_type": "markdown",
   "metadata": {},
   "source": [
    "### loss function"
   ]
  },
  {
   "cell_type": "code",
   "execution_count": 38,
   "metadata": {
    "collapsed": true
   },
   "outputs": [],
   "source": [
    "def bce_flat(preds, targs):\n",
    "    return F.binary_cross_entropy(preds.view(preds.size(0),-1), \n",
    "                                  targs.view(targs.size(0),-1), size_average=True)\n",
    "def vae_loss(output, xtra, raw_loss):\n",
    "    mu,logv, *_ = xtra\n",
    "    BCE = raw_loss\n",
    "    KLD = -0.5 * torch.sum(1 + logv - mu**2 - torch.exp(logv))\n",
    "#     KLD = -0.5 * torch.sum(1 + logv - mu.pow(2) - torch.exp(logv))\n",
    "    return BCE + KLD"
   ]
  },
  {
   "cell_type": "markdown",
   "metadata": {},
   "source": [
    "## testing"
   ]
  },
  {
   "cell_type": "code",
   "execution_count": 41,
   "metadata": {
    "collapsed": true
   },
   "outputs": [],
   "source": [
    "learner = Learner.from_model_data(VariationalAutoencoder(), md)\n",
    "\n",
    "# learner.crit = bce_flat\n",
    "learner.crit = F.binary_cross_entropy\n",
    "learner.opt_fn = torch.optim.Adam\n",
    "learner.reg_fn = vae_loss"
   ]
  },
  {
   "cell_type": "code",
   "execution_count": 42,
   "metadata": {},
   "outputs": [
    {
     "data": {
      "application/vnd.jupyter.widget-view+json": {
       "model_id": "7df9cc8494154e5fbd60d1e1eeda4f38",
       "version_major": 2,
       "version_minor": 0
      },
      "text/plain": [
       "HBox(children=(IntProgress(value=0, description='Epoch', max=1), HTML(value='')))"
      ]
     },
     "metadata": {},
     "output_type": "display_data"
    },
    {
     "name": "stdout",
     "output_type": "stream",
     "text": [
      "epoch      trn_loss   val_loss                                 \n",
      "    0      0.265498   0.263317  \n"
     ]
    },
    {
     "data": {
      "text/plain": [
       "[0.2633170844554901]"
      ]
     },
     "execution_count": 42,
     "metadata": {},
     "output_type": "execute_result"
    }
   ],
   "source": [
    "learner.fit(1e-3, 1)"
   ]
  },
  {
   "cell_type": "code",
   "execution_count": 43,
   "metadata": {},
   "outputs": [
    {
     "data": {
      "image/png": "[encoded data removed]",
      "text/plain": [
       "<Figure size 1600x200 with 32 Axes>"
      ]
     },
     "metadata": {},
     "output_type": "display_data"
    }
   ],
   "source": [
    "x,y = next(iter(learner.data.val_dl))\n",
    "z = learner.predict()\n",
    "compare_batch(x,z)"
   ]
  },
  {
   "cell_type": "code",
   "execution_count": 44,
   "metadata": {},
   "outputs": [
    {
     "data": {
      "text/plain": [
       "tensor(1.00000e-04 *\n",
       "       [[-0.2166, -3.0556],\n",
       "        [-0.3899,  1.0751],\n",
       "        [-2.2802, -3.6173],\n",
       "        [ 3.4942,  1.5176],\n",
       "        [-2.1407, -3.3926],\n",
       "        [-1.5283, -1.4644],\n",
       "        [-2.8723, -6.1778],\n",
       "        [ 0.6526,  3.1924],\n",
       "        [ 1.1581,  5.6805],\n",
       "        [ 3.0446,  2.3714],\n",
       "        [-0.9516, -6.0043],\n",
       "        [-1.5701, -1.3463],\n",
       "        [-0.2928, -2.2814],\n",
       "        [ 2.4222,  4.7411],\n",
       "        [-0.4119, -0.3210],\n",
       "        [-0.6501, -0.7281]])"
      ]
     },
     "execution_count": 44,
     "metadata": {},
     "output_type": "execute_result"
    }
   ],
   "source": [
    "learner.model(x)[1]"
   ]
  },
  {
   "cell_type": "code",
   "execution_count": 45,
   "metadata": {},
   "outputs": [
    {
     "data": {
      "text/plain": [
       "tensor(1.00000e-04 *\n",
       "       [[-0.1187,  0.5283],\n",
       "        [-0.0009, -0.4885],\n",
       "        [-0.3968,  0.4135],\n",
       "        [-0.0641, -1.8501],\n",
       "        [-0.8194,  0.1361],\n",
       "        [-0.4347,  0.3836],\n",
       "        [-0.5508,  1.5599],\n",
       "        [-0.8609, -0.9070],\n",
       "        [-0.9438, -2.0088],\n",
       "        [ 0.5038,  0.4371],\n",
       "        [-0.0884,  0.2428],\n",
       "        [-0.4133,  1.0398],\n",
       "        [-0.1329,  0.0136],\n",
       "        [ 0.1136, -0.5437],\n",
       "        [-0.3695,  0.1436],\n",
       "        [-0.2638, -0.2919]])"
      ]
     },
     "execution_count": 45,
     "metadata": {},
     "output_type": "execute_result"
    }
   ],
   "source": [
    "learner.model(x)[2]"
   ]
  },
  {
   "cell_type": "code",
   "execution_count": 46,
   "metadata": {},
   "outputs": [
    {
     "data": {
      "text/plain": [
       "3"
      ]
     },
     "execution_count": 46,
     "metadata": {},
     "output_type": "execute_result"
    }
   ],
   "source": [
    "len(learner.model(x))"
   ]
  },
  {
   "cell_type": "code",
   "execution_count": 52,
   "metadata": {},
   "outputs": [
    {
     "name": "stdout",
     "output_type": "stream",
     "text": [
      "Train Epoch: 1 [0/60000 (0%)]\tLoss: 553.154480\n",
      "Train Epoch: 1 [12800/60000 (21%)]\tLoss: 190.366409\n",
      "Train Epoch: 1 [25600/60000 (43%)]\tLoss: 190.912125\n",
      "Train Epoch: 1 [38400/60000 (64%)]\tLoss: 189.457825\n",
      "Train Epoch: 1 [51200/60000 (85%)]\tLoss: 187.790329\n",
      "====> Epoch: 1 Average loss: 190.8983\n",
      "Train Epoch: 2 [0/60000 (0%)]\tLoss: 189.973785\n",
      "Train Epoch: 2 [12800/60000 (21%)]\tLoss: 189.892120\n",
      "Train Epoch: 2 [25600/60000 (43%)]\tLoss: 190.003647\n",
      "Train Epoch: 2 [38400/60000 (64%)]\tLoss: 188.956284\n",
      "Train Epoch: 2 [51200/60000 (85%)]\tLoss: 189.250732\n",
      "====> Epoch: 2 Average loss: 189.0501\n",
      "Train Epoch: 3 [0/60000 (0%)]\tLoss: 189.335938\n",
      "Train Epoch: 3 [12800/60000 (21%)]\tLoss: 189.350998\n",
      "Train Epoch: 3 [25600/60000 (43%)]\tLoss: 188.867096\n",
      "Train Epoch: 3 [38400/60000 (64%)]\tLoss: 188.969910\n",
      "Train Epoch: 3 [51200/60000 (85%)]\tLoss: 189.617340\n",
      "====> Epoch: 3 Average loss: 188.9746\n"
     ]
    }
   ],
   "source": [
    "device = torch.device(\"cuda\" if torch.cuda.is_available() else \"cpu\")\n",
    "model  = VariationalAutoencoder().to(device)\n",
    "optimizer = optim.Adam(model.parameters(), lr=1e-3)\n",
    "\n",
    "def loss_function(recon_x, data, mu, logvar):\n",
    "    BCE = F.binary_cross_entropy(recon_x.view(-1, 784), x.view(-1, 784), \n",
    "                                 size_average=False)\n",
    "    KLD = -0.5 * torch.sum(1 + logvar - mu.pow(2) - logvar.exp())\n",
    "    return BCE + KLD\n",
    "\n",
    "def train(epoch, log_interval=800):\n",
    "    model.train()\n",
    "    train_loss = 0\n",
    "    for batch_idx, (data, _) in enumerate(train_loader):\n",
    "        data = data.to(device)\n",
    "        optimizer.zero_grad()\n",
    "        recon_batch, mu, logvar, enc = model(data)\n",
    "        loss = loss_function(recon_batch, data, mu, logvar)\n",
    "        loss.backward()\n",
    "        train_loss += loss.item()\n",
    "        optimizer.step()\n",
    "        if batch_idx % log_interval == 0:\n",
    "            print('Train Epoch: {} [{}/{} ({:.0f}%)]\\tLoss: {:.6f}'.format(\n",
    "                epoch, batch_idx * len(data), len(train_loader.dataset),\n",
    "                100. * batch_idx / len(train_loader),\n",
    "                loss.item() / len(data)))\n",
    "\n",
    "    print('====> Epoch: {} Average loss: {:.4f}'.format(\n",
    "          epoch, train_loss / len(train_loader.dataset)))\n",
    "    \n",
    "for i in range(3): train(i+1)"
   ]
  },
  {
   "cell_type": "code",
   "execution_count": 56,
   "metadata": {},
   "outputs": [
    {
     "data": {
      "image/png": "[encoded data removed]",
      "text/plain": [
       "<Figure size 1600x200 with 32 Axes>"
      ]
     },
     "metadata": {},
     "output_type": "display_data"
    }
   ],
   "source": [
    "x,y = next(iter(learner.data.val_dl))\n",
    "z = model(x)\n",
    "compare_batch(x,z[0].detach())"
   ]
  },
  {
   "cell_type": "code",
   "execution_count": 64,
   "metadata": {},
   "outputs": [
    {
     "data": {
      "text/plain": [
       "tensor(1.00000e-02 *\n",
       "       [[-1.2499, -5.1417],\n",
       "        [ 2.3675,  0.8045],\n",
       "        [ 2.3192,  0.0512],\n",
       "        [ 1.7318,  0.7188],\n",
       "        [ 1.7318,  0.7188],\n",
       "        [ 1.7798,  0.6624],\n",
       "        [ 1.7318,  0.7188],\n",
       "        [ 1.7318,  0.7188],\n",
       "        [ 1.7318,  0.7188],\n",
       "        [ 1.7318,  0.7188],\n",
       "        [ 1.7318,  0.7188],\n",
       "        [ 1.2529,  1.5025],\n",
       "        [ 1.7318,  0.7188],\n",
       "        [ 1.7318,  0.7188],\n",
       "        [ 1.7318,  0.7188],\n",
       "        [ 1.7318,  0.7188]])"
      ]
     },
     "execution_count": 64,
     "metadata": {},
     "output_type": "execute_result"
    }
   ],
   "source": [
    "z[1]"
   ]
  },
  {
   "cell_type": "code",
   "execution_count": 65,
   "metadata": {},
   "outputs": [
    {
     "data": {
      "text/plain": [
       "tensor([[ 0.0227, -0.1002],\n",
       "        [ 0.0040, -0.0657],\n",
       "        [-0.0094, -0.0518],\n",
       "        [-0.0108, -0.0510],\n",
       "        [-0.0108, -0.0510],\n",
       "        [-0.0116, -0.0510],\n",
       "        [-0.0108, -0.0510],\n",
       "        [-0.0108, -0.0510],\n",
       "        [-0.0108, -0.0510],\n",
       "        [-0.0108, -0.0510],\n",
       "        [-0.0108, -0.0510],\n",
       "        [-0.0185, -0.0437],\n",
       "        [-0.0108, -0.0510],\n",
       "        [-0.0108, -0.0510],\n",
       "        [-0.0108, -0.0510],\n",
       "        [-0.0108, -0.0510]])"
      ]
     },
     "execution_count": 65,
     "metadata": {},
     "output_type": "execute_result"
    }
   ],
   "source": [
    "z[2]"
   ]
  },
  {
   "cell_type": "code",
   "execution_count": 66,
   "metadata": {},
   "outputs": [
    {
     "name": "stdout",
     "output_type": "stream",
     "text": [
      "Train Epoch: 4 [0/60000 (0%)]\tLoss: 189.154480\n",
      "Train Epoch: 4 [12800/60000 (21%)]\tLoss: 188.641403\n",
      "Train Epoch: 4 [25600/60000 (43%)]\tLoss: 188.868195\n",
      "Train Epoch: 4 [38400/60000 (64%)]\tLoss: 189.226257\n",
      "Train Epoch: 4 [51200/60000 (85%)]\tLoss: 188.799713\n",
      "====> Epoch: 4 Average loss: 188.9718\n",
      "Train Epoch: 5 [0/60000 (0%)]\tLoss: 188.615677\n",
      "Train Epoch: 5 [12800/60000 (21%)]\tLoss: 188.987137\n",
      "Train Epoch: 5 [25600/60000 (43%)]\tLoss: 189.601944\n",
      "Train Epoch: 5 [38400/60000 (64%)]\tLoss: 188.661209\n",
      "Train Epoch: 5 [51200/60000 (85%)]\tLoss: 189.133759\n",
      "====> Epoch: 5 Average loss: 188.9707\n",
      "Train Epoch: 6 [0/60000 (0%)]\tLoss: 188.912766\n",
      "Train Epoch: 6 [12800/60000 (21%)]\tLoss: 188.969727\n",
      "Train Epoch: 6 [25600/60000 (43%)]\tLoss: 189.306595\n",
      "Train Epoch: 6 [38400/60000 (64%)]\tLoss: 189.097458\n",
      "Train Epoch: 6 [51200/60000 (85%)]\tLoss: 189.095093\n",
      "====> Epoch: 6 Average loss: 188.9699\n"
     ]
    },
    {
     "data": {
      "image/png": "[encoded data removed]",
      "text/plain": [
       "<Figure size 1600x200 with 32 Axes>"
      ]
     },
     "metadata": {},
     "output_type": "display_data"
    }
   ],
   "source": [
    "for i in range(3,6): train(i+1)\n",
    "x,y = next(iter(learner.data.val_dl))\n",
    "z = model(x)\n",
    "compare_batch(x,z[0].detach())"
   ]
  },
  {
   "cell_type": "code",
   "execution_count": 68,
   "metadata": {},
   "outputs": [
    {
     "name": "stdout",
     "output_type": "stream",
     "text": [
      "Train Epoch: 1 [0/60000 (0%)]\tLoss: 549.842896\n",
      "Train Epoch: 1 [12800/60000 (21%)]\tLoss: 187.940292\n",
      "Train Epoch: 1 [25600/60000 (43%)]\tLoss: 190.534714\n",
      "Train Epoch: 1 [38400/60000 (64%)]\tLoss: 187.140732\n",
      "Train Epoch: 1 [51200/60000 (85%)]\tLoss: 187.751999\n",
      "====> Epoch: 1 Average loss: 191.6934\n",
      "Train Epoch: 2 [0/60000 (0%)]\tLoss: 188.488739\n",
      "Train Epoch: 2 [12800/60000 (21%)]\tLoss: 187.909744\n",
      "Train Epoch: 2 [25600/60000 (43%)]\tLoss: 191.537766\n",
      "Train Epoch: 2 [38400/60000 (64%)]\tLoss: 189.849686\n",
      "Train Epoch: 2 [51200/60000 (85%)]\tLoss: 188.942276\n",
      "====> Epoch: 2 Average loss: 189.4090\n",
      "Train Epoch: 3 [0/60000 (0%)]\tLoss: 187.391159\n",
      "Train Epoch: 3 [12800/60000 (21%)]\tLoss: 189.502975\n",
      "Train Epoch: 3 [25600/60000 (43%)]\tLoss: 189.077652\n",
      "Train Epoch: 3 [38400/60000 (64%)]\tLoss: 188.673752\n",
      "Train Epoch: 3 [51200/60000 (85%)]\tLoss: 189.236053\n",
      "====> Epoch: 3 Average loss: 189.1310\n"
     ]
    }
   ],
   "source": [
    "device = torch.device(\"cuda\" if torch.cuda.is_available() else \"cpu\")\n",
    "model  = VAE().to(device)\n",
    "optimizer = optim.Adam(model.parameters(), lr=1e-3)\n",
    "\n",
    "def loss_function(recon_x, data, mu, logvar):\n",
    "    BCE = F.binary_cross_entropy(recon_x.view(-1, 784), x.view(-1, 784), \n",
    "                                 size_average=False)\n",
    "    KLD = -0.5 * torch.sum(1 + logvar - mu.pow(2) - logvar.exp())\n",
    "    return BCE + KLD\n",
    "\n",
    "def train(epoch, log_interval=800):\n",
    "    model.train()\n",
    "    train_loss = 0\n",
    "    for batch_idx, (data, _) in enumerate(train_loader):\n",
    "        data = data.to(device)\n",
    "        optimizer.zero_grad()\n",
    "        recon_batch, mu, logvar = model(data)\n",
    "        loss = loss_function(recon_batch, data, mu, logvar)\n",
    "        loss.backward()\n",
    "        train_loss += loss.item()\n",
    "        optimizer.step()\n",
    "        if batch_idx % log_interval == 0:\n",
    "            print('Train Epoch: {} [{}/{} ({:.0f}%)]\\tLoss: {:.6f}'.format(\n",
    "                epoch, batch_idx * len(data), len(train_loader.dataset),\n",
    "                100. * batch_idx / len(train_loader),\n",
    "                loss.item() / len(data)))\n",
    "\n",
    "    print('====> Epoch: {} Average loss: {:.4f}'.format(\n",
    "          epoch, train_loss / len(train_loader.dataset)))\n",
    "    \n",
    "for i in range(3): train(i+1)"
   ]
  },
  {
   "cell_type": "code",
   "execution_count": 78,
   "metadata": {},
   "outputs": [
    {
     "data": {
      "image/png": "[encoded data removed]",
      "text/plain": [
       "<Figure size 1600x200 with 32 Axes>"
      ]
     },
     "metadata": {},
     "output_type": "display_data"
    }
   ],
   "source": [
    "x,y = next(iter(learner.data.val_dl))\n",
    "z = model(x)\n",
    "compare_batch(x,z[0].detach())"
   ]
  },
  {
   "cell_type": "code",
   "execution_count": 70,
   "metadata": {},
   "outputs": [
    {
     "data": {
      "text/plain": [
       "tensor(1.00000e-02 *\n",
       "       [[-1.4008, -0.3753,  0.3490, -1.1406,  0.5631,  0.0779,  0.2010,\n",
       "          0.2237, -0.0200, -0.7035, -1.1892, -0.4002,  1.2954, -0.5272,\n",
       "          0.1966,  0.8854, -0.2530,  0.1620,  0.6145, -1.2499],\n",
       "        [-1.4008, -0.3753,  0.3490, -1.1406,  0.5631,  0.0779,  0.2010,\n",
       "          0.2237, -0.0200, -0.7035, -1.1892, -0.4002,  1.2954, -0.5272,\n",
       "          0.1966,  0.8854, -0.2530,  0.1620,  0.6145, -1.2499],\n",
       "        [-1.4008, -0.3753,  0.3490, -1.1406,  0.5631,  0.0779,  0.2010,\n",
       "          0.2237, -0.0200, -0.7035, -1.1892, -0.4002,  1.2954, -0.5272,\n",
       "          0.1966,  0.8854, -0.2530,  0.1620,  0.6145, -1.2499],\n",
       "        [-1.4008, -0.3753,  0.3490, -1.1406,  0.5631,  0.0779,  0.2010,\n",
       "          0.2237, -0.0200, -0.7035, -1.1892, -0.4002,  1.2954, -0.5272,\n",
       "          0.1966,  0.8854, -0.2530,  0.1620,  0.6145, -1.2499],\n",
       "        [-1.4008, -0.3753,  0.3490, -1.1406,  0.5631,  0.0779,  0.2010,\n",
       "          0.2237, -0.0200, -0.7035, -1.1892, -0.4002,  1.2954, -0.5272,\n",
       "          0.1966,  0.8854, -0.2530,  0.1620,  0.6145, -1.2499],\n",
       "        [-1.4008, -0.3753,  0.3490, -1.1406,  0.5631,  0.0779,  0.2010,\n",
       "          0.2237, -0.0200, -0.7035, -1.1892, -0.4002,  1.2954, -0.5272,\n",
       "          0.1966,  0.8854, -0.2530,  0.1620,  0.6145, -1.2499],\n",
       "        [-1.4008, -0.3753,  0.3490, -1.1406,  0.5631,  0.0779,  0.2010,\n",
       "          0.2237, -0.0200, -0.7035, -1.1892, -0.4002,  1.2954, -0.5272,\n",
       "          0.1966,  0.8854, -0.2530,  0.1620,  0.6145, -1.2499],\n",
       "        [-1.4008, -0.3753,  0.3490, -1.1406,  0.5631,  0.0779,  0.2010,\n",
       "          0.2237, -0.0200, -0.7035, -1.1892, -0.4002,  1.2954, -0.5272,\n",
       "          0.1966,  0.8854, -0.2530,  0.1620,  0.6145, -1.2499],\n",
       "        [-1.4008, -0.3753,  0.3490, -1.1406,  0.5631,  0.0779,  0.2010,\n",
       "          0.2237, -0.0200, -0.7035, -1.1892, -0.4002,  1.2954, -0.5272,\n",
       "          0.1966,  0.8854, -0.2530,  0.1620,  0.6145, -1.2499],\n",
       "        [-1.4008, -0.3753,  0.3490, -1.1406,  0.5631,  0.0779,  0.2010,\n",
       "          0.2237, -0.0200, -0.7035, -1.1892, -0.4002,  1.2954, -0.5272,\n",
       "          0.1966,  0.8854, -0.2530,  0.1620,  0.6145, -1.2499],\n",
       "        [-1.4008, -0.3753,  0.3490, -1.1406,  0.5631,  0.0779,  0.2010,\n",
       "          0.2237, -0.0200, -0.7035, -1.1892, -0.4002,  1.2954, -0.5272,\n",
       "          0.1966,  0.8854, -0.2530,  0.1620,  0.6145, -1.2499],\n",
       "        [-1.4008, -0.3753,  0.3490, -1.1406,  0.5631,  0.0779,  0.2010,\n",
       "          0.2237, -0.0200, -0.7035, -1.1892, -0.4002,  1.2954, -0.5272,\n",
       "          0.1966,  0.8854, -0.2530,  0.1620,  0.6145, -1.2499],\n",
       "        [-1.4008, -0.3753,  0.3490, -1.1406,  0.5631,  0.0779,  0.2010,\n",
       "          0.2237, -0.0200, -0.7035, -1.1892, -0.4002,  1.2954, -0.5272,\n",
       "          0.1966,  0.8854, -0.2530,  0.1620,  0.6145, -1.2499],\n",
       "        [-1.4008, -0.3753,  0.3490, -1.1406,  0.5631,  0.0779,  0.2010,\n",
       "          0.2237, -0.0200, -0.7035, -1.1892, -0.4002,  1.2954, -0.5272,\n",
       "          0.1966,  0.8854, -0.2530,  0.1620,  0.6145, -1.2499],\n",
       "        [-1.4008, -0.3753,  0.3490, -1.1406,  0.5631,  0.0779,  0.2010,\n",
       "          0.2237, -0.0200, -0.7035, -1.1892, -0.4002,  1.2954, -0.5272,\n",
       "          0.1966,  0.8854, -0.2530,  0.1620,  0.6145, -1.2499],\n",
       "        [-1.4008, -0.3753,  0.3490, -1.1406,  0.5631,  0.0779,  0.2010,\n",
       "          0.2237, -0.0200, -0.7035, -1.1892, -0.4002,  1.2954, -0.5272,\n",
       "          0.1966,  0.8854, -0.2530,  0.1620,  0.6145, -1.2499]])"
      ]
     },
     "execution_count": 70,
     "metadata": {},
     "output_type": "execute_result"
    }
   ],
   "source": [
    "z[1]"
   ]
  },
  {
   "cell_type": "code",
   "execution_count": 71,
   "metadata": {},
   "outputs": [
    {
     "data": {
      "text/plain": [
       "tensor(1.00000e-02 *\n",
       "       [[-1.0451, -2.3727, -3.0123, -1.3997, -2.3806, -1.0858, -2.4198,\n",
       "         -2.6059, -2.0443, -3.4761, -2.8585, -2.3489, -2.4500, -2.2704,\n",
       "         -3.6256, -1.9224, -0.5237, -0.7909, -2.5747, -2.9888],\n",
       "        [-1.0451, -2.3727, -3.0123, -1.3997, -2.3806, -1.0858, -2.4198,\n",
       "         -2.6059, -2.0443, -3.4761, -2.8585, -2.3489, -2.4500, -2.2704,\n",
       "         -3.6256, -1.9224, -0.5237, -0.7909, -2.5747, -2.9888],\n",
       "        [-1.0451, -2.3727, -3.0123, -1.3997, -2.3806, -1.0858, -2.4198,\n",
       "         -2.6059, -2.0443, -3.4761, -2.8585, -2.3489, -2.4500, -2.2704,\n",
       "         -3.6256, -1.9224, -0.5237, -0.7909, -2.5747, -2.9888],\n",
       "        [-1.0451, -2.3727, -3.0123, -1.3997, -2.3806, -1.0858, -2.4198,\n",
       "         -2.6059, -2.0443, -3.4761, -2.8585, -2.3489, -2.4500, -2.2704,\n",
       "         -3.6256, -1.9224, -0.5237, -0.7909, -2.5747, -2.9888],\n",
       "        [-1.0451, -2.3727, -3.0123, -1.3997, -2.3806, -1.0858, -2.4198,\n",
       "         -2.6059, -2.0443, -3.4761, -2.8585, -2.3489, -2.4500, -2.2704,\n",
       "         -3.6256, -1.9224, -0.5237, -0.7909, -2.5747, -2.9888],\n",
       "        [-1.0451, -2.3727, -3.0123, -1.3997, -2.3806, -1.0858, -2.4198,\n",
       "         -2.6059, -2.0443, -3.4761, -2.8585, -2.3489, -2.4500, -2.2704,\n",
       "         -3.6256, -1.9224, -0.5237, -0.7909, -2.5747, -2.9888],\n",
       "        [-1.0451, -2.3727, -3.0123, -1.3997, -2.3806, -1.0858, -2.4198,\n",
       "         -2.6059, -2.0443, -3.4761, -2.8585, -2.3489, -2.4500, -2.2704,\n",
       "         -3.6256, -1.9224, -0.5237, -0.7909, -2.5747, -2.9888],\n",
       "        [-1.0451, -2.3727, -3.0123, -1.3997, -2.3806, -1.0858, -2.4198,\n",
       "         -2.6059, -2.0443, -3.4761, -2.8585, -2.3489, -2.4500, -2.2704,\n",
       "         -3.6256, -1.9224, -0.5237, -0.7909, -2.5747, -2.9888],\n",
       "        [-1.0451, -2.3727, -3.0123, -1.3997, -2.3806, -1.0858, -2.4198,\n",
       "         -2.6059, -2.0443, -3.4761, -2.8585, -2.3489, -2.4500, -2.2704,\n",
       "         -3.6256, -1.9224, -0.5237, -0.7909, -2.5747, -2.9888],\n",
       "        [-1.0451, -2.3727, -3.0123, -1.3997, -2.3806, -1.0858, -2.4198,\n",
       "         -2.6059, -2.0443, -3.4761, -2.8585, -2.3489, -2.4500, -2.2704,\n",
       "         -3.6256, -1.9224, -0.5237, -0.7909, -2.5747, -2.9888],\n",
       "        [-1.0451, -2.3727, -3.0123, -1.3997, -2.3806, -1.0858, -2.4198,\n",
       "         -2.6059, -2.0443, -3.4761, -2.8585, -2.3489, -2.4500, -2.2704,\n",
       "         -3.6256, -1.9224, -0.5237, -0.7909, -2.5747, -2.9888],\n",
       "        [-1.0451, -2.3727, -3.0123, -1.3997, -2.3806, -1.0858, -2.4198,\n",
       "         -2.6059, -2.0443, -3.4761, -2.8585, -2.3489, -2.4500, -2.2704,\n",
       "         -3.6256, -1.9224, -0.5237, -0.7909, -2.5747, -2.9888],\n",
       "        [-1.0451, -2.3727, -3.0123, -1.3997, -2.3806, -1.0858, -2.4198,\n",
       "         -2.6059, -2.0443, -3.4761, -2.8585, -2.3489, -2.4500, -2.2704,\n",
       "         -3.6256, -1.9224, -0.5237, -0.7909, -2.5747, -2.9888],\n",
       "        [-1.0451, -2.3727, -3.0123, -1.3997, -2.3806, -1.0858, -2.4198,\n",
       "         -2.6059, -2.0443, -3.4761, -2.8585, -2.3489, -2.4500, -2.2704,\n",
       "         -3.6256, -1.9224, -0.5237, -0.7909, -2.5747, -2.9888],\n",
       "        [-1.0451, -2.3727, -3.0123, -1.3997, -2.3806, -1.0858, -2.4198,\n",
       "         -2.6059, -2.0443, -3.4761, -2.8585, -2.3489, -2.4500, -2.2704,\n",
       "         -3.6256, -1.9224, -0.5237, -0.7909, -2.5747, -2.9888],\n",
       "        [-1.0451, -2.3727, -3.0123, -1.3997, -2.3806, -1.0858, -2.4198,\n",
       "         -2.6059, -2.0443, -3.4761, -2.8585, -2.3489, -2.4500, -2.2704,\n",
       "         -3.6256, -1.9224, -0.5237, -0.7909, -2.5747, -2.9888]])"
      ]
     },
     "execution_count": 71,
     "metadata": {},
     "output_type": "execute_result"
    }
   ],
   "source": [
    "z[2]"
   ]
  },
  {
   "cell_type": "code",
   "execution_count": 72,
   "metadata": {},
   "outputs": [
    {
     "data": {
      "text/plain": [
       "VAE(\n",
       "  (fc1): Linear(in_features=784, out_features=400, bias=True)\n",
       "  (fc21): Linear(in_features=400, out_features=20, bias=True)\n",
       "  (fc22): Linear(in_features=400, out_features=20, bias=True)\n",
       "  (fc3): Linear(in_features=20, out_features=400, bias=True)\n",
       "  (fc4): Linear(in_features=400, out_features=784, bias=True)\n",
       ")"
      ]
     },
     "execution_count": 72,
     "metadata": {},
     "output_type": "execute_result"
    }
   ],
   "source": [
    "model"
   ]
  },
  {
   "cell_type": "code",
   "execution_count": null,
   "metadata": {
    "collapsed": true
   },
   "outputs": [],
   "source": []
  },
  {
   "cell_type": "code",
   "execution_count": null,
   "metadata": {
    "collapsed": true
   },
   "outputs": [],
   "source": []
  },
  {
   "cell_type": "code",
   "execution_count": null,
   "metadata": {
    "collapsed": true
   },
   "outputs": [],
   "source": []
  },
  {
   "cell_type": "code",
   "execution_count": null,
   "metadata": {
    "collapsed": true
   },
   "outputs": [],
   "source": []
  },
  {
   "cell_type": "code",
   "execution_count": null,
   "metadata": {
    "collapsed": true
   },
   "outputs": [],
   "source": []
  },
  {
   "cell_type": "code",
   "execution_count": null,
   "metadata": {
    "collapsed": true
   },
   "outputs": [],
   "source": []
  },
  {
   "cell_type": "code",
   "execution_count": null,
   "metadata": {
    "collapsed": true
   },
   "outputs": [],
   "source": []
  },
  {
   "cell_type": "code",
   "execution_count": null,
   "metadata": {
    "collapsed": true
   },
   "outputs": [],
   "source": []
  },
  {
   "cell_type": "code",
   "execution_count": null,
   "metadata": {
    "collapsed": true
   },
   "outputs": [],
   "source": []
  },
  {
   "cell_type": "code",
   "execution_count": null,
   "metadata": {
    "collapsed": true
   },
   "outputs": [],
   "source": []
  },
  {
   "cell_type": "code",
   "execution_count": null,
   "metadata": {
    "collapsed": true
   },
   "outputs": [],
   "source": []
  },
  {
   "cell_type": "code",
   "execution_count": null,
   "metadata": {
    "collapsed": true
   },
   "outputs": [],
   "source": []
  },
  {
   "cell_type": "code",
   "execution_count": null,
   "metadata": {
    "collapsed": true
   },
   "outputs": [],
   "source": []
  },
  {
   "cell_type": "code",
   "execution_count": null,
   "metadata": {
    "collapsed": true
   },
   "outputs": [],
   "source": []
  },
  {
   "cell_type": "code",
   "execution_count": null,
   "metadata": {
    "collapsed": true
   },
   "outputs": [],
   "source": []
  },
  {
   "cell_type": "code",
   "execution_count": null,
   "metadata": {
    "collapsed": true
   },
   "outputs": [],
   "source": []
  },
  {
   "cell_type": "code",
   "execution_count": null,
   "metadata": {
    "collapsed": true
   },
   "outputs": [],
   "source": []
  },
  {
   "cell_type": "code",
   "execution_count": null,
   "metadata": {
    "collapsed": true
   },
   "outputs": [],
   "source": []
  },
  {
   "cell_type": "code",
   "execution_count": null,
   "metadata": {
    "collapsed": true
   },
   "outputs": [],
   "source": []
  },
  {
   "cell_type": "code",
   "execution_count": null,
   "metadata": {
    "collapsed": true
   },
   "outputs": [],
   "source": []
  },
  {
   "cell_type": "code",
   "execution_count": null,
   "metadata": {
    "collapsed": true
   },
   "outputs": [],
   "source": []
  }
 ],
 "metadata": {
  "kernelspec": {
   "display_name": "Python 3 (FastAI)",
   "language": "python",
   "name": "fastai"
  },
  "language_info": {
   "codemirror_mode": {
    "name": "ipython",
    "version": 3
   },
   "file_extension": ".py",
   "mimetype": "text/x-python",
   "name": "python",
   "nbconvert_exporter": "python",
   "pygments_lexer": "ipython3",
   "version": "3.6.6"
  }
 },
 "nbformat": 4,
 "nbformat_minor": 2
}
