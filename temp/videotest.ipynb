{
 "cells": [
  {
   "cell_type": "markdown",
   "metadata": {},
   "source": [
    "## 2.6 Cruise Analysis\n",
    "\n",
    "WNixalo – 2018/9/16"
   ]
  },
  {
   "cell_type": "code",
   "execution_count": 1,
   "metadata": {},
   "outputs": [],
   "source": [
    "import numpy as np"
   ]
  },
  {
   "cell_type": "markdown",
   "metadata": {},
   "source": [
    "## Notes"
   ]
  },
  {
   "cell_type": "markdown",
   "metadata": {},
   "source": [
    "Stead level flight: $L = W;~ T = D~;$ lift, weight, and thrust are functions of time. Drag dependent on the amount of lift produced.\n",
    "\n",
    "Overall efficiency of a propulsive system:\n",
    "$\\eta_o \\equiv \\mathrm{\\frac{propuslive\\ power\\ produced\\ by\\ propulsive\\ system}{power\\ supplied\\ to\\ propulsive\\ system}}$\n",
    "\n",
    "$TV_∞$: propusive power produced in steady level flight (thrust force `X` distance `/` unit time gives thrust work rate).\n",
    "\n",
    "For given fuel, heat release during combustion: $Q_R$ per unit mass of fuel.\n",
    "\n",
    "$\\dot{m}_fQ_R$: power supplied to propulsive system.\n",
    "\n",
    "$\\dot{m}_f$: fuel mass flow rate.\n",
    "\n",
    "$\\eta_o = \\frac{TV_∞}{\\dot{m}_fQ_R}$ : **Overall propuslive system efficiency**\n",
    "\n",
    "Rate of change of total aircraft weight: $Δ_tW = -g\\dot{m}_f = -\\frac{gTV_∞}{\\eta_oQ_R}$\n",
    "\n",
    "$T = D$ and $W/L = 1$ in steady level flight. So $T = W D/L~$ gives: $Δ_tW = - \\dfrac{g}{\\eta_oQ_RL/D}WV_∞$\n",
    "\n",
    "Multiplying by $\\mathrm{d}t/W~$ gives: $\\frac{\\mathrm{d}W}{W} = - \\frac{g}{\\eta_oQ_RL/D}V_∞\\mathrm{d}t$\n",
    "\n",
    "Or equivalently: $\\mathrm{d}R = - \\frac{\\mathrm{d}W}{W}\\frac{\\eta_oQ_RL/D}{g}$ $\\,\\,\\,\\,\\,\\,\\,$**`(2.75)`**\n",
    "\n",
    "**Note**: $\\frac{\\mathrm{d}x}{\\mathrm{d}t} \\equiv Δ_tx$\n",
    "\n",
    "$-\\mathrm{d}W/W~$ : fractional change in aircraft weight.\n",
    "\n",
    "Assuming $\\eta_o$ and $L/D$ constant, can integrate eqn **`(2.75)`** to produce the Breguet range equation:\n",
    "$$\\rm{R} = \\eta_o\\frac{L}{D}\\frac{Q_R}{g}\\ln\\left(\\frac{W_\\rm{initial}}{W_\\rm{final}}\\right)$$ which can be used to estimate the range of an aircraft for given estimates of $\\eta_o$, and $L/D$. The weight ration can be re-arranged to highlight the fuel weight used:\n",
    "\n",
    "$$\\frac{W_\\rm{i}}{W_\\rm{f}} = \\frac{W_\\rm{f} + W_\\rm{fuel}}{W_\\rm{f}} = 1 + \\frac{W_\\rm{fuel}}{W_\\rm{f}}$$\n",
    "\n",
    "$W_\\rm{f}$ is total final weight including fuel reserves; $W_\\rm{fuel}$ considers 'usable' fuel, not reserves.\n",
    "\n",
    "The Breguet range eqn produces good estimates of an aircraft's range if $\\eta_o$ and $L/D$ are seen as averages throughout cruise."
   ]
  },
  {
   "cell_type": "markdown",
   "metadata": {},
   "source": [
    "## 2.6.2 Embedded Question: Range estimate for a large commercial transport"
   ]
  },
  {
   "cell_type": "code",
   "execution_count": 18,
   "metadata": {},
   "outputs": [],
   "source": [
    "Wi    = 400000 # kg\n",
    "Wfuel = 175000 # kg\n",
    "ηo    = 0.32   # [–]\n",
    "LD    = 17     # [–]\n",
    "QR    = 42     # MJ/kg\n",
    "g     = 9.81   # m/s2"
   ]
  },
  {
   "cell_type": "markdown",
   "metadata": {},
   "source": [
    "Estimate the range (during cruise portion of flight) for this aircraft. Please use kilometers and provide an answer that has three digits of precision (of the form X.YZeP)."
   ]
  },
  {
   "cell_type": "code",
   "execution_count": 19,
   "metadata": {},
   "outputs": [],
   "source": [
    "Wf = Wi - Wfuel"
   ]
  },
  {
   "cell_type": "code",
   "execution_count": 25,
   "metadata": {},
   "outputs": [],
   "source": [
    "efficiency = ηo\n",
    "heat_prod  = QR * 1e6 # convert MJ/kg to J/kg"
   ]
  },
  {
   "cell_type": "code",
   "execution_count": 34,
   "metadata": {},
   "outputs": [
    {
     "data": {
      "text/plain": [
       "13400530.05377837"
      ]
     },
     "execution_count": 34,
     "metadata": {},
     "output_type": "execute_result"
    }
   ],
   "source": [
    "R = efficiency * (LD) * (heat_prod/g) * np.log(Wi/Wf)\n",
    "R # in meters"
   ]
  },
  {
   "cell_type": "code",
   "execution_count": 35,
   "metadata": {},
   "outputs": [
    {
     "data": {
      "text/plain": [
       "13400.530053778371"
      ]
     },
     "execution_count": 35,
     "metadata": {},
     "output_type": "execute_result"
    }
   ],
   "source": [
    "R/=1e3 # convert m to km\n",
    "R"
   ]
  },
  {
   "cell_type": "code",
   "execution_count": 36,
   "metadata": {},
   "outputs": [
    {
     "data": {
      "text/plain": [
       "13400.0"
      ]
     },
     "execution_count": 36,
     "metadata": {},
     "output_type": "execute_result"
    }
   ],
   "source": [
    "1.34e4"
   ]
  },
  {
   "cell_type": "markdown",
   "metadata": {},
   "source": [
    "## 2.6.3 Assumptions in Breguet range analysis"
   ]
  },
  {
   "cell_type": "code",
   "execution_count": 39,
   "metadata": {
    "scrolled": false
   },
   "outputs": [
    {
     "data": {
      "text/html": [
       "<iframe width=\"600\" height=\"400\" src=\"https://www.youtube.com/embed/79-MWRol3Sc\" frameborder=\"0\" allow=\"autoplay; encrypted-media\" allowfullscreen></iframe>"
      ],
      "text/plain": [
       "<IPython.core.display.HTML object>"
      ]
     },
     "execution_count": 39,
     "metadata": {},
     "output_type": "execute_result"
    }
   ],
   "source": [
    "from IPython.display import HTML\n",
    "HTML('<iframe width=\"600\" height=\"400\" src=\"https://www.youtube.com/embed/79-MWRol3Sc\" frameborder=\"0\" allow=\"autoplay; encrypted-media\" allowfullscreen></iframe>')"
   ]
  },
  {
   "cell_type": "code",
   "execution_count": null,
   "metadata": {},
   "outputs": [],
   "source": []
  }
 ],
 "metadata": {
  "kernelspec": {
   "display_name": "Python 3 (FastAI)",
   "language": "python",
   "name": "fastai"
  },
  "language_info": {
   "codemirror_mode": {
    "name": "ipython",
    "version": 3
   },
   "file_extension": ".py",
   "mimetype": "text/x-python",
   "name": "python",
   "nbconvert_exporter": "python",
   "pygments_lexer": "ipython3",
   "version": "3.6.6"
  }
 },
 "nbformat": 4,
 "nbformat_minor": 2
}
