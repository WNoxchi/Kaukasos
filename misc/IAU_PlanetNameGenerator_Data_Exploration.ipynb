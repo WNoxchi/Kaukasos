{
 "cells": [
  {
   "cell_type": "code",
   "execution_count": 2,
   "metadata": {},
   "outputs": [],
   "source": [
    "%matplotlib inline"
   ]
  },
  {
   "cell_type": "code",
   "execution_count": 3,
   "metadata": {},
   "outputs": [],
   "source": [
    "import pandas as pd"
   ]
  },
  {
   "cell_type": "code",
   "execution_count": 4,
   "metadata": {},
   "outputs": [],
   "source": [
    "PATH = 'data/'"
   ]
  },
  {
   "cell_type": "code",
   "execution_count": 5,
   "metadata": {},
   "outputs": [],
   "source": [
    "from glob import glob"
   ]
  },
  {
   "cell_type": "code",
   "execution_count": 6,
   "metadata": {},
   "outputs": [],
   "source": [
    "import os; import sys"
   ]
  },
  {
   "cell_type": "code",
   "execution_count": 13,
   "metadata": {},
   "outputs": [
    {
     "data": {
      "text/plain": [
       "['data/planetnames.rtf']"
      ]
     },
     "execution_count": 13,
     "metadata": {},
     "output_type": "execute_result"
    }
   ],
   "source": [
    "g = glob(PATH + f'planet*'); g"
   ]
  },
  {
   "cell_type": "code",
   "execution_count": 14,
   "metadata": {},
   "outputs": [
    {
     "data": {
      "text/plain": [
       "['HELLO', 'DUDE']"
      ]
     },
     "execution_count": 14,
     "metadata": {},
     "output_type": "execute_result"
    }
   ],
   "source": [
    "f'HELLO DUDE'.split(' ')"
   ]
  },
  {
   "cell_type": "code",
   "execution_count": 16,
   "metadata": {},
   "outputs": [
    {
     "data": {
      "text/plain": [
       "'planetnames.rtf'"
      ]
     },
     "execution_count": 16,
     "metadata": {},
     "output_type": "execute_result"
    }
   ],
   "source": [
    "fname = g[0].split('/')[1]; fname"
   ]
  },
  {
   "cell_type": "code",
   "execution_count": 54,
   "metadata": {},
   "outputs": [],
   "source": [
    "def reload_content():\n",
    "    with open(PATH + fname) as f:\n",
    "        content = f.readlines()\n",
    "    return content\n",
    "\n",
    "reload_content();"
   ]
  },
  {
   "cell_type": "code",
   "execution_count": 25,
   "metadata": {
    "collapsed": true
   },
   "outputs": [
    {
     "data": {
      "text/plain": [
       "['{\\\\rtf1\\\\ansi\\\\ansicpg1252\\\\cocoartf1561\\\\cocoasubrtf100\\n',\n",
       " '{\\\\fonttbl\\\\f0\\\\fmodern\\\\fcharset0 Courier;}\\n',\n",
       " '{\\\\colortbl;\\\\red255\\\\green255\\\\blue255;\\\\red0\\\\green0\\\\blue0;\\\\red255\\\\green255\\\\blue255;}\\n',\n",
       " '{\\\\*\\\\expandedcolortbl;;\\\\cssrgb\\\\c0\\\\c0\\\\c0;\\\\cssrgb\\\\c100000\\\\c100000\\\\c100000;}\\n',\n",
       " '\\\\margl1440\\\\margr1440\\\\vieww10460\\\\viewh9600\\\\viewkind0\\n',\n",
       " '\\\\deftab720\\n',\n",
       " '\\\\pard\\\\pardeftab720\\\\sl264\\\\partightenfactor0\\n',\n",
       " '\\n',\n",
       " '\\\\f0\\\\fs24 \\\\cf2 \\\\cb3 \\\\expnd0\\\\expndtw0\\\\kerning0\\n',\n",
       " \"\\\\outl0\\\\strokewidth0 \\\\strokec2 (388282) 'Akepa                        'Akepa\\\\\\n\",\n",
       " \"\\\\ul   (3192) A'Hearn                       A'Hearn\\\\ulnone \\\\\\n\",\n",
       " '  (3654) AAS                           AAS\\\\\\n',\n",
       " '  (8900) AAVSO                         AAVSO\\\\\\n',\n",
       " '  (8721) AMOS                          AMOS\\\\\\n',\n",
       " '  (9996) ANS                           ANS\\\\\\n',\n",
       " '(132524) APL                           APL\\\\\\n',\n",
       " ' (13830) ARLT                          ARLT\\\\\\n',\n",
       " ' (31531) ARRL                          ARRL\\\\\\n',\n",
       " '  (3568) ASCII                         ASCII\\\\\\n',\n",
       " '  (2848) ASP                           ASP\\\\\\n',\n",
       " ' (20813) Aakashshah                    Aakashshah\\\\\\n',\n",
       " ' (26557) Aakritijain                   Aakritijain\\\\\\n',\n",
       " ' (28698) Aakshi                        Aakshi\\\\\\n',\n",
       " ' (28828) Aalamiharandi                 Aalamiharandi\\\\\\n',\n",
       " ' (33181) Aalokpatwa                    Aalokpatwa\\\\\\n',\n",
       " '   (677) Aaltje                        Aaltje\\\\\\n',\n",
       " '  (2676) Aarhus                        Aarhus\\\\\\n',\n",
       " '(129100) Aaronammons                   Aaronammons\\\\\\n',\n",
       " ' (22656) Aaronburrows                  Aaronburrows\\\\\\n',\n",
       " ' (25677) Aaronenten                    Aaronenten\\\\\\n',\n",
       " ' (11451) Aarongolden                   Aarongolden\\\\\\n',\n",
       " ' (23113) Aaronhakim                    Aaronhakim\\\\\\n',\n",
       " ' (12553) Aaronritter                   Aaronritter\\\\\\n',\n",
       " ' (13928) Aaronrogers                   Aaronrogers\\\\\\n',\n",
       " ' (21933) Aaronrozon                    Aaronrozon\\\\\\n',\n",
       " ' (29812) Aaronsolomon                  Aaronsolomon\\\\\\n',\n",
       " '  (3277) Aaronson                      Aaronson\\\\\\n',\n",
       " ' (33448) Aaronyeiser                   Aaronyeiser\\\\\\n',\n",
       " '  (9836) Aarseth                       Aarseth\\\\\\n',\n",
       " '  (2366) Aaryn                         Aaryn\\\\\\n',\n",
       " '   (864) Aase                          Aase\\\\\\n',\n",
       " '  (2678) Aavasaksa                     Aavasaksa\\\\\\n',\n",
       " \"(274302) Abahazi                       Abah\\\\'e1zi\\\\\\n\",\n",
       " '  (4466) Abai                          Abai\\\\\\n',\n",
       " '  (2722) Abalakin                      Abalakin\\\\\\n',\n",
       " '  (1581) Abanderada                    Abanderada\\\\\\n',\n",
       " '  (3480) Abante                        Abante\\\\\\n',\n",
       " '  (4263) Abashiri                      Abashiri\\\\\\n',\n",
       " '  (1390) Abastumani                    Abastumani\\\\\\n',\n",
       " '  (5224) Abbe                          Abbe\\\\\\n']"
      ]
     },
     "execution_count": 25,
     "metadata": {},
     "output_type": "execute_result"
    }
   ],
   "source": [
    "content[:50]"
   ]
  },
  {
   "cell_type": "code",
   "execution_count": 33,
   "metadata": {},
   "outputs": [],
   "source": [
    "ctemp = content[:20]"
   ]
  },
  {
   "cell_type": "code",
   "execution_count": 35,
   "metadata": {},
   "outputs": [],
   "source": [
    "temp = 'somestring'"
   ]
  },
  {
   "cell_type": "code",
   "execution_count": 38,
   "metadata": {},
   "outputs": [
    {
     "data": {
      "text/plain": [
       "2"
      ]
     },
     "execution_count": 38,
     "metadata": {},
     "output_type": "execute_result"
    }
   ],
   "source": [
    "temp.count('s')"
   ]
  },
  {
   "cell_type": "code",
   "execution_count": 44,
   "metadata": {
    "collapsed": true
   },
   "outputs": [
    {
     "name": "stdout",
     "output_type": "stream",
     "text": [
      "False\n",
      "{\\rtf1\\ansi\\ansicpg1252\\cocoartf1561\\cocoasubrtf100\n",
      "\n",
      "False\n",
      "{\\fonttbl\\f0\\fmodern\\fcharset0 Courier;}\n",
      "\n",
      "False\n",
      "{\\colortbl;\\red255\\green255\\blue255;\\red0\\green0\\blue0;\\red255\\green255\\blue255;}\n",
      "\n",
      "False\n",
      "{\\*\\expandedcolortbl;;\\cssrgb\\c0\\c0\\c0;\\cssrgb\\c100000\\c100000\\c100000;}\n",
      "\n",
      "False\n",
      "\\margl1440\\margr1440\\vieww10460\\viewh9600\\viewkind0\n",
      "\n",
      "False\n",
      "\\deftab720\n",
      "\n",
      "False\n",
      "\\pard\\pardeftab720\\sl264\\partightenfactor0\n",
      "\n",
      "False\n",
      "\n",
      "\n",
      "False\n",
      "\\f0\\fs24 \\cf2 \\cb3 \\expnd0\\expndtw0\\kerning0\n",
      "\n",
      "True\n",
      "\\outl0\\strokewidth0 \\strokec2 (388282) 'Akepa                        'Akepa\\\n",
      "\n",
      "True\n",
      "\\ul   (3192) A'Hearn                       A'Hearn\\ulnone \\\n",
      "\n",
      "True\n",
      "  (3654) AAS                           AAS\\\n",
      "\n",
      "True\n",
      "  (8900) AAVSO                         AAVSO\\\n",
      "\n",
      "True\n",
      "  (8721) AMOS                          AMOS\\\n",
      "\n",
      "True\n",
      "  (9996) ANS                           ANS\\\n",
      "\n",
      "True\n",
      "(132524) APL                           APL\\\n",
      "\n",
      "True\n",
      " (13830) ARLT                          ARLT\\\n",
      "\n",
      "True\n",
      " (31531) ARRL                          ARRL\\\n",
      "\n",
      "True\n",
      "  (3568) ASCII                         ASCII\\\n",
      "\n",
      "True\n",
      "  (2848) ASP                           ASP\\\n",
      "\n"
     ]
    }
   ],
   "source": [
    "for line in ctemp:\n",
    "    print(f'{True if line.count(\"(\") > 0 else False}\\n{line}')"
   ]
  },
  {
   "cell_type": "code",
   "execution_count": 45,
   "metadata": {},
   "outputs": [],
   "source": [
    "import numpy as np"
   ]
  },
  {
   "cell_type": "code",
   "execution_count": null,
   "metadata": {},
   "outputs": [],
   "source": [
    "content = "
   ]
  },
  {
   "cell_type": "code",
   "execution_count": 46,
   "metadata": {},
   "outputs": [],
   "source": [
    "content = np.array(content)"
   ]
  },
  {
   "cell_type": "code",
   "execution_count": 47,
   "metadata": {},
   "outputs": [
    {
     "data": {
      "text/plain": [
       "(21167,)"
      ]
     },
     "execution_count": 47,
     "metadata": {},
     "output_type": "execute_result"
    }
   ],
   "source": [
    "content.shape"
   ]
  },
  {
   "cell_type": "code",
   "execution_count": 49,
   "metadata": {},
   "outputs": [],
   "source": [
    "content = content[np.where(line.count(\"(\") > 0 for line in content)]"
   ]
  },
  {
   "cell_type": "code",
   "execution_count": 55,
   "metadata": {},
   "outputs": [],
   "source": [
    "content = reload_content()"
   ]
  },
  {
   "cell_type": "code",
   "execution_count": 57,
   "metadata": {},
   "outputs": [],
   "source": [
    "content = np.array(content)"
   ]
  },
  {
   "cell_type": "code",
   "execution_count": 58,
   "metadata": {},
   "outputs": [
    {
     "data": {
      "text/plain": [
       "(21167,)"
      ]
     },
     "execution_count": 58,
     "metadata": {},
     "output_type": "execute_result"
    }
   ],
   "source": [
    "content.shape"
   ]
  },
  {
   "cell_type": "code",
   "execution_count": 63,
   "metadata": {},
   "outputs": [],
   "source": [
    "idxs = np.where([line.count(\"(\") > 0 for line in content])[0]"
   ]
  },
  {
   "cell_type": "code",
   "execution_count": 64,
   "metadata": {},
   "outputs": [
    {
     "data": {
      "text/plain": [
       "array([    9,    10,    11, ..., 21163, 21164, 21165])"
      ]
     },
     "execution_count": 64,
     "metadata": {},
     "output_type": "execute_result"
    }
   ],
   "source": [
    "idxs"
   ]
  },
  {
   "cell_type": "markdown",
   "metadata": {},
   "source": [
    "Looks like I made a mistake with how I was getting my indices... they were inside a 1D tuple for some reason.. oops."
   ]
  },
  {
   "cell_type": "code",
   "execution_count": 65,
   "metadata": {},
   "outputs": [],
   "source": [
    "content = content[np.where([line.count(\"(\") > 0 for line in content])[0]]"
   ]
  },
  {
   "cell_type": "code",
   "execution_count": 66,
   "metadata": {},
   "outputs": [
    {
     "data": {
      "text/plain": [
       "(21157,)"
      ]
     },
     "execution_count": 66,
     "metadata": {},
     "output_type": "execute_result"
    }
   ],
   "source": [
    "content.shape"
   ]
  },
  {
   "cell_type": "markdown",
   "metadata": {},
   "source": [
    "That shaved off only a few lines; but those are lines that didn't have a planet ID number in parens in them. I think I can treat the rest of the array as containing planet names now."
   ]
  },
  {
   "cell_type": "code",
   "execution_count": 67,
   "metadata": {},
   "outputs": [],
   "source": [
    "??np.random.randint"
   ]
  },
  {
   "cell_type": "code",
   "execution_count": 121,
   "metadata": {},
   "outputs": [
    {
     "data": {
      "text/plain": [
       "'   (781) Kartvelia                     Kartvelia\\\\\\n'"
      ]
     },
     "execution_count": 121,
     "metadata": {},
     "output_type": "execute_result"
    }
   ],
   "source": [
    "content[np.random.randint(0, len(content))]"
   ]
  },
  {
   "cell_type": "markdown",
   "metadata": {},
   "source": [
    "Ctrl-Tabbing the above line a few times, looks like the pattern is:\n",
    "\n",
    "(ID Number) PLANET_NAME  * looong space * PLANET_NAME \\\\\\n\n",
    "\n",
    "I can do a quick check to see if there are any planet names with a single space in them. After that I'll just grab whatever text string comes after the ID number and write that to a csv. Maybe I'll include the ID number just to be thorough.\n",
    "\n",
    "*NOTE*: I love that there's a planet 'Karvelia'. Somewhere out there's a Georgian astronomer with stellar aspirations :D"
   ]
  },
  {
   "cell_type": "code",
   "execution_count": 129,
   "metadata": {},
   "outputs": [
    {
     "data": {
      "text/plain": [
       "['\\\\outl0\\\\strokewidth0',\n",
       " '\\\\strokec2',\n",
       " '(388282)',\n",
       " \"'Akepa\",\n",
       " '',\n",
       " '',\n",
       " '',\n",
       " '',\n",
       " '',\n",
       " '',\n",
       " '',\n",
       " '',\n",
       " '',\n",
       " '',\n",
       " '',\n",
       " '',\n",
       " '',\n",
       " '',\n",
       " '',\n",
       " '',\n",
       " '',\n",
       " '',\n",
       " '',\n",
       " '',\n",
       " '',\n",
       " '',\n",
       " '',\n",
       " \"'Akepa\\\\\\n\"]"
      ]
     },
     "execution_count": 129,
     "metadata": {},
     "output_type": "execute_result"
    }
   ],
   "source": [
    "temp = content[0].split(' '); temp"
   ]
  },
  {
   "cell_type": "code",
   "execution_count": 130,
   "metadata": {},
   "outputs": [
    {
     "data": {
      "text/plain": [
       "['\\\\outl0\\\\strokewidth0', '\\\\strokec2', '(388282)', \"'Akepa\", \"'Akepa\\\\\\n\"]"
      ]
     },
     "execution_count": 130,
     "metadata": {},
     "output_type": "execute_result"
    }
   ],
   "source": [
    "temp = [elem for elem in temp if elem != '']; temp"
   ]
  },
  {
   "cell_type": "code",
   "execution_count": 131,
   "metadata": {},
   "outputs": [
    {
     "data": {
      "text/plain": [
       "(\"'Akepa\", \"'Akepa\\\\\\n\")"
      ]
     },
     "execution_count": 131,
     "metadata": {},
     "output_type": "execute_result"
    }
   ],
   "source": [
    "temp[-2], temp[-1]"
   ]
  },
  {
   "cell_type": "code",
   "execution_count": 132,
   "metadata": {},
   "outputs": [
    {
     "data": {
      "text/plain": [
       "6"
      ]
     },
     "execution_count": 132,
     "metadata": {},
     "output_type": "execute_result"
    }
   ],
   "source": [
    "len(temp[-2])"
   ]
  },
  {
   "cell_type": "markdown",
   "metadata": {},
   "source": [
    "Idea: count the number of elements after the ID string index. If it's greater than 2, we have a name split by a space."
   ]
  },
  {
   "cell_type": "code",
   "execution_count": 186,
   "metadata": {},
   "outputs": [],
   "source": [
    "check = [[token for token in line if token != ''][-3][0] == '(' for line in content]"
   ]
  },
  {
   "cell_type": "code",
   "execution_count": 198,
   "metadata": {},
   "outputs": [
    {
     "name": "stdout",
     "output_type": "stream",
     "text": [
      "line:\n",
      "['\\\\outl0\\\\strokewidth0', '\\\\strokec2', '(388282)', \"'Akepa\", '', '', '', '', '', '', '', '', '', '', '', '', '', '', '', '', '', '', '', '', '', '', '', \"'Akepa\\\\\\n\"]\n",
      "\n",
      "tokens:\n",
      "['\\\\outl0\\\\strokewidth0', '\\\\strokec2', '(388282)', \"'Akepa\", \"'Akepa\\\\\\n\"]\n",
      "\n",
      "space:\n",
      "False\n"
     ]
    }
   ],
   "source": [
    "line = content[0].split(' '); line\n",
    "tokens = [token for token in line if token != '']\n",
    "is_space = tokens[-3][0] != '('\n",
    "\n",
    "print(f'line:\\n{line}\\n\\ntokens:\\n{tokens}\\n\\nspace:\\n{is_space}')"
   ]
  },
  {
   "cell_type": "code",
   "execution_count": 204,
   "metadata": {},
   "outputs": [],
   "source": [
    "spc_idxs = []\n",
    "for idx, line in enumerate(content):\n",
    "    tokens = [token for token in line.split(' ') if token != '']\n",
    "    if tokens [-3][0] != '(':\n",
    "        spc_idxs.append(idx)"
   ]
  },
  {
   "cell_type": "code",
   "execution_count": 206,
   "metadata": {},
   "outputs": [
    {
     "data": {
      "text/plain": [
       "511"
      ]
     },
     "execution_count": 206,
     "metadata": {},
     "output_type": "execute_result"
    }
   ],
   "source": [
    "len(spc_idxs)\n",
    "# spc_idxs[0]"
   ]
  },
  {
   "cell_type": "markdown",
   "metadata": {},
   "source": [
    "There are 511 of these names? Let's see."
   ]
  },
  {
   "cell_type": "code",
   "execution_count": 208,
   "metadata": {},
   "outputs": [
    {
     "data": {
      "text/plain": [
       "'  (1677) Tycho Brahe                   Tycho Brahe\\\\\\n'"
      ]
     },
     "execution_count": 208,
     "metadata": {},
     "output_type": "execute_result"
    }
   ],
   "source": [
    "content[np.random.choice(spc_idxs)]"
   ]
  },
  {
   "cell_type": "markdown",
   "metadata": {},
   "source": [
    "Ah, there's one."
   ]
  },
  {
   "cell_type": "code",
   "execution_count": 228,
   "metadata": {},
   "outputs": [
    {
     "data": {
      "text/plain": [
       "'  (1781) Van Biesbroeck                Van Biesbroeck\\\\\\n'"
      ]
     },
     "execution_count": 228,
     "metadata": {},
     "output_type": "execute_result"
    }
   ],
   "source": [
    "content[np.random.choice(spc_idxs)]"
   ]
  },
  {
   "cell_type": "markdown",
   "metadata": {},
   "source": [
    "Okay here's what I'll do. Go through all these indices, keep track of the first token after the ID number, and take all the tokens after it until I see that same string again. This will ignore names like 'Make Make\" (if I got that right), but... whatever."
   ]
  },
  {
   "cell_type": "code",
   "execution_count": 252,
   "metadata": {},
   "outputs": [],
   "source": [
    "df_line = []\n",
    "line = content[0]\n",
    "# break line into tokens, remove empty strings; find idx of ID token\n",
    "tokens = [token for token in line.split(' ') if token != '']\n",
    "for idx, token in enumerate(tokens):\n",
    "    if token[0] == '(':\n",
    "        start_idx = idx\n",
    "        break\n",
    "# comma-join ID-Number and first name token\n",
    "new_line = ','.join((tokens[start_idx], tokens[start_idx+1]))\n",
    "namelen = len(tokens[start_idx+1]) # used to identify repeat\n",
    "# space-join all name tokens after first, until see first again\n",
    "for token in tokens[start_idx+2:]:\n",
    "    if len(token) > namelen and token[:namelen] == tokens[start_idx+1]:\n",
    "        break\n",
    "    new_line = ' '.join((newline, token))\n",
    "df_line.append(new_line)"
   ]
  },
  {
   "cell_type": "code",
   "execution_count": 253,
   "metadata": {},
   "outputs": [
    {
     "name": "stdout",
     "output_type": "stream",
     "text": [
      "[\"\\\\outl0\\\\strokewidth0 \\\\strokec2 (388282) 'Akepa                        'Akepa\\\\\\n\"]\n",
      "['\\\\outl0\\\\strokewidth0', '\\\\strokec2', '(388282)', \"'Akepa\", \"'Akepa\\\\\\n\"]\n",
      "namelen: 6\n",
      "(388282),'Akepa\n",
      "[\"(388282),'Akepa\"]\n"
     ]
    }
   ],
   "source": [
    "print(f'{[line]}\\n{tokens}\\nnamelen: {namelen}\\n{new_line}\\n{df_line}')"
   ]
  },
  {
   "cell_type": "markdown",
   "metadata": {},
   "source": [
    "Looks good. Let's put it to work."
   ]
  },
  {
   "cell_type": "code",
   "execution_count": 293,
   "metadata": {},
   "outputs": [],
   "source": [
    "def get_name_id(line):\n",
    "    \"\"\"Get CSV ID and Planet Name\n",
    "    \n",
    "    Parameters\n",
    "    ----------\n",
    "    line : string\n",
    "        text line from IAU Minor Planet Names list. See: http://www.minorplanetcenter.net/iau/lists/MPNames.html\n",
    "        \n",
    "    Returns\n",
    "    -------\n",
    "    new_line : string\n",
    "        Comma-Separated Value of PLANET_ID,PLANET_NAME\"\"\"\n",
    "    # break line into tokens, remove empty strings; find idx of ID token\n",
    "    tokens = [token for token in line.split(' ') if token != '']\n",
    "    for idx, token in enumerate(tokens):\n",
    "        if token[0] == '(':\n",
    "            start_idx = idx\n",
    "            break\n",
    "    # comma-join ID-Number and first name token\n",
    "    new_line = ','.join((tokens[start_idx], tokens[start_idx+1]))\n",
    "    namelen = len(tokens[start_idx+1]) # used to identify repeat\n",
    "    # space-join all name tokens after first, until see first again\n",
    "    for token in tokens[start_idx+2:]:\n",
    "        if len(token) > namelen and token[:namelen] == tokens[start_idx+1]:\n",
    "            break\n",
    "        new_line = ' '.join((new_line, token))\n",
    "        \n",
    "        # cut new_line at first index of `\\` if it exists\n",
    "        new_line = new_line[:new_line.index('\\\\')] if '\\\\' in new_line else new_line\n",
    "        \n",
    "    return new_line"
   ]
  },
  {
   "cell_type": "markdown",
   "metadata": {},
   "source": [
    "Result after fixing code to check for backslashes in names:"
   ]
  },
  {
   "cell_type": "code",
   "execution_count": 322,
   "metadata": {},
   "outputs": [
    {
     "data": {
      "text/plain": [
       "'(274302),Abahazi Abah'"
      ]
     },
     "execution_count": 322,
     "metadata": {},
     "output_type": "execute_result"
    }
   ],
   "source": [
    "csv_content = [get_name_id(line) for line in content]\n",
    "csv_content[33]"
   ]
  },
  {
   "cell_type": "markdown",
   "metadata": {},
   "source": [
    "First run through with the function above. Had an issue with backslashes appearing in names -- My code wasn't looking for that case."
   ]
  },
  {
   "cell_type": "code",
   "execution_count": 282,
   "metadata": {},
   "outputs": [],
   "source": [
    "csv_content = [get_name_id(line) for line in content]"
   ]
  },
  {
   "cell_type": "code",
   "execution_count": 289,
   "metadata": {},
   "outputs": [
    {
     "data": {
      "text/plain": [
       "True"
      ]
     },
     "execution_count": 289,
     "metadata": {},
     "output_type": "execute_result"
    }
   ],
   "source": [
    "'\\\\' in temp"
   ]
  },
  {
   "cell_type": "code",
   "execution_count": 291,
   "metadata": {},
   "outputs": [],
   "source": [
    "temp = temp[:temp.index('\\\\')] if '\\\\' in temp else temp"
   ]
  },
  {
   "cell_type": "code",
   "execution_count": 292,
   "metadata": {},
   "outputs": [
    {
     "data": {
      "text/plain": [
       "'(274302),Abahazi Abah'"
      ]
     },
     "execution_count": 292,
     "metadata": {},
     "output_type": "execute_result"
    }
   ],
   "source": [
    "temp"
   ]
  },
  {
   "cell_type": "code",
   "execution_count": 287,
   "metadata": {},
   "outputs": [
    {
     "data": {
      "text/plain": [
       "'(274302),Abahazi Abah'"
      ]
     },
     "execution_count": 287,
     "metadata": {},
     "output_type": "execute_result"
    }
   ],
   "source": [
    "temp[:temp.index('\\\\')]"
   ]
  },
  {
   "cell_type": "code",
   "execution_count": 286,
   "metadata": {},
   "outputs": [
    {
     "data": {
      "text/plain": [
       "'(274302),Abahazi Abah'"
      ]
     },
     "execution_count": 286,
     "metadata": {},
     "output_type": "execute_result"
    }
   ],
   "source": [
    "temp = \"(274302),Abahazi Abah\\\\'e1zi\\\\\\n\"\n",
    "temp.index('\\\\')\n",
    "f'{temp[:21]}'"
   ]
  },
  {
   "cell_type": "code",
   "execution_count": 283,
   "metadata": {},
   "outputs": [
    {
     "data": {
      "text/plain": [
       "[\"(388282),'Akepa\",\n",
       " \"(3192),A'Hearn\",\n",
       " '(3654),AAS',\n",
       " '(8900),AAVSO',\n",
       " '(8721),AMOS',\n",
       " '(9996),ANS',\n",
       " '(132524),APL',\n",
       " '(13830),ARLT',\n",
       " '(31531),ARRL',\n",
       " '(3568),ASCII']"
      ]
     },
     "execution_count": 283,
     "metadata": {},
     "output_type": "execute_result"
    }
   ],
   "source": [
    "csv_content[:10]"
   ]
  },
  {
   "cell_type": "code",
   "execution_count": 284,
   "metadata": {},
   "outputs": [
    {
     "data": {
      "text/plain": [
       "\"(274302),Abahazi Abah\\\\'e1zi\\\\\\n\""
      ]
     },
     "execution_count": 284,
     "metadata": {},
     "output_type": "execute_result"
    }
   ],
   "source": [
    "csv_content[33]"
   ]
  },
  {
   "cell_type": "code",
   "execution_count": 262,
   "metadata": {},
   "outputs": [
    {
     "name": "stdout",
     "output_type": "stream",
     "text": [
      "(388282),'Akepa\n",
      "(3192),A'Hearn\n",
      "(3654),AAS\n",
      "(8900),AAVSO\n",
      "(8721),AMOS\n",
      "(9996),ANS\n",
      "(132524),APL\n",
      "(13830),ARLT\n",
      "(31531),ARRL\n",
      "(3568),ASCII\n",
      "(2848),ASP\n",
      "(20813),Aakashshah\n",
      "(26557),Aakritijain\n",
      "(28698),Aakshi\n",
      "(28828),Aalamiharandi\n",
      "(33181),Aalokpatwa\n",
      "(677),Aaltje\n",
      "(2676),Aarhus\n",
      "(129100),Aaronammons\n",
      "(22656),Aaronburrows\n",
      "(25677),Aaronenten\n",
      "(11451),Aarongolden\n",
      "(23113),Aaronhakim\n",
      "(12553),Aaronritter\n",
      "(13928),Aaronrogers\n",
      "(21933),Aaronrozon\n",
      "(29812),Aaronsolomon\n",
      "(3277),Aaronson\n",
      "(33448),Aaronyeiser\n",
      "(9836),Aarseth\n",
      "(2366),Aaryn\n",
      "(864),Aase\n",
      "(2678),Aavasaksa\n",
      "(274302),Abahazi Abah\\'e1zi\\\n",
      "\n",
      "(4466),Abai\n",
      "(2722),Abalakin\n",
      "(1581),Abanderada\n",
      "(3480),Abante\n",
      "(4263),Abashiri\n",
      "(1390),Abastumani\n",
      "(5224),Abbe\n",
      "(17023),Abbott\n",
      "(31631),Abbywilliams\n",
      "(249010),Abdel-Samad\n",
      "(15262),Abderhalden\n",
      "(22638),Abdulla\n",
      "(21483),Abdulrasool\n",
      "(294600),Abedinabedin\n",
      "(5379),Abehiroshi\n",
      "(25410),Abejar\n"
     ]
    }
   ],
   "source": [
    "for i in range(50): print(csv_content[i])"
   ]
  },
  {
   "cell_type": "markdown",
   "metadata": {},
   "source": [
    "---\n",
    "\n",
    "Now we have our csv'ify function ready and our lines of csv-formatted text. Time to convert and save them as a pandas DataFrame."
   ]
  },
  {
   "cell_type": "code",
   "execution_count": 307,
   "metadata": {},
   "outputs": [],
   "source": [
    "planets_df = pd.DataFrame([line.split(',') for line in csv_content])"
   ]
  },
  {
   "cell_type": "code",
   "execution_count": 308,
   "metadata": {},
   "outputs": [
    {
     "data": {
      "text/html": [
       "<div>\n",
       "<style scoped>\n",
       "    .dataframe tbody tr th:only-of-type {\n",
       "        vertical-align: middle;\n",
       "    }\n",
       "\n",
       "    .dataframe tbody tr th {\n",
       "        vertical-align: top;\n",
       "    }\n",
       "\n",
       "    .dataframe thead th {\n",
       "        text-align: right;\n",
       "    }\n",
       "</style>\n",
       "<table border=\"1\" class=\"dataframe\">\n",
       "  <thead>\n",
       "    <tr style=\"text-align: right;\">\n",
       "      <th></th>\n",
       "      <th>0</th>\n",
       "      <th>1</th>\n",
       "    </tr>\n",
       "  </thead>\n",
       "  <tbody>\n",
       "    <tr>\n",
       "      <th>0</th>\n",
       "      <td>(388282)</td>\n",
       "      <td>'Akepa</td>\n",
       "    </tr>\n",
       "    <tr>\n",
       "      <th>1</th>\n",
       "      <td>(3192)</td>\n",
       "      <td>A'Hearn</td>\n",
       "    </tr>\n",
       "    <tr>\n",
       "      <th>2</th>\n",
       "      <td>(3654)</td>\n",
       "      <td>AAS</td>\n",
       "    </tr>\n",
       "    <tr>\n",
       "      <th>3</th>\n",
       "      <td>(8900)</td>\n",
       "      <td>AAVSO</td>\n",
       "    </tr>\n",
       "    <tr>\n",
       "      <th>4</th>\n",
       "      <td>(8721)</td>\n",
       "      <td>AMOS</td>\n",
       "    </tr>\n",
       "  </tbody>\n",
       "</table>\n",
       "</div>"
      ],
      "text/plain": [
       "          0        1\n",
       "0  (388282)   'Akepa\n",
       "1    (3192)  A'Hearn\n",
       "2    (3654)      AAS\n",
       "3    (8900)    AAVSO\n",
       "4    (8721)     AMOS"
      ]
     },
     "execution_count": 308,
     "metadata": {},
     "output_type": "execute_result"
    }
   ],
   "source": [
    "planets_df.head()"
   ]
  },
  {
   "cell_type": "code",
   "execution_count": 301,
   "metadata": {},
   "outputs": [
    {
     "data": {
      "text/plain": [
       "'123'"
      ]
     },
     "execution_count": 301,
     "metadata": {},
     "output_type": "execute_result"
    }
   ],
   "source": [
    "'(123)'.split('(')[1].split(')')[0]"
   ]
  },
  {
   "cell_type": "code",
   "execution_count": 303,
   "metadata": {},
   "outputs": [
    {
     "data": {
      "text/plain": [
       "'123'"
      ]
     },
     "execution_count": 303,
     "metadata": {},
     "output_type": "execute_result"
    }
   ],
   "source": [
    "'(123)'[1:-1]"
   ]
  },
  {
   "cell_type": "code",
   "execution_count": 311,
   "metadata": {},
   "outputs": [
    {
     "data": {
      "text/plain": [
       "0    (388282)\n",
       "1      (3192)\n",
       "2      (3654)\n",
       "3      (8900)\n",
       "4      (8721)\n",
       "Name: 0, dtype: object"
      ]
     },
     "execution_count": 311,
     "metadata": {},
     "output_type": "execute_result"
    }
   ],
   "source": [
    "planets_df[0].head()"
   ]
  },
  {
   "cell_type": "markdown",
   "metadata": {},
   "source": [
    "I want the ID numbers to not be in parens, so they can easily be converted to integers, so I'll redo that now."
   ]
  },
  {
   "cell_type": "code",
   "execution_count": 328,
   "metadata": {},
   "outputs": [
    {
     "data": {
      "text/plain": [
       "['(388282)', '(3192)', '(3654)', '(8900)', '(8721)']"
      ]
     },
     "execution_count": 328,
     "metadata": {},
     "output_type": "execute_result"
    }
   ],
   "source": [
    "ids = [line.split(',')[0] for line in csv_content]; ids[:5]"
   ]
  },
  {
   "cell_type": "code",
   "execution_count": 329,
   "metadata": {},
   "outputs": [
    {
     "data": {
      "text/plain": [
       "['388282', '3192', '3654', '8900', '8721']"
      ]
     },
     "execution_count": 329,
     "metadata": {},
     "output_type": "execute_result"
    }
   ],
   "source": [
    "ids = [ID[1:-1] for ID in ids]; ids[:5]"
   ]
  },
  {
   "cell_type": "code",
   "execution_count": 330,
   "metadata": {},
   "outputs": [],
   "source": [
    "planets_df[0] = ids"
   ]
  },
  {
   "cell_type": "code",
   "execution_count": 331,
   "metadata": {},
   "outputs": [
    {
     "data": {
      "text/html": [
       "<div>\n",
       "<style scoped>\n",
       "    .dataframe tbody tr th:only-of-type {\n",
       "        vertical-align: middle;\n",
       "    }\n",
       "\n",
       "    .dataframe tbody tr th {\n",
       "        vertical-align: top;\n",
       "    }\n",
       "\n",
       "    .dataframe thead th {\n",
       "        text-align: right;\n",
       "    }\n",
       "</style>\n",
       "<table border=\"1\" class=\"dataframe\">\n",
       "  <thead>\n",
       "    <tr style=\"text-align: right;\">\n",
       "      <th></th>\n",
       "      <th>0</th>\n",
       "      <th>1</th>\n",
       "    </tr>\n",
       "  </thead>\n",
       "  <tbody>\n",
       "    <tr>\n",
       "      <th>0</th>\n",
       "      <td>388282</td>\n",
       "      <td>'Akepa</td>\n",
       "    </tr>\n",
       "    <tr>\n",
       "      <th>1</th>\n",
       "      <td>3192</td>\n",
       "      <td>A'Hearn</td>\n",
       "    </tr>\n",
       "    <tr>\n",
       "      <th>2</th>\n",
       "      <td>3654</td>\n",
       "      <td>AAS</td>\n",
       "    </tr>\n",
       "    <tr>\n",
       "      <th>3</th>\n",
       "      <td>8900</td>\n",
       "      <td>AAVSO</td>\n",
       "    </tr>\n",
       "    <tr>\n",
       "      <th>4</th>\n",
       "      <td>8721</td>\n",
       "      <td>AMOS</td>\n",
       "    </tr>\n",
       "  </tbody>\n",
       "</table>\n",
       "</div>"
      ],
      "text/plain": [
       "        0        1\n",
       "0  388282   'Akepa\n",
       "1    3192  A'Hearn\n",
       "2    3654      AAS\n",
       "3    8900    AAVSO\n",
       "4    8721     AMOS"
      ]
     },
     "execution_count": 331,
     "metadata": {},
     "output_type": "execute_result"
    }
   ],
   "source": [
    "planets_df.head()"
   ]
  },
  {
   "cell_type": "markdown",
   "metadata": {},
   "source": [
    "That looks better. Now to give column names, save to disk, and write a random name generator function."
   ]
  },
  {
   "cell_type": "code",
   "execution_count": 332,
   "metadata": {},
   "outputs": [],
   "source": [
    "planets_df.columns = ['ids', 'names']"
   ]
  },
  {
   "cell_type": "code",
   "execution_count": 333,
   "metadata": {},
   "outputs": [
    {
     "data": {
      "text/html": [
       "<div>\n",
       "<style scoped>\n",
       "    .dataframe tbody tr th:only-of-type {\n",
       "        vertical-align: middle;\n",
       "    }\n",
       "\n",
       "    .dataframe tbody tr th {\n",
       "        vertical-align: top;\n",
       "    }\n",
       "\n",
       "    .dataframe thead th {\n",
       "        text-align: right;\n",
       "    }\n",
       "</style>\n",
       "<table border=\"1\" class=\"dataframe\">\n",
       "  <thead>\n",
       "    <tr style=\"text-align: right;\">\n",
       "      <th></th>\n",
       "      <th>ids</th>\n",
       "      <th>names</th>\n",
       "    </tr>\n",
       "  </thead>\n",
       "  <tbody>\n",
       "    <tr>\n",
       "      <th>0</th>\n",
       "      <td>388282</td>\n",
       "      <td>'Akepa</td>\n",
       "    </tr>\n",
       "    <tr>\n",
       "      <th>1</th>\n",
       "      <td>3192</td>\n",
       "      <td>A'Hearn</td>\n",
       "    </tr>\n",
       "    <tr>\n",
       "      <th>2</th>\n",
       "      <td>3654</td>\n",
       "      <td>AAS</td>\n",
       "    </tr>\n",
       "    <tr>\n",
       "      <th>3</th>\n",
       "      <td>8900</td>\n",
       "      <td>AAVSO</td>\n",
       "    </tr>\n",
       "    <tr>\n",
       "      <th>4</th>\n",
       "      <td>8721</td>\n",
       "      <td>AMOS</td>\n",
       "    </tr>\n",
       "  </tbody>\n",
       "</table>\n",
       "</div>"
      ],
      "text/plain": [
       "      ids    names\n",
       "0  388282   'Akepa\n",
       "1    3192  A'Hearn\n",
       "2    3654      AAS\n",
       "3    8900    AAVSO\n",
       "4    8721     AMOS"
      ]
     },
     "execution_count": 333,
     "metadata": {},
     "output_type": "execute_result"
    }
   ],
   "source": [
    "planets_df.head()"
   ]
  },
  {
   "cell_type": "code",
   "execution_count": 336,
   "metadata": {},
   "outputs": [],
   "source": [
    "# saving DataFrame to disk\n",
    "planets_df.to_csv(PATH + f'planet_names.csv', index=False)"
   ]
  },
  {
   "cell_type": "code",
   "execution_count": 339,
   "metadata": {},
   "outputs": [
    {
     "data": {
      "text/plain": [
       "array([ \"\\\\outl0\\\\strokewidth0 \\\\strokec2 (388282) 'Akepa                        'Akepa\\\\\\n\",\n",
       "       \"\\\\ul   (3192) A'Hearn                       A'Hearn\\\\ulnone \\\\\\n\",\n",
       "       '  (3654) AAS                           AAS\\\\\\n',\n",
       "       '  (8900) AAVSO                         AAVSO\\\\\\n',\n",
       "       '  (8721) AMOS                          AMOS\\\\\\n',\n",
       "       '  (9996) ANS                           ANS\\\\\\n',\n",
       "       '(132524) APL                           APL\\\\\\n',\n",
       "       ' (13830) ARLT                          ARLT\\\\\\n',\n",
       "       ' (31531) ARRL                          ARRL\\\\\\n',\n",
       "       '  (3568) ASCII                         ASCII\\\\\\n'],\n",
       "      dtype='<U82')"
      ]
     },
     "execution_count": 339,
     "metadata": {},
     "output_type": "execute_result"
    }
   ],
   "source": [
    "# the original data\n",
    "content[:10]"
   ]
  },
  {
   "cell_type": "code",
   "execution_count": 340,
   "metadata": {},
   "outputs": [
    {
     "data": {
      "text/plain": [
       "NoneType"
      ]
     },
     "execution_count": 340,
     "metadata": {},
     "output_type": "execute_result"
    }
   ],
   "source": [
    "type(None)"
   ]
  },
  {
   "cell_type": "code",
   "execution_count": 515,
   "metadata": {},
   "outputs": [
    {
     "data": {
      "text/plain": [
       "('Akimov', '4521')"
      ]
     },
     "execution_count": 515,
     "metadata": {},
     "output_type": "execute_result"
    }
   ],
   "source": [
    "# import numpy as np\n",
    "# import pandas as pd\n",
    "\n",
    "# fpath='data/planet_names.csv'\n",
    "# names_df = pd.read_csv(fpath)\n",
    "\n",
    "def get_planet_name(seed=None, dataframe=None, fpath=None):\n",
    "    \"\"\"Return a random name from the IAU Minor Planet Names list.\n",
    "    \n",
    "    Parameters\n",
    "    ----------\n",
    "    seed : integer (optional)\n",
    "        random seed for NumPy random number generator\n",
    "    \n",
    "    dataframe : Pandas DataFrame (optional)\n",
    "        csv file to read names from.\n",
    "        function will attempt to load DataFrame from `fpath` if `dataframe` \n",
    "        not specified.\n",
    "        \n",
    "    fpath: string (optional)\n",
    "        path to csv file containing planet names.\n",
    "        only used if `dataframe` not specified.\n",
    "        both Pandas and NumPy will be imported in this case.\n",
    "        \n",
    "    Returns\n",
    "    -------\n",
    "    name : string\n",
    "        a random IAU Minor Planet name, and its ID for future reference\n",
    "    \"\"\"\n",
    "    \n",
    "    # No DataFrame specified\n",
    "    if type(dataframe) == type(None):\n",
    "        if type(fpath) == type(None):\n",
    "            print(\"No DataFrame or file path specified.\")\n",
    "            return\n",
    "#         import numpy as np\n",
    "#         import pandas as pd\n",
    "        names_df = pd.read_csv(fpath)\n",
    "    # DataFrame specified\n",
    "    else:\n",
    "        names_df = dataframe\n",
    "        \n",
    "    # dont know why Im getting an UnboundLocalError in this function\n",
    "    # NOTE: very interesting... if I ever import a module, even in a conditional, \n",
    "    # every instance of that module not initialized from that import will throw an \n",
    "    # UnboundLocalError. Hmm... okay.\n",
    "    if type(seed) != type(None):\n",
    "        np.random.seed(seed)\n",
    "#         try:\n",
    "#             np.random.seed(seed)\n",
    "#         except UnboundLocalError:\n",
    "#             import numpy as np\n",
    "#             np.random.seed(seed)\n",
    "    \n",
    "    idx = np.random.randint(0, len(names_df))\n",
    "    \n",
    "    return names_df.iloc[idx][1], names_df.iloc[idx][0]\n",
    "\n",
    "get_planet_name(dataframe=planets_df)"
   ]
  },
  {
   "cell_type": "code",
   "execution_count": 397,
   "metadata": {},
   "outputs": [
    {
     "data": {
      "text/plain": [
       "'Verbitskaya'"
      ]
     },
     "execution_count": 397,
     "metadata": {},
     "output_type": "execute_result"
    }
   ],
   "source": [
    "def temp(df=None):\n",
    "    idx = np.random.randint(0, len(df))\n",
    "    return df.iloc[idx][1]\n",
    "\n",
    "temp(df=names_df)"
   ]
  },
  {
   "cell_type": "markdown",
   "metadata": {},
   "source": [
    "Some tests of the function in action:"
   ]
  },
  {
   "cell_type": "code",
   "execution_count": 519,
   "metadata": {},
   "outputs": [
    {
     "data": {
      "text/plain": [
       "('Arizona', 793)"
      ]
     },
     "execution_count": 519,
     "metadata": {},
     "output_type": "execute_result"
    }
   ],
   "source": [
    "get_planet_name(dataframe=names_df)"
   ]
  },
  {
   "cell_type": "code",
   "execution_count": 524,
   "metadata": {},
   "outputs": [
    {
     "name": "stdout",
     "output_type": "stream",
     "text": [
      "TRIUMF\n",
      "Praamzius\n",
      "Mirano\n",
      "Saunders\n",
      "Ayapani\n",
      "Elodie\n",
      "Lamarck\n",
      "Lilyliu\n",
      "Kopal\n",
      "Emaparker\n",
      "Gangkeda\n",
      "Pohlonski\n",
      "Duboshin\n",
      "Sylvania\n",
      "Stimson\n",
      "Perrett\n",
      "Jaisonjain\n",
      "Angstrom \n",
      "Ramonkhanna\n",
      "Adelgunde\n",
      "Geisha\n",
      "Perrine\n",
      "Nomentum\n",
      "Chikatoshi\n",
      "Saskia\n",
      "Frisia\n",
      "Caddell\n",
      "Michaelbecker\n",
      "Kevlin\n",
      "Yuuko\n",
      "Prendergast\n",
      "Ceraskia\n",
      "Swift\n",
      "Viikinkoski\n",
      "JAXA\n",
      "Yoshiken\n",
      "Peterkraft\n",
      "Zimin\n",
      "Bretagnon\n",
      "Doblin D\n",
      "Naantali\n",
      "Nishimura\n",
      "Makibi\n",
      "Alena\n",
      "Annona\n",
      "Degraaff\n",
      "Joyce\n",
      "Aletheia\n",
      "Munkacsy Munk\n",
      "Sterken\n"
     ]
    }
   ],
   "source": [
    "for i in range(50):\n",
    "    print(f'{get_planet_name(dataframe=names_df)[0]}')"
   ]
  },
  {
   "cell_type": "markdown",
   "metadata": {},
   "source": [
    "To my infinite suprise and not at all sarcastic joy... Most of these 'planet names' are just the names of the guys who discovered them. Great....\n",
    "\n",
    "\n",
    "Well I did learn a lot about manipulating unformatted data so... yay!"
   ]
  },
  {
   "cell_type": "code",
   "execution_count": 525,
   "metadata": {},
   "outputs": [
    {
     "name": "stdout",
     "output_type": "stream",
     "text": [
      "Mattweegman\n",
      "Tongkexue\n",
      "Pamjones\n",
      "Schoenmaker\n",
      "Walker\n",
      "Salmon\n",
      "Cureau\n",
      "Aoyagi\n",
      "Gay-Lussac\n",
      "Hollyerickson\n",
      "Grigor'ev\n",
      "Erdmannsdorff\n",
      "Karetnikov\n",
      "Messalina\n",
      "Jurasek Jura\n",
      "Fritzleiber\n",
      "Tucholsky\n",
      "Jackschmitt\n",
      "Blankenship\n",
      "Dolero\n",
      "Valencia\n",
      "Emmaburnett\n",
      "Komendantov\n",
      "Prime\n",
      "Lewicki\n",
      "Amysimon\n",
      "Munch\n",
      "Masuo\n",
      "Zhaojiuzhang\n",
      "Kathryn\n",
      "Hermes\n",
      "Vinceelliott\n",
      "Odegard\n",
      "Severochoa\n",
      "Amandajane\n",
      "McDermid\n",
      "Sesar\n",
      "Gropius\n",
      "Favaloro\n",
      "Lyudvasilia\n",
      "Pianoro\n",
      "Engelhardt\n",
      "Kaibab\n",
      "Goldinaaron\n",
      "Demodokus\n",
      "Upupa\n",
      "Alonso\n",
      "Osipovyurij\n",
      "Hirose\n",
      "Linchisheng\n"
     ]
    }
   ],
   "source": [
    "for i in range(50):\n",
    "    print(f'{get_planet_name(dataframe=names_df)[0]}')"
   ]
  },
  {
   "cell_type": "markdown",
   "metadata": {},
   "source": [
    "Oh hell yeah, let's go to planet *Salmon*.."
   ]
  },
  {
   "cell_type": "code",
   "execution_count": 534,
   "metadata": {},
   "outputs": [
    {
     "name": "stdout",
     "output_type": "stream",
     "text": [
      "Duerbeck\n",
      "Wesson\n",
      "Klima\n",
      "Joshwood\n",
      "Biver\n",
      "Kangsunwoo\n",
      "van Genderen van Genderen\n",
      "Gulkis\n",
      "Somekawa\n",
      "Tomconnors\n",
      "Bulgaria\n",
      "Matttaylor\n",
      "Dalestanbridge\n",
      "Tarsila\n",
      "Vespa\n",
      "Hubertreeves\n",
      "Sveshnikov\n",
      "Linnaea\n",
      "Huachucaclub\n",
      "Covington\n"
     ]
    }
   ],
   "source": [
    "for i in range(20): print(f'{get_planet_name(dataframe=names_df)[0]}')"
   ]
  },
  {
   "cell_type": "code",
   "execution_count": null,
   "metadata": {},
   "outputs": [],
   "source": []
  },
  {
   "cell_type": "code",
   "execution_count": null,
   "metadata": {},
   "outputs": [],
   "source": []
  },
  {
   "cell_type": "markdown",
   "metadata": {},
   "source": [
    "More debugging with imports:"
   ]
  },
  {
   "cell_type": "code",
   "execution_count": 382,
   "metadata": {},
   "outputs": [
    {
     "data": {
      "text/plain": [
       "1.0986122886681098"
      ]
     },
     "execution_count": 382,
     "metadata": {},
     "output_type": "execute_result"
    }
   ],
   "source": [
    "# why does this not give me an unbound error...\n",
    "tempfn = lambda x: np.log(x)\n",
    "tempfn(3)"
   ]
  },
  {
   "cell_type": "code",
   "execution_count": 385,
   "metadata": {},
   "outputs": [],
   "source": [
    "del tempfn"
   ]
  },
  {
   "cell_type": "code",
   "execution_count": 388,
   "metadata": {},
   "outputs": [
    {
     "data": {
      "text/plain": [
       "1.0986122886681098"
      ]
     },
     "execution_count": 388,
     "metadata": {},
     "output_type": "execute_result"
    }
   ],
   "source": [
    "# and neither does this.....\n",
    "def tempfn(x):\n",
    "    return np.log(x)\n",
    "tempfn(3)"
   ]
  },
  {
   "cell_type": "code",
   "execution_count": 394,
   "metadata": {},
   "outputs": [
    {
     "data": {
      "text/plain": [
       "5"
      ]
     },
     "execution_count": 394,
     "metadata": {},
     "output_type": "execute_result"
    }
   ],
   "source": [
    "del tempfn\n",
    "\n",
    "def tempfn(x):\n",
    "    np.random.seed(0)\n",
    "    return np.random.randint(0,10)\n",
    "#     return np.log(x)\n",
    "tempfn(3)"
   ]
  },
  {
   "cell_type": "code",
   "execution_count": 390,
   "metadata": {},
   "outputs": [
    {
     "ename": "UnboundLocalError",
     "evalue": "local variable 'np' referenced before assignment",
     "output_type": "error",
     "traceback": [
      "\u001b[0;31m---------------------------------------------------------------------------\u001b[0m",
      "\u001b[0;31mUnboundLocalError\u001b[0m                         Traceback (most recent call last)",
      "\u001b[0;32m<ipython-input-390-e5e0c06db6c4>\u001b[0m in \u001b[0;36m<module>\u001b[0;34m()\u001b[0m\n\u001b[0;32m----> 1\u001b[0;31m \u001b[0mget_planet_name\u001b[0m\u001b[0;34m(\u001b[0m\u001b[0mdataframe\u001b[0m\u001b[0;34m=\u001b[0m\u001b[0mplanets_df\u001b[0m\u001b[0;34m)\u001b[0m\u001b[0;34m\u001b[0m\u001b[0m\n\u001b[0m",
      "\u001b[0;32m<ipython-input-389-0f589e53b9a2>\u001b[0m in \u001b[0;36mget_planet_name\u001b[0;34m(seed, dataframe, fpath)\u001b[0m\n\u001b[1;32m     49\u001b[0m             \u001b[0mnp\u001b[0m\u001b[0;34m.\u001b[0m\u001b[0mrandom\u001b[0m\u001b[0;34m.\u001b[0m\u001b[0mseed\u001b[0m\u001b[0;34m(\u001b[0m\u001b[0mseed\u001b[0m\u001b[0;34m)\u001b[0m\u001b[0;34m\u001b[0m\u001b[0m\n\u001b[1;32m     50\u001b[0m \u001b[0;34m\u001b[0m\u001b[0m\n\u001b[0;32m---> 51\u001b[0;31m     \u001b[0midx\u001b[0m \u001b[0;34m=\u001b[0m \u001b[0mnp\u001b[0m\u001b[0;34m.\u001b[0m\u001b[0mrandom\u001b[0m\u001b[0;34m.\u001b[0m\u001b[0mrandint\u001b[0m\u001b[0;34m(\u001b[0m\u001b[0;36m0\u001b[0m\u001b[0;34m,\u001b[0m \u001b[0mlen\u001b[0m\u001b[0;34m(\u001b[0m\u001b[0mnames_df\u001b[0m\u001b[0;34m)\u001b[0m\u001b[0;34m)\u001b[0m\u001b[0;34m\u001b[0m\u001b[0m\n\u001b[0m\u001b[1;32m     52\u001b[0m \u001b[0;34m\u001b[0m\u001b[0m\n\u001b[1;32m     53\u001b[0m     \u001b[0;32mreturn\u001b[0m \u001b[0mnames_df\u001b[0m\u001b[0;34m.\u001b[0m\u001b[0miloc\u001b[0m\u001b[0;34m[\u001b[0m\u001b[0midx\u001b[0m\u001b[0;34m]\u001b[0m\u001b[0;34m[\u001b[0m\u001b[0;36m1\u001b[0m\u001b[0;34m]\u001b[0m\u001b[0;34m,\u001b[0m \u001b[0mnames_df\u001b[0m\u001b[0;34m.\u001b[0m\u001b[0miloc\u001b[0m\u001b[0;34m[\u001b[0m\u001b[0midx\u001b[0m\u001b[0;34m]\u001b[0m\u001b[0;34m[\u001b[0m\u001b[0;36m0\u001b[0m\u001b[0;34m]\u001b[0m\u001b[0;34m\u001b[0m\u001b[0m\n",
      "\u001b[0;31mUnboundLocalError\u001b[0m: local variable 'np' referenced before assignment"
     ]
    }
   ],
   "source": [
    "get_planet_name(dataframe=planets_df)"
   ]
  },
  {
   "cell_type": "code",
   "execution_count": null,
   "metadata": {},
   "outputs": [],
   "source": []
  },
  {
   "cell_type": "code",
   "execution_count": null,
   "metadata": {},
   "outputs": [],
   "source": []
  },
  {
   "cell_type": "code",
   "execution_count": null,
   "metadata": {},
   "outputs": [],
   "source": []
  },
  {
   "cell_type": "code",
   "execution_count": null,
   "metadata": {},
   "outputs": [],
   "source": []
  },
  {
   "cell_type": "code",
   "execution_count": null,
   "metadata": {},
   "outputs": [],
   "source": []
  },
  {
   "cell_type": "code",
   "execution_count": null,
   "metadata": {},
   "outputs": [],
   "source": []
  },
  {
   "cell_type": "code",
   "execution_count": null,
   "metadata": {},
   "outputs": [],
   "source": []
  },
  {
   "cell_type": "code",
   "execution_count": null,
   "metadata": {},
   "outputs": [],
   "source": []
  },
  {
   "cell_type": "markdown",
   "metadata": {},
   "source": [
    "Some tests before I got the function working, below:"
   ]
  },
  {
   "cell_type": "code",
   "execution_count": 341,
   "metadata": {},
   "outputs": [
    {
     "data": {
      "text/plain": [
       "21157"
      ]
     },
     "execution_count": 341,
     "metadata": {},
     "output_type": "execute_result"
    }
   ],
   "source": [
    "len(planets_df)"
   ]
  },
  {
   "cell_type": "code",
   "execution_count": 344,
   "metadata": {},
   "outputs": [
    {
     "data": {
      "text/plain": [
       "21157"
      ]
     },
     "execution_count": 344,
     "metadata": {},
     "output_type": "execute_result"
    }
   ],
   "source": [
    "len(planets_df['ids'])"
   ]
  },
  {
   "cell_type": "code",
   "execution_count": 350,
   "metadata": {},
   "outputs": [
    {
     "data": {
      "text/plain": [
       "ids      388282\n",
       "names    'Akepa\n",
       "Name: 0, dtype: object"
      ]
     },
     "execution_count": 350,
     "metadata": {},
     "output_type": "execute_result"
    }
   ],
   "source": [
    "planets_df.iloc[0]"
   ]
  },
  {
   "cell_type": "code",
   "execution_count": 351,
   "metadata": {},
   "outputs": [],
   "source": [
    "temp = planets_df.iloc[0]"
   ]
  },
  {
   "cell_type": "code",
   "execution_count": 352,
   "metadata": {},
   "outputs": [
    {
     "data": {
      "text/plain": [
       "ids      388282\n",
       "names    'Akepa\n",
       "Name: 0, dtype: object"
      ]
     },
     "execution_count": 352,
     "metadata": {},
     "output_type": "execute_result"
    }
   ],
   "source": [
    "temp"
   ]
  },
  {
   "cell_type": "code",
   "execution_count": 353,
   "metadata": {},
   "outputs": [
    {
     "data": {
      "text/plain": [
       "'388282'"
      ]
     },
     "execution_count": 353,
     "metadata": {},
     "output_type": "execute_result"
    }
   ],
   "source": [
    "temp[0]"
   ]
  },
  {
   "cell_type": "code",
   "execution_count": 354,
   "metadata": {},
   "outputs": [
    {
     "data": {
      "text/plain": [
       "\"'Akepa\""
      ]
     },
     "execution_count": 354,
     "metadata": {},
     "output_type": "execute_result"
    }
   ],
   "source": [
    "temp[1]"
   ]
  },
  {
   "cell_type": "code",
   "execution_count": 359,
   "metadata": {},
   "outputs": [
    {
     "data": {
      "text/plain": [
       "(\"'Akepa\", '388282')"
      ]
     },
     "execution_count": 359,
     "metadata": {},
     "output_type": "execute_result"
    }
   ],
   "source": [
    "temp = planets_df.iloc[0][1], planets_df.iloc[0][0]; temp"
   ]
  },
  {
   "cell_type": "code",
   "execution_count": 360,
   "metadata": {},
   "outputs": [
    {
     "data": {
      "text/plain": [
       "\"'Akepa\""
      ]
     },
     "execution_count": 360,
     "metadata": {},
     "output_type": "execute_result"
    }
   ],
   "source": [
    "temp[0]"
   ]
  },
  {
   "cell_type": "code",
   "execution_count": 358,
   "metadata": {},
   "outputs": [
    {
     "data": {
      "text/plain": [
       "'X'"
      ]
     },
     "execution_count": 358,
     "metadata": {},
     "output_type": "execute_result"
    }
   ],
   "source": [
    "temp = \"X\"; temp"
   ]
  },
  {
   "cell_type": "code",
   "execution_count": 361,
   "metadata": {},
   "outputs": [
    {
     "data": {
      "text/plain": [
       "\"'X\""
      ]
     },
     "execution_count": 361,
     "metadata": {},
     "output_type": "execute_result"
    }
   ],
   "source": [
    "temp = \"'X\"; temp"
   ]
  },
  {
   "cell_type": "code",
   "execution_count": null,
   "metadata": {},
   "outputs": [],
   "source": []
  }
 ],
 "metadata": {
  "kernelspec": {
   "display_name": "Python 3 (FastAI)",
   "language": "python",
   "name": "fastai"
  },
  "language_info": {
   "codemirror_mode": {
    "name": "ipython",
    "version": 3
   },
   "file_extension": ".py",
   "mimetype": "text/x-python",
   "name": "python",
   "nbconvert_exporter": "python",
   "pygments_lexer": "ipython3",
   "version": "3.6.3"
  }
 },
 "nbformat": 4,
 "nbformat_minor": 2
}
