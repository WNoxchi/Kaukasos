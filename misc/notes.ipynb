{
 "cells": [
  {
   "cell_type": "code",
   "execution_count": 79,
   "metadata": {},
   "outputs": [],
   "source": [
    "import numpy as np\n",
    "import torch"
   ]
  },
  {
   "cell_type": "code",
   "execution_count": 131,
   "metadata": {},
   "outputs": [],
   "source": [
    "yolo = 45\n",
    "fastyolo = 155\n",
    "faster_rcnn_vgg = 7\n",
    "faster_rcnn_zf = 18\n",
    "fast_rcnn = 0.5"
   ]
  },
  {
   "cell_type": "code",
   "execution_count": 138,
   "metadata": {},
   "outputs": [
    {
     "data": {
      "text/plain": [
       "4.464285714285714"
      ]
     },
     "execution_count": 138,
     "metadata": {},
     "output_type": "execute_result"
    }
   ],
   "source": [
    "(yolo / faster_rcnn_vgg + yolo / faster_rcnn_zf) / 2"
   ]
  },
  {
   "cell_type": "code",
   "execution_count": null,
   "metadata": {},
   "outputs": [],
   "source": []
  },
  {
   "cell_type": "code",
   "execution_count": 90,
   "metadata": {},
   "outputs": [],
   "source": [
    "inp = torch.Tensor(1,5,5,5).random_()"
   ]
  },
  {
   "cell_type": "code",
   "execution_count": 91,
   "metadata": {},
   "outputs": [
    {
     "data": {
      "text/plain": [
       "torch.Size([1, 5, 5, 5])"
      ]
     },
     "execution_count": 91,
     "metadata": {},
     "output_type": "execute_result"
    }
   ],
   "source": [
    "inp.shape"
   ]
  },
  {
   "cell_type": "code",
   "execution_count": 92,
   "metadata": {},
   "outputs": [
    {
     "data": {
      "text/plain": [
       "\n",
       "(0 ,0 ,.,.) = \n",
       "  1.2248e+06  7.9921e+05  1.5734e+07  5.0970e+06  1.2984e+06\n",
       "  9.1090e+06  1.6063e+07  1.5996e+07  9.2673e+06  1.0755e+07\n",
       "  4.5775e+05  1.4311e+07  1.6090e+07  6.4259e+06  1.3480e+07\n",
       "  2.4642e+06  1.0476e+07  8.6037e+06  8.9452e+06  1.0454e+07\n",
       "  5.1703e+06  1.3040e+07  3.2060e+06  3.1052e+06  8.2502e+06\n",
       "\n",
       "(0 ,1 ,.,.) = \n",
       "  3.3638e+06  4.6623e+06  1.0991e+07  1.3211e+07  5.0972e+06\n",
       "  4.9520e+06  3.4779e+04  1.0938e+06  1.2874e+07  1.4750e+07\n",
       "  4.2556e+06  2.1060e+06  1.3499e+07  2.5491e+06  1.2473e+07\n",
       "  4.9722e+06  1.6460e+07  4.5339e+06  1.6667e+07  1.0846e+07\n",
       "  7.9361e+06  1.2648e+05  6.7994e+06  1.4796e+07  1.4011e+07\n",
       "\n",
       "(0 ,2 ,.,.) = \n",
       "  7.0099e+06  3.6675e+05  6.7827e+06  2.8746e+06  8.2469e+06\n",
       "  1.3239e+07  2.4886e+05  1.3017e+07  8.3168e+06  3.5989e+06\n",
       "  1.3399e+07  1.4565e+07  8.4372e+06  1.1126e+07  8.0760e+06\n",
       "  7.4382e+06  9.6461e+06  1.6129e+07  1.6132e+07  7.1095e+06\n",
       "  6.1901e+06  5.2182e+06  5.8249e+06  4.1629e+06  6.1138e+06\n",
       "\n",
       "(0 ,3 ,.,.) = \n",
       "  1.4324e+07  1.5362e+07  1.6225e+07  8.7385e+06  3.4110e+05\n",
       "  4.6880e+06  1.6047e+06  1.4028e+07  9.8412e+06  1.4859e+07\n",
       "  1.0942e+07  8.4442e+06  1.6709e+07  6.8308e+06  1.2146e+07\n",
       "  1.0931e+07  2.3206e+06  4.0802e+06  7.0302e+06  5.2488e+05\n",
       "  6.5140e+06  4.4017e+06  1.1318e+07  5.4130e+06  1.4478e+07\n",
       "\n",
       "(0 ,4 ,.,.) = \n",
       "  1.4875e+06  1.4074e+07  1.1100e+06  1.2165e+07  9.0916e+06\n",
       "  8.0989e+06  8.2595e+06  5.5936e+06  6.6251e+06  3.6089e+06\n",
       "  1.6621e+07  1.6777e+07  3.0415e+04  4.5341e+06  1.4909e+07\n",
       "  5.4878e+05  5.9468e+05  7.9935e+06  7.2528e+06  1.3032e+07\n",
       "  7.1992e+06  2.5797e+06  3.8977e+06  9.2879e+06  1.5335e+07\n",
       "[torch.FloatTensor of size 1x5x5x5]"
      ]
     },
     "execution_count": 92,
     "metadata": {},
     "output_type": "execute_result"
    }
   ],
   "source": [
    "inp"
   ]
  },
  {
   "cell_type": "code",
   "execution_count": 95,
   "metadata": {},
   "outputs": [],
   "source": [
    "inp = torch.autograd.Variable(inp)"
   ]
  },
  {
   "cell_type": "code",
   "execution_count": 101,
   "metadata": {},
   "outputs": [],
   "source": [
    "convlayer = torch.nn.Conv2d(5,4,5)"
   ]
  },
  {
   "cell_type": "code",
   "execution_count": 102,
   "metadata": {},
   "outputs": [
    {
     "data": {
      "text/plain": [
       "Variable containing:\n",
       "(0 ,0 ,.,.) = \n",
       "1.00000e+06 *\n",
       "   8.0586\n",
       "\n",
       "(0 ,1 ,.,.) = \n",
       "1.00000e+06 *\n",
       "   0.1184\n",
       "\n",
       "(0 ,2 ,.,.) = \n",
       "1.00000e+06 *\n",
       "   5.7983\n",
       "\n",
       "(0 ,3 ,.,.) = \n",
       "1.00000e+06 *\n",
       "   1.8350\n",
       "[torch.FloatTensor of size 1x4x1x1]"
      ]
     },
     "execution_count": 102,
     "metadata": {},
     "output_type": "execute_result"
    }
   ],
   "source": [
    "convlayer(inp)"
   ]
  },
  {
   "cell_type": "code",
   "execution_count": null,
   "metadata": {},
   "outputs": [],
   "source": []
  },
  {
   "cell_type": "code",
   "execution_count": null,
   "metadata": {},
   "outputs": [],
   "source": []
  },
  {
   "cell_type": "code",
   "execution_count": null,
   "metadata": {},
   "outputs": [],
   "source": []
  },
  {
   "cell_type": "code",
   "execution_count": null,
   "metadata": {},
   "outputs": [],
   "source": []
  },
  {
   "cell_type": "code",
   "execution_count": null,
   "metadata": {},
   "outputs": [],
   "source": []
  },
  {
   "cell_type": "code",
   "execution_count": null,
   "metadata": {},
   "outputs": [],
   "source": []
  },
  {
   "cell_type": "code",
   "execution_count": null,
   "metadata": {},
   "outputs": [],
   "source": []
  },
  {
   "cell_type": "code",
   "execution_count": null,
   "metadata": {},
   "outputs": [],
   "source": []
  },
  {
   "cell_type": "code",
   "execution_count": 25,
   "metadata": {},
   "outputs": [],
   "source": []
  },
  {
   "cell_type": "code",
   "execution_count": 76,
   "metadata": {
    "scrolled": false
   },
   "outputs": [
    {
     "name": "stdout",
     "output_type": "stream",
     "text": [
      "Input tensor dimensions:  torch.Size([5, 1, 5, 5])\n",
      "Performing Convolution:   Conv2d (1, 20, kernel_size=(5, 5), stride=(1, 1))\n",
      "Output tensor dimensions: torch.Size([5, 20, 1, 1])\n"
     ]
    }
   ],
   "source": [
    "# inp = torch.Tensor(10).random_()\n",
    "# inp = torch.autograd.Variable(inp)\n",
    "\n",
    "inp = torch.autograd.Variable(torch.Tensor(5,1,5,5).zero_())\n",
    "\n",
    "convlayer = torch.nn.Conv2d(1,20,5)\n",
    "\n",
    "out = convlayer(inp)\n",
    "\n",
    "print(f'Input tensor dimensions:  {inp.size()}')\n",
    "print(f'Performing Convolution:   {convlayer}')\n",
    "print(f'Output tensor dimensions: {out.shape}')"
   ]
  },
  {
   "cell_type": "code",
   "execution_count": 77,
   "metadata": {},
   "outputs": [
    {
     "data": {
      "text/plain": [
       "Variable containing:\n",
       "(0 ,0 ,.,.) = \n",
       "  0  0  0  0  0\n",
       "  0  0  0  0  0\n",
       "  0  0  0  0  0\n",
       "  0  0  0  0  0\n",
       "  0  0  0  0  0\n",
       "[torch.FloatTensor of size 1x1x5x5]"
      ]
     },
     "execution_count": 77,
     "metadata": {},
     "output_type": "execute_result"
    }
   ],
   "source": [
    "inp[:1]"
   ]
  },
  {
   "cell_type": "code",
   "execution_count": 78,
   "metadata": {
    "scrolled": false
   },
   "outputs": [
    {
     "data": {
      "text/plain": [
       "Variable containing:\n",
       "(0 ,.,.) = \n",
       " -0.1920\n",
       "\n",
       "(1 ,.,.) = \n",
       "  0.0494\n",
       "\n",
       "(2 ,.,.) = \n",
       " -0.0975\n",
       "\n",
       "(3 ,.,.) = \n",
       " -0.1194\n",
       "\n",
       "(4 ,.,.) = \n",
       "  0.0099\n",
       "\n",
       "(5 ,.,.) = \n",
       " -0.0099\n",
       "\n",
       "(6 ,.,.) = \n",
       " -0.0704\n",
       "\n",
       "(7 ,.,.) = \n",
       "  0.1014\n",
       "\n",
       "(8 ,.,.) = \n",
       " -0.0377\n",
       "\n",
       "(9 ,.,.) = \n",
       "  0.1925\n",
       "\n",
       "(10,.,.) = \n",
       " -0.1181\n",
       "\n",
       "(11,.,.) = \n",
       "  0.1191\n",
       "\n",
       "(12,.,.) = \n",
       " -0.1801\n",
       "\n",
       "(13,.,.) = \n",
       "  0.0055\n",
       "\n",
       "(14,.,.) = \n",
       "  0.1220\n",
       "\n",
       "(15,.,.) = \n",
       " -0.0747\n",
       "\n",
       "(16,.,.) = \n",
       " -0.1595\n",
       "\n",
       "(17,.,.) = \n",
       " -0.0823\n",
       "\n",
       "(18,.,.) = \n",
       "  0.0461\n",
       "\n",
       "(19,.,.) = \n",
       " -0.0982\n",
       "[torch.FloatTensor of size 20x1x1]"
      ]
     },
     "execution_count": 78,
     "metadata": {},
     "output_type": "execute_result"
    }
   ],
   "source": [
    "out[0]"
   ]
  },
  {
   "cell_type": "code",
   "execution_count": null,
   "metadata": {},
   "outputs": [],
   "source": []
  },
  {
   "cell_type": "code",
   "execution_count": null,
   "metadata": {},
   "outputs": [],
   "source": []
  },
  {
   "cell_type": "code",
   "execution_count": null,
   "metadata": {},
   "outputs": [],
   "source": []
  },
  {
   "cell_type": "code",
   "execution_count": null,
   "metadata": {},
   "outputs": [],
   "source": []
  },
  {
   "cell_type": "code",
   "execution_count": null,
   "metadata": {},
   "outputs": [],
   "source": []
  },
  {
   "cell_type": "code",
   "execution_count": null,
   "metadata": {},
   "outputs": [],
   "source": []
  },
  {
   "cell_type": "code",
   "execution_count": null,
   "metadata": {},
   "outputs": [],
   "source": []
  },
  {
   "cell_type": "code",
   "execution_count": 1,
   "metadata": {},
   "outputs": [],
   "source": [
    "import numpy as np\n",
    "\n",
    "from scipy.spatial.distance import euclidean"
   ]
  },
  {
   "cell_type": "code",
   "execution_count": 5,
   "metadata": {},
   "outputs": [],
   "source": [
    "#              x1  y1  x2  y2\n",
    "c1 = np.array([10, 10, 80, 80])\n",
    "c2 = np.array([20, 20, 90, 90])"
   ]
  },
  {
   "cell_type": "code",
   "execution_count": 6,
   "metadata": {},
   "outputs": [
    {
     "data": {
      "text/plain": [
       "20.0"
      ]
     },
     "execution_count": 6,
     "metadata": {},
     "output_type": "execute_result"
    }
   ],
   "source": [
    "np.sqrt((c2[2]-c1[2])**2+(c2[0]-c1[0])**2 \n",
    "       +(c2[3]-c1[3])**2+(c2[1]-c1[1])**2)"
   ]
  },
  {
   "cell_type": "code",
   "execution_count": 7,
   "metadata": {},
   "outputs": [
    {
     "data": {
      "text/plain": [
       "20.0"
      ]
     },
     "execution_count": 7,
     "metadata": {},
     "output_type": "execute_result"
    }
   ],
   "source": [
    "euclidean(c1, c2)"
   ]
  },
  {
   "cell_type": "code",
   "execution_count": 8,
   "metadata": {},
   "outputs": [
    {
     "data": {
      "text/plain": [
       "20.0"
      ]
     },
     "execution_count": 8,
     "metadata": {},
     "output_type": "execute_result"
    }
   ],
   "source": [
    "euclidean(c2, c1)"
   ]
  },
  {
   "cell_type": "code",
   "execution_count": null,
   "metadata": {},
   "outputs": [],
   "source": []
  }
 ],
 "metadata": {
  "kernelspec": {
   "display_name": "Python 3 (FastAI)",
   "language": "python",
   "name": "fastai"
  },
  "language_info": {
   "codemirror_mode": {
    "name": "ipython",
    "version": 3
   },
   "file_extension": ".py",
   "mimetype": "text/x-python",
   "name": "python",
   "nbconvert_exporter": "python",
   "pygments_lexer": "ipython3",
   "version": "3.6.4"
  }
 },
 "nbformat": 4,
 "nbformat_minor": 2
}
