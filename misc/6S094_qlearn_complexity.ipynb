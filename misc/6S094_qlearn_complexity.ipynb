{
 "cells": [
  {
   "cell_type": "markdown",
   "metadata": {},
   "source": [
    "Wayne Nixalo - 2018/3/14-15\n",
    "\n",
    "---\n",
    "\n",
    "My wanting to explore the time-complexity of the Bellman Equation (here in [6.S094 (2018) Lecture 3](https://youtu.be/MQ6pP65o7OM?list=PLrAXtmErZgOeiKm4sgNOknGvNjby9efdf&t=1224)) turned into Python OOP practice.\n",
    "\n",
    "https://www.python-course.eu/graphs_python.php\n",
    "\n",
    "http://ls.pwd.io/2014/08/singly-and-doubly-linked-lists-in-python/"
   ]
  },
  {
   "cell_type": "code",
   "execution_count": 556,
   "metadata": {},
   "outputs": [],
   "source": [
    "class Graph:\n",
    "    def __init__(self, depth, actions):\n",
    "        self.depth = depth\n",
    "        self.actions = actions\n",
    "        self.graph = {}\n",
    "        \n",
    "        self.__addNode('ROOT', 'STATE_00', 0.0)\n",
    "        self.__populate()\n",
    "\n",
    "    def __addNode(self, sup, sub, w):  # superior, subordinate, weight\n",
    "        if not sup in self.keys():\n",
    "            self.graph[sup] = []\n",
    "        self.graph[sup].append([sub, w])\n",
    "        self.graph[sub] = []\n",
    "        self.graph[sub].append([sup, w])\n",
    "        \n",
    "    def __populate(self):        \n",
    "        for d in range(self.depth):\n",
    "            states = self.getLevel(d)\n",
    "            for state in states:\n",
    "                # action-path suffix\n",
    "                suffix    = state.split('_')[-1][1:]\n",
    "                suffix    = ('', suffix)[suffix[-1].isalpha()]\n",
    "                # state name + depth level\n",
    "                base_name = state.split('_')[0] + '_' + str(d + 1)\n",
    "                # add actions\n",
    "                for a in range(len(self.actions)):\n",
    "                    self.__addNode(state, \n",
    "                                   base_name+suffix+chr(ord('A') + a), self.actions[a])\n",
    "                \n",
    "    def __getitem__(self, key):\n",
    "        if key == '' or key == []:\n",
    "            return 'ENDE'\n",
    "        key = key.upper()\n",
    "        return self.graph[key]\n",
    "                \n",
    "    def getLevel(self, level):\n",
    "        return [key for key in graph.keys() if key.split('_')[-1][0].isdigit() and int(key.split('_')[-1][0]) == level]\n",
    "                \n",
    "    def superior(self, key):\n",
    "        \"\"\"Display incomming (superior) vertex\"\"\"\n",
    "        key = key.upper()\n",
    "        return self.graph[key][0]\n",
    "    \n",
    "    def subordinates(self, key):\n",
    "        \"\"\"Display all outgoing vertices.\"\"\"\n",
    "        key = key.upper()\n",
    "        return self.graph[key][1:]\n",
    "    \n",
    "    def keys(self):\n",
    "        return self.graph.keys()\n",
    "    \n",
    "    def __depthPrint(self, key, depth=0):\n",
    "        \"\"\"Recursively Print Depth-First structure of graph\"\"\"\n",
    "        depth += 1\n",
    "        subs = self.subordinates(key)   # subs = [['state_xx', num], ...]\n",
    "        for sub in subs:\n",
    "            indent = \"> \"*depth\n",
    "            print(indent + sub[0] + f' - {str(sub[1])}')\n",
    "            self.__depthPrint(sub[0], depth)\n",
    "        return\n",
    "                \n",
    "    def display(self):  # breadth-first display of graph\n",
    "        # arrows indicate depth of State\n",
    "        for i,key in enumerate(self.keys()):\n",
    "            # indent by depth -- NOTE: works for depth < 10\n",
    "            if key != 'ROOT':\n",
    "                indent = \"  \"*(max(0, int(key.split(\"_\")[-1][0])) if key != \"ROOT\" else 0)\n",
    "                print(f'{\"> \"*(len(indent)//2)}{key}')\n",
    "                print(f'{indent+\"  \"}{self.subordinates(key) if key != \"ROOT\" else self.__getitem__(key):}')\n",
    "                \n",
    "    def displayNested(self):  # depth-first display of graph\n",
    "        print(self.graph['ROOT'][0][0])  # self.graph['root'] = [['state_00', num]]\n",
    "        self.__depthPrint(self.graph['ROOT'][0][0])\n",
    "        \n",
    "    def getCost(self, state):\n",
    "        return state[1]\n",
    "        \n",
    "    def currentCost(self, key):\n",
    "        cost = 0.0\n",
    "        state = self.graph[key]\n",
    "        while state[0] != 'ROOT':\n",
    "            state = self.superior(key)\n",
    "            cost += state[1]\n",
    "            key = state[0]\n",
    "        return cost\n",
    "    \n",
    "    def nextQMove(self, state):\n",
    "        learning_rate = 0.1\n",
    "        discount_fact = 0.5\n",
    "        \n",
    "        if type(state[0]) == list:  # nextQMove returns `state` but __getitem__ returns `[state]`\n",
    "            state = state[0]\n",
    "        \n",
    "        # find highest-reward move\n",
    "        current_cost = self.currentCost(state[0])\n",
    "        states = self.subordinates(state[0])\n",
    "        \n",
    "        if len(states) == 0:\n",
    "            return None\n",
    "        \n",
    "        next_state = max(enumerate(states), key=(lambda x: x[1]))\n",
    "        next_state = next_state[1]\n",
    "        \n",
    "        # Bellman QLearning Equation  -  I *think* it's like this\n",
    "        # next_cost = currentCost(state[0]) + \n",
    "        #     learning_rate * (next_state[1] + discount_fact*next_state[1] - current_cost)\n",
    "        \n",
    "        # NOTE: why is the above necessary if I can get the cost of an action, and my \n",
    "        #       current state cost?\n",
    "    \n",
    "        return next_state\n",
    "            \n",
    "        \n",
    "        \n",
    "            "
   ]
  },
  {
   "cell_type": "markdown",
   "metadata": {},
   "source": [
    "$$Q_{t+1}(s_t,a_t) = Q_t(s_t,a_t) + α\\big(R_{t+1}+γ max_a Q_t(s_{t+1},a) - Q_t(s_t, a_t)\\big)$$"
   ]
  },
  {
   "cell_type": "code",
   "execution_count": 557,
   "metadata": {},
   "outputs": [
    {
     "data": {
      "text/plain": [
       "[['STATE_00', 0.0]]"
      ]
     },
     "execution_count": 557,
     "metadata": {},
     "output_type": "execute_result"
    }
   ],
   "source": [
    "graph['root']"
   ]
  },
  {
   "cell_type": "code",
   "execution_count": 567,
   "metadata": {},
   "outputs": [
    {
     "name": "stdout",
     "output_type": "stream",
     "text": [
      "['STATE_00', 0.0]\n",
      "['STATE_1C', 1]\n",
      "['STATE_2CC', 1]\n",
      "['STATE_3CCC', 1]\n",
      "3.0\n"
     ]
    }
   ],
   "source": [
    "graph = Graph(3, [2,3,1])\n",
    "\n",
    "state = graph['root'][0]\n",
    "\n",
    "policy_cost = 0.0\n",
    "\n",
    "while state != None:\n",
    "    policy_cost += state[1]\n",
    "    print(state)\n",
    "    state = graph.nextQMove(state)\n",
    "\n",
    "\n",
    "\n",
    "print(policy_cost)"
   ]
  },
  {
   "cell_type": "markdown",
   "metadata": {},
   "source": [
    "Right. So it kind does its job. But that's not exactly what it's supposed to do, I think. A better implementation would have this in a full graph - which means I'd have to expand my Graph class to be more than just an n-ary tree. I could use the dictionary structure to build an in_vertex, out_vertex abstraction.\n",
    "\n",
    "I'd also need to understand that Q-Learning equation a bit more. What does `γ*max(Qt(st1,a) - Qt(st,at))` mean? Is it the option that adds the greatest reward? If so why is there an Rt1 term added to it? Isn't *that* the reward of the next action?\n",
    "\n",
    "What is really meant by 'Old State'? I understand 'New State' ie: the *new state*.. but how do you *add* a reward value onto the Old State?\n",
    "\n",
    "Anyway, I kinda get the gist of this toy problem. This was a good exercise in writing OOP code in Python.\n",
    "\n",
    "Oh I get it now. Rt1 is the reward gotten for taking action a at state s (current state). It's then a sum of that reward with the maximum acheivable summed reward of all future actions & states, discounted, and minus the current states .. cost, or something like that. So yeah it does do a big bit of computation because for every move it calculates the potential of every possible subsequent move, and of those chooses the 'best' one. Got it.\n",
    "\n",
    "___\n",
    "\n",
    "\n",
    "scratch work below:"
   ]
  },
  {
   "cell_type": "code",
   "execution_count": 494,
   "metadata": {},
   "outputs": [
    {
     "name": "stdout",
     "output_type": "stream",
     "text": [
      "[3, 2, 1, 4, 5]\n",
      "[(0, 3), (1, 2), (2, 1), (3, 4), (4, 5)]\n",
      "(4, 5)\n"
     ]
    }
   ],
   "source": [
    "# https://stackoverflow.com/a/28906262\n",
    "a = [3,2,1,4,5]\n",
    "print(a)\n",
    "\n",
    "print(list(enumerate(a)))\n",
    "\n",
    "print(max(enumerate(a), key=(lambda x: x[1])))"
   ]
  },
  {
   "cell_type": "code",
   "execution_count": 495,
   "metadata": {},
   "outputs": [],
   "source": [
    "graph = Graph(3, [2,3,1])\n",
    "# graph = Graph(1, [1,1])"
   ]
  },
  {
   "cell_type": "code",
   "execution_count": 496,
   "metadata": {},
   "outputs": [
    {
     "data": {
      "text/plain": [
       "['STATE_1C', 1]"
      ]
     },
     "execution_count": 496,
     "metadata": {},
     "output_type": "execute_result"
    }
   ],
   "source": [
    "state = graph['root']\n",
    "graph.nextQMove(state)"
   ]
  },
  {
   "cell_type": "code",
   "execution_count": 497,
   "metadata": {},
   "outputs": [
    {
     "name": "stdout",
     "output_type": "stream",
     "text": [
      "STATE_00\n",
      "> STATE_1A - 2\n",
      "> > STATE_2AA - 2\n",
      "> > > STATE_3AAA - 2\n",
      "> > > STATE_3AAB - 3\n",
      "> > > STATE_3AAC - 1\n",
      "> > STATE_2AB - 3\n",
      "> > > STATE_3ABA - 2\n",
      "> > > STATE_3ABB - 3\n",
      "> > > STATE_3ABC - 1\n",
      "> > STATE_2AC - 1\n",
      "> > > STATE_3ACA - 2\n",
      "> > > STATE_3ACB - 3\n",
      "> > > STATE_3ACC - 1\n",
      "> STATE_1B - 3\n",
      "> > STATE_2BA - 2\n",
      "> > > STATE_3BAA - 2\n",
      "> > > STATE_3BAB - 3\n",
      "> > > STATE_3BAC - 1\n",
      "> > STATE_2BB - 3\n",
      "> > > STATE_3BBA - 2\n",
      "> > > STATE_3BBB - 3\n",
      "> > > STATE_3BBC - 1\n",
      "> > STATE_2BC - 1\n",
      "> > > STATE_3BCA - 2\n",
      "> > > STATE_3BCB - 3\n",
      "> > > STATE_3BCC - 1\n",
      "> STATE_1C - 1\n",
      "> > STATE_2CA - 2\n",
      "> > > STATE_3CAA - 2\n",
      "> > > STATE_3CAB - 3\n",
      "> > > STATE_3CAC - 1\n",
      "> > STATE_2CB - 3\n",
      "> > > STATE_3CBA - 2\n",
      "> > > STATE_3CBB - 3\n",
      "> > > STATE_3CBC - 1\n",
      "> > STATE_2CC - 1\n",
      "> > > STATE_3CCA - 2\n",
      "> > > STATE_3CCB - 3\n",
      "> > > STATE_3CCC - 1\n"
     ]
    }
   ],
   "source": [
    "graph.displayNested()"
   ]
  },
  {
   "cell_type": "code",
   "execution_count": 444,
   "metadata": {},
   "outputs": [
    {
     "data": {
      "text/plain": [
       "2.0"
      ]
     },
     "execution_count": 444,
     "metadata": {},
     "output_type": "execute_result"
    }
   ],
   "source": [
    "graph.currentCost(graph.subordinates('STATE_00')[0][0])"
   ]
  },
  {
   "cell_type": "code",
   "execution_count": 445,
   "metadata": {},
   "outputs": [
    {
     "data": {
      "text/plain": [
       "0.0"
      ]
     },
     "execution_count": 445,
     "metadata": {},
     "output_type": "execute_result"
    }
   ],
   "source": [
    "graph.currentCost('STATE_00')"
   ]
  },
  {
   "cell_type": "code",
   "execution_count": 432,
   "metadata": {},
   "outputs": [
    {
     "data": {
      "text/plain": [
       "['STATE_1A', 2]"
      ]
     },
     "execution_count": 432,
     "metadata": {},
     "output_type": "execute_result"
    }
   ],
   "source": [
    "graph.subordinates('STATE_00')[0]"
   ]
  },
  {
   "cell_type": "code",
   "execution_count": 433,
   "metadata": {},
   "outputs": [
    {
     "data": {
      "text/plain": [
       "['STATE_00', 2]"
      ]
     },
     "execution_count": 433,
     "metadata": {},
     "output_type": "execute_result"
    }
   ],
   "source": [
    "graph.superior('STATE_1A')"
   ]
  },
  {
   "cell_type": "code",
   "execution_count": 434,
   "metadata": {},
   "outputs": [
    {
     "data": {
      "text/plain": [
       "['STATE_00', 2]"
      ]
     },
     "execution_count": 434,
     "metadata": {},
     "output_type": "execute_result"
    }
   ],
   "source": [
    "graph.superior(['State_1a',2][0])"
   ]
  },
  {
   "cell_type": "code",
   "execution_count": 435,
   "metadata": {},
   "outputs": [
    {
     "data": {
      "text/plain": [
       "'STATE_1A'"
      ]
     },
     "execution_count": 435,
     "metadata": {},
     "output_type": "execute_result"
    }
   ],
   "source": [
    "graph.subordinates('STATE_00')[0][0]"
   ]
  },
  {
   "cell_type": "code",
   "execution_count": 398,
   "metadata": {},
   "outputs": [
    {
     "name": "stdout",
     "output_type": "stream",
     "text": [
      "STATE_00\n",
      "> STATE_1A\n",
      "> > STATE_2AA\n",
      "> > > STATE_3AAA\n",
      "> > > STATE_3AAB\n",
      "> > > STATE_3AAC\n",
      "> > STATE_2AB\n",
      "> > > STATE_3ABA\n",
      "> > > STATE_3ABB\n",
      "> > > STATE_3ABC\n",
      "> > STATE_2AC\n",
      "> STATE_1B\n",
      "> > STATE_2BA\n",
      "> > > STATE_3BAA\n",
      "> > > STATE_3BAB\n",
      "> > > STATE_3BAC\n",
      "> > STATE_2BB\n",
      "> > > STATE_3BBA\n",
      "> > > STATE_3BBB\n",
      "> > > STATE_3BBC\n",
      "> > STATE_2BC\n",
      "> STATE_1C\n"
     ]
    }
   ],
   "source": [
    "# essentially depth-first display\n",
    "graph.displayNested()"
   ]
  },
  {
   "cell_type": "code",
   "execution_count": 396,
   "metadata": {},
   "outputs": [
    {
     "name": "stdout",
     "output_type": "stream",
     "text": [
      "STATE_00\n",
      "  [['STATE_1A', 2], ['STATE_1B', 3]]\n",
      "> STATE_1A\n",
      "    [['STATE_2AA', 2], ['STATE_2AB', 3]]\n",
      "> STATE_1B\n",
      "    [['STATE_2BA', 2], ['STATE_2BB', 3]]\n",
      "> > STATE_2AA\n",
      "      [['STATE_3AAA', 2], ['STATE_3AAB', 3]]\n",
      "> > STATE_2AB\n",
      "      [['STATE_3ABA', 2], ['STATE_3ABB', 3]]\n",
      "> > STATE_2BA\n",
      "      [['STATE_3BAA', 2], ['STATE_3BAB', 3]]\n",
      "> > STATE_2BB\n",
      "      [['STATE_3BBA', 2], ['STATE_3BBB', 3]]\n",
      "> > > STATE_3AAA\n",
      "        []\n",
      "> > > STATE_3AAB\n",
      "        []\n",
      "> > > STATE_3ABA\n",
      "        []\n",
      "> > > STATE_3ABB\n",
      "        []\n",
      "> > > STATE_3BAA\n",
      "        []\n",
      "> > > STATE_3BAB\n",
      "        []\n",
      "> > > STATE_3BBA\n",
      "        []\n",
      "> > > STATE_3BBB\n",
      "        []\n"
     ]
    }
   ],
   "source": [
    "# basically breadth-first display\n",
    "graph.display()"
   ]
  },
  {
   "cell_type": "code",
   "execution_count": 333,
   "metadata": {},
   "outputs": [
    {
     "name": "stdout",
     "output_type": "stream",
     "text": [
      "['STATE_1A', 2]\n",
      "['STATE_1B', 3]\n"
     ]
    }
   ],
   "source": [
    "for state in graph.subordinates(graph.getLevel(0)[0]):\n",
    "    print(state)"
   ]
  },
  {
   "cell_type": "code",
   "execution_count": 301,
   "metadata": {},
   "outputs": [
    {
     "data": {
      "text/plain": [
       "dict_keys(['root', 'STATE_00', 'STATE_1A', 'STATE_1B', 'STATE_2AA', 'STATE_2AB', 'STATE_2BA', 'STATE_2BB', 'STATE_3AAA', 'STATE_3AAB', 'STATE_3ABA', 'STATE_3ABB', 'STATE_3BAA', 'STATE_3BAB', 'STATE_3BBA', 'STATE_3BBB'])"
      ]
     },
     "execution_count": 301,
     "metadata": {},
     "output_type": "execute_result"
    }
   ],
   "source": [
    "graph.keys()"
   ]
  },
  {
   "cell_type": "code",
   "execution_count": 321,
   "metadata": {},
   "outputs": [
    {
     "name": "stdout",
     "output_type": "stream",
     "text": [
      "STATE_00\n",
      "  [['STATE_1A', 2], ['STATE_1B', 3]]\n",
      "> STATE_1A\n",
      "    [['STATE_2AA', 2], ['STATE_2AB', 3]]\n",
      "> STATE_1B\n",
      "    [['STATE_2BA', 2], ['STATE_2BB', 3]]\n",
      "> > STATE_2AA\n",
      "      [['STATE_3AAA', 2], ['STATE_3AAB', 3]]\n",
      "> > STATE_2AB\n",
      "      [['STATE_3ABA', 2], ['STATE_3ABB', 3]]\n",
      "> > STATE_2BA\n",
      "      [['STATE_3BAA', 2], ['STATE_3BAB', 3]]\n",
      "> > STATE_2BB\n",
      "      [['STATE_3BBA', 2], ['STATE_3BBB', 3]]\n",
      "> > > STATE_3AAA\n",
      "        []\n",
      "> > > STATE_3AAB\n",
      "        []\n",
      "> > > STATE_3ABA\n",
      "        []\n",
      "> > > STATE_3ABB\n",
      "        []\n",
      "> > > STATE_3BAA\n",
      "        []\n",
      "> > > STATE_3BAB\n",
      "        []\n",
      "> > > STATE_3BBA\n",
      "        []\n",
      "> > > STATE_3BBB\n",
      "        []\n"
     ]
    }
   ],
   "source": [
    "graph.display()"
   ]
  },
  {
   "cell_type": "code",
   "execution_count": 273,
   "metadata": {},
   "outputs": [
    {
     "data": {
      "text/plain": [
       "['STATE_00', 'STATE_01', 'STATE_02']"
      ]
     },
     "execution_count": 273,
     "metadata": {},
     "output_type": "execute_result"
    }
   ],
   "source": [
    "graph.getLevel(0)"
   ]
  },
  {
   "cell_type": "code",
   "execution_count": null,
   "metadata": {
    "collapsed": true
   },
   "outputs": [],
   "source": []
  },
  {
   "cell_type": "code",
   "execution_count": null,
   "metadata": {
    "collapsed": true
   },
   "outputs": [],
   "source": []
  },
  {
   "cell_type": "code",
   "execution_count": 264,
   "metadata": {},
   "outputs": [
    {
     "data": {
      "text/plain": [
       "[['STATE_02', 3]]"
      ]
     },
     "execution_count": 264,
     "metadata": {},
     "output_type": "execute_result"
    }
   ],
   "source": [
    "graph['STATE_1A']"
   ]
  },
  {
   "cell_type": "code",
   "execution_count": 261,
   "metadata": {},
   "outputs": [
    {
     "name": "stdout",
     "output_type": "stream",
     "text": [
      "STATE_00\n",
      "  [['STATE_1A', 3], ['STATE_1B', 4], ['STATE_1C', 5], ['STATE_2A', 3], ['STATE_2B', 4], ['STATE_2C', 5], ['STATE_3A', 3], ['STATE_3B', 4], ['STATE_3C', 5], ['STATE_4A', 3], ['STATE_4B', 4], ['STATE_4C', 5]]\n",
      "> STATE_1A\n",
      "    []\n",
      "> STATE_1B\n",
      "    []\n",
      "> STATE_1C\n",
      "    []\n",
      "STATE_01\n",
      "  [['STATE_1B', 4], ['STATE_1C', 5], ['STATE_2A', 3], ['STATE_2B', 4], ['STATE_2C', 5], ['STATE_3A', 3], ['STATE_3B', 4], ['STATE_3C', 5], ['STATE_4A', 3], ['STATE_4B', 4], ['STATE_4C', 5]]\n",
      "STATE_02\n",
      "  [['STATE_1B', 4], ['STATE_1C', 5], ['STATE_2A', 3], ['STATE_2B', 4], ['STATE_2C', 5], ['STATE_3A', 3], ['STATE_3B', 4], ['STATE_3C', 5], ['STATE_4A', 3], ['STATE_4B', 4], ['STATE_4C', 5]]\n",
      "> > STATE_2A\n",
      "      []\n",
      "> > STATE_2B\n",
      "      []\n",
      "> > STATE_2C\n",
      "      []\n",
      "> > > STATE_3A\n",
      "        []\n",
      "> > > STATE_3B\n",
      "        []\n",
      "> > > STATE_3C\n",
      "        []\n",
      "> > > > STATE_4A\n",
      "          []\n",
      "> > > > STATE_4B\n",
      "          []\n",
      "> > > > STATE_4C\n",
      "          []\n"
     ]
    }
   ],
   "source": [
    "graph.display()"
   ]
  },
  {
   "cell_type": "code",
   "execution_count": 209,
   "metadata": {},
   "outputs": [
    {
     "data": {
      "text/plain": [
       "dict_keys(['root', 'STATE_00', 'STATE_1A', 'STATE_1B', 'STATE_01', 'STATE_2A', 'STATE_2B', 'STATE_02', 'STATE_3A', 'STATE_3B'])"
      ]
     },
     "execution_count": 209,
     "metadata": {},
     "output_type": "execute_result"
    }
   ],
   "source": [
    "graph.keys()"
   ]
  },
  {
   "cell_type": "code",
   "execution_count": null,
   "metadata": {
    "collapsed": true
   },
   "outputs": [],
   "source": [
    "[k]"
   ]
  },
  {
   "cell_type": "code",
   "execution_count": 235,
   "metadata": {},
   "outputs": [
    {
     "data": {
      "text/plain": [
       "['STATE_00', 'STATE_01', 'STATE_02']"
      ]
     },
     "execution_count": 235,
     "metadata": {},
     "output_type": "execute_result"
    }
   ],
   "source": [
    "depth = 0\n",
    "states = [key for key in graph.keys() if key.split('_')[-1][0].isdigit() and int(key.split('_')[-1][0]) == depth]\n",
    "states"
   ]
  },
  {
   "cell_type": "code",
   "execution_count": 227,
   "metadata": {},
   "outputs": [
    {
     "data": {
      "text/plain": [
       "['root',\n",
       " 'STATE_00',\n",
       " 'STATE_1A',\n",
       " 'STATE_1B',\n",
       " 'STATE_01',\n",
       " 'STATE_2A',\n",
       " 'STATE_2B',\n",
       " 'STATE_02',\n",
       " 'STATE_3A',\n",
       " 'STATE_3B']"
      ]
     },
     "execution_count": 227,
     "metadata": {},
     "output_type": "execute_result"
    }
   ],
   "source": [
    "states = [key for key in graph.keys()]; states"
   ]
  },
  {
   "cell_type": "code",
   "execution_count": 233,
   "metadata": {},
   "outputs": [
    {
     "data": {
      "text/plain": [
       "['STATE_00',\n",
       " 'STATE_1A',\n",
       " 'STATE_1B',\n",
       " 'STATE_01',\n",
       " 'STATE_2A',\n",
       " 'STATE_2B',\n",
       " 'STATE_02',\n",
       " 'STATE_3A',\n",
       " 'STATE_3B']"
      ]
     },
     "execution_count": 233,
     "metadata": {},
     "output_type": "execute_result"
    }
   ],
   "source": [
    "[key for key in states if key.split('_')[-1][0].isdigit()]"
   ]
  },
  {
   "cell_type": "code",
   "execution_count": 232,
   "metadata": {},
   "outputs": [
    {
     "data": {
      "text/plain": [
       "True"
      ]
     },
     "execution_count": 232,
     "metadata": {},
     "output_type": "execute_result"
    }
   ],
   "source": [
    "states[1].split('_')[-1][0].isdigit()"
   ]
  },
  {
   "cell_type": "code",
   "execution_count": null,
   "metadata": {
    "collapsed": true
   },
   "outputs": [],
   "source": []
  },
  {
   "cell_type": "code",
   "execution_count": 208,
   "metadata": {},
   "outputs": [
    {
     "data": {
      "text/plain": [
       "'STATE_00'"
      ]
     },
     "execution_count": 208,
     "metadata": {},
     "output_type": "execute_result"
    }
   ],
   "source": [
    "graph['root'][0][0]"
   ]
  },
  {
   "cell_type": "code",
   "execution_count": 65,
   "metadata": {},
   "outputs": [
    {
     "data": {
      "text/plain": [
       "[['root', 0.0], ['state_1A', 2], ['state_1B', 3]]"
      ]
     },
     "execution_count": 65,
     "metadata": {},
     "output_type": "execute_result"
    }
   ],
   "source": [
    "graph['state_00']"
   ]
  },
  {
   "cell_type": "code",
   "execution_count": 66,
   "metadata": {},
   "outputs": [
    {
     "data": {
      "text/plain": [
       "{'root': [['state_00', 0.0]],\n",
       " 'state_00': [['root', 0.0], ['state_1A', 2], ['state_1B', 3]],\n",
       " 'state_1A': [['state_00', 2]],\n",
       " 'state_1B': [['state_00', 3]]}"
      ]
     },
     "execution_count": 66,
     "metadata": {},
     "output_type": "execute_result"
    }
   ],
   "source": [
    "graph.graph"
   ]
  },
  {
   "cell_type": "code",
   "execution_count": 67,
   "metadata": {},
   "outputs": [
    {
     "data": {
      "text/plain": [
       "dict_keys(['root', 'state_00', 'state_1A', 'state_1B'])"
      ]
     },
     "execution_count": 67,
     "metadata": {},
     "output_type": "execute_result"
    }
   ],
   "source": [
    "graph.keys()"
   ]
  },
  {
   "cell_type": "code",
   "execution_count": 68,
   "metadata": {},
   "outputs": [
    {
     "data": {
      "text/plain": [
       "[['state_00', 0.0]]"
      ]
     },
     "execution_count": 68,
     "metadata": {},
     "output_type": "execute_result"
    }
   ],
   "source": [
    "graph['root']"
   ]
  },
  {
   "cell_type": "code",
   "execution_count": 69,
   "metadata": {},
   "outputs": [
    {
     "data": {
      "text/plain": [
       "[['root', 0.0], ['state_1A', 2], ['state_1B', 3]]"
      ]
     },
     "execution_count": 69,
     "metadata": {},
     "output_type": "execute_result"
    }
   ],
   "source": [
    "graph['state_00']"
   ]
  },
  {
   "cell_type": "code",
   "execution_count": 70,
   "metadata": {},
   "outputs": [
    {
     "data": {
      "text/plain": [
       "[['state_00', 2]]"
      ]
     },
     "execution_count": 70,
     "metadata": {},
     "output_type": "execute_result"
    }
   ],
   "source": [
    "graph['state_1A']"
   ]
  },
  {
   "cell_type": "code",
   "execution_count": 71,
   "metadata": {},
   "outputs": [
    {
     "data": {
      "text/plain": [
       "[['state_00', 3]]"
      ]
     },
     "execution_count": 71,
     "metadata": {},
     "output_type": "execute_result"
    }
   ],
   "source": [
    "graph['state_1B']"
   ]
  },
  {
   "cell_type": "code",
   "execution_count": 72,
   "metadata": {},
   "outputs": [
    {
     "data": {
      "text/plain": [
       "['root', 0.0]"
      ]
     },
     "execution_count": 72,
     "metadata": {},
     "output_type": "execute_result"
    }
   ],
   "source": [
    "graph.superior('state_00')"
   ]
  },
  {
   "cell_type": "markdown",
   "metadata": {},
   "source": [
    "Alrighty. Let's implement a 4-state deep graph with 3 actions at each level."
   ]
  },
  {
   "cell_type": "code",
   "execution_count": 175,
   "metadata": {
    "collapsed": true
   },
   "outputs": [],
   "source": [
    "# action weights\n",
    "actions = [3, 4, 5]\n",
    "depth   = 4\n",
    "\n",
    "graph = Graph(depth, actions)"
   ]
  },
  {
   "cell_type": "code",
   "execution_count": 176,
   "metadata": {},
   "outputs": [
    {
     "data": {
      "text/plain": [
       "{'STATE_00': [['root', 0.0],\n",
       "  ['STATE_1A', 3],\n",
       "  ['STATE_1B', 4],\n",
       "  ['STATE_1C', 5]],\n",
       " 'STATE_01': [['STATE_2A', 3], ['STATE_2B', 4], ['STATE_2C', 5]],\n",
       " 'STATE_02': [['STATE_3A', 3], ['STATE_3B', 4], ['STATE_3C', 5]],\n",
       " 'STATE_03': [['STATE_4A', 3], ['STATE_4B', 4], ['STATE_4C', 5]],\n",
       " 'STATE_1A': [['STATE_00', 3]],\n",
       " 'STATE_1B': [['STATE_00', 4]],\n",
       " 'STATE_1C': [['STATE_00', 5]],\n",
       " 'STATE_2A': [['STATE_01', 3]],\n",
       " 'STATE_2B': [['STATE_01', 4]],\n",
       " 'STATE_2C': [['STATE_01', 5]],\n",
       " 'STATE_3A': [['STATE_02', 3]],\n",
       " 'STATE_3B': [['STATE_02', 4]],\n",
       " 'STATE_3C': [['STATE_02', 5]],\n",
       " 'STATE_4A': [['STATE_03', 3]],\n",
       " 'STATE_4B': [['STATE_03', 4]],\n",
       " 'STATE_4C': [['STATE_03', 5]],\n",
       " 'root': [['STATE_00', 0.0]]}"
      ]
     },
     "execution_count": 176,
     "metadata": {},
     "output_type": "execute_result"
    }
   ],
   "source": [
    "graph.graph"
   ]
  },
  {
   "cell_type": "code",
   "execution_count": 177,
   "metadata": {},
   "outputs": [
    {
     "name": "stdout",
     "output_type": "stream",
     "text": [
      "STATE_00\n",
      "  [['STATE_1A', 3], ['STATE_1B', 4], ['STATE_1C', 5]]\n",
      "  STATE_1A\n",
      "    []\n",
      "  STATE_1B\n",
      "    []\n",
      "  STATE_1C\n",
      "    []\n",
      "STATE_01\n",
      "  [['STATE_2B', 4], ['STATE_2C', 5]]\n",
      "    STATE_2A\n",
      "      []\n",
      "    STATE_2B\n",
      "      []\n",
      "    STATE_2C\n",
      "      []\n",
      "STATE_02\n",
      "  [['STATE_3B', 4], ['STATE_3C', 5]]\n",
      "      STATE_3A\n",
      "        []\n",
      "      STATE_3B\n",
      "        []\n",
      "      STATE_3C\n",
      "        []\n",
      "STATE_03\n",
      "  [['STATE_4B', 4], ['STATE_4C', 5]]\n",
      "        STATE_4A\n",
      "          []\n",
      "        STATE_4B\n",
      "          []\n",
      "        STATE_4C\n",
      "          []\n"
     ]
    }
   ],
   "source": [
    "graph.display()"
   ]
  },
  {
   "cell_type": "code",
   "execution_count": null,
   "metadata": {
    "collapsed": true
   },
   "outputs": [],
   "source": [
    "#     def __populate(self):\n",
    "#         base_name = 'STATE_'\n",
    "#         for a in range(len(actions)):\n",
    "#             self.__addNode('STATE_00',\n",
    "#                            'base_name' + str(d+1) + chr(ord('A') + a),\n",
    "#                            self.actions[a])\n",
    "#         for d in range(1, depth):\n",
    "#             for a in range(len(actions)):\n",
    "#                 base_name = 'STATE_' + str(d) + chr(ord('A') + a)\n",
    "#                 # TODO   \n",
    "\n",
    "#         STATE_00\n",
    "#             \\----STATE_1A\n",
    "#                     \\--------STATE_2AA\n",
    "#                      \\-------STATE_2AB\n",
    "#                       \\------STATE_2AC\n",
    "#              \\---STATE_1B\n",
    "#                     \\--------STATE_2BA\n",
    "#                      \\-------STATE_2BB\n",
    "#                       \\------STATE_2BC\n",
    "#               \\--STATE_1C\n",
    "#                     \\--------STATE_2CA\n",
    "#                      \\-------STATE_2CB\n",
    "#                       \\------STATE_2CC\n",
    "        \n",
    "#         for d in range(self.depth):\n",
    "#             self.__addNode(\n",
    "        \n",
    "        \n",
    "        \n",
    "#         node_name = self.__getitem__('root')[0][0]\n",
    "#         for d in range(self.depth):\n",
    "#             for a in range(len(self.actions)):\n",
    "#                 self.__addNode(node_name, )\n",
    "#                 self.__addNode('STATE_0' + str(d),\n",
    "#                              'STATE_' + str(d+1) + chr(ord('A') + a),\n",
    "#                              self.actions[a])"
   ]
  }
 ],
 "metadata": {
  "kernelspec": {
   "display_name": "Python 3 (FastAI)",
   "language": "python",
   "name": "fastai"
  },
  "language_info": {
   "codemirror_mode": {
    "name": "ipython",
    "version": 3
   },
   "file_extension": ".py",
   "mimetype": "text/x-python",
   "name": "python",
   "nbconvert_exporter": "python",
   "pygments_lexer": "ipython3",
   "version": "3.6.4"
  }
 },
 "nbformat": 4,
 "nbformat_minor": 2
}
