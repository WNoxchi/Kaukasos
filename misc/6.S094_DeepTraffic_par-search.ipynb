{
 "cells": [
  {
   "cell_type": "markdown",
   "metadata": {},
   "source": [
    "Wayne H Nixalo\n",
    "\n",
    "MIT 6.S094: Deep Learning for Self-Driving Cars\n",
    "\n",
    "## Parameter / Architecture Search for [DeepTraffic](https://selfdrivingcars.mit.edu/deeptraffic/).\n",
    "\n",
    "---"
   ]
  },
  {
   "cell_type": "markdown",
   "metadata": {},
   "source": [
    "### I. Basic Parameter Search\n",
    "\n",
    "I'll be going through:\n",
    "\n",
    "* `laneside`\n",
    "* `patchesAhead`\n",
    "* `patchesBehind`\n",
    "* `num_neurons` -- in FC layer\n",
    "\n",
    "I'm not sure yet if I'll touch:\n",
    "\n",
    "* `trainIterations`\n",
    "* `otherAgents`\n",
    "* number of FC layers\n",
    "* `learning_rate`\n",
    "* `momentum`\n",
    "* `batch_size`\n",
    "* `l2_decay`"
   ]
  },
  {
   "cell_type": "markdown",
   "metadata": {},
   "source": [
    "#### 1. Stock Settings: 51.51 mph"
   ]
  },
  {
   "cell_type": "code",
   "execution_count": 1,
   "metadata": {
    "collapsed": true
   },
   "outputs": [],
   "source": [
    "lanesSide = 0\n",
    "patchesAhead = 1\n",
    "patchesBehind = 0\n",
    "trainIterations = 10000\n",
    "\n",
    "otherAgents = 0; # max of 10\n",
    "\n",
    "# FC Layer 1\n",
    "num_neurons = 1\n",
    "\n",
    "learning_rate = 0.001\n",
    "momentum = 0.0\n",
    "batch_size = 64\n",
    "l2_decay = 0.01"
   ]
  },
  {
   "cell_type": "markdown",
   "metadata": {},
   "source": [
    "`lanesSide = 1`: **51.51**\n",
    "\n",
    "`lanesSide = 2`: **51.63**\n",
    "\n",
    "`lanesSide = 4`: **51.79**"
   ]
  },
  {
   "cell_type": "markdown",
   "metadata": {},
   "source": [
    "```\n",
    "lanesSide    = 1\n",
    "patchesAhead = 2\n",
    "    \n",
    "```\n",
    "*speed:* **51.51**\n",
    "\n",
    "```\n",
    "lanesSide    = 1\n",
    "patchesAhead = 4\n",
    "```\n",
    "\n",
    "*speed:* **51.51**\n",
    "\n",
    "```\n",
    "lanesSide    = 1\n",
    "patchesAhead = 8\n",
    "```\n",
    "\n",
    "*speed:* **51.57**"
   ]
  },
  {
   "cell_type": "markdown",
   "metadata": {},
   "source": [
    "```\n",
    "lanesSide    = 2\n",
    "patchesAhead = 2\n",
    "    \n",
    "```\n",
    "*speed:* **51.69**\n",
    "\n",
    "```\n",
    "lanesSide    = 2\n",
    "patchesAhead = 4\n",
    "```\n",
    "\n",
    "*speed:* **52.28**\n",
    "\n",
    "```\n",
    "lanesSide    = 2\n",
    "patchesAhead = 8\n",
    "```\n",
    "\n",
    "*speed:* **51.51**"
   ]
  },
  {
   "cell_type": "markdown",
   "metadata": {},
   "source": [
    "I seem to be within signal noise a lot. I'm going to guess some \"good\" parameters and see how tweaking that works."
   ]
  },
  {
   "cell_type": "markdown",
   "metadata": {},
   "source": [
    "#### 2. Guessed Settings: 62.27\n",
    "\n",
    "I had to balance with training time. Looking at the simulation, it looked like it took some time for the network to make a turn decision. With this combined w/ wanting to cut down on train time, I thought I could get better performance by trading side-to-side view distance for forward view distance -- giving the network more time to act on a decision, even if it had less total input to make it. ie: being able to execute an Okay decision is better than being unable a decision at all, Great or not."
   ]
  },
  {
   "cell_type": "code",
   "execution_count": 1,
   "metadata": {
    "collapsed": true
   },
   "outputs": [],
   "source": [
    "lanesSide = 2\n",
    "patchesAhead = 16\n",
    "patchesBehind = 1\n",
    "trainIterations = 10000\n",
    "\n",
    "otherAgents = 0; # max of 10\n",
    "\n",
    "# FC Layer 1\n",
    "num_neurons = network_size // num_actions # 355//5=71\n",
    "\n",
    "learning_rate = 0.001\n",
    "momentum = 0.0\n",
    "batch_size = 64\n",
    "l2_decay = 0.01"
   ]
  },
  {
   "cell_type": "code",
   "execution_count": 6,
   "metadata": {},
   "outputs": [
    {
     "data": {
      "text/plain": [
       "175"
      ]
     },
     "execution_count": 6,
     "metadata": {},
     "output_type": "execute_result"
    }
   ],
   "source": [
    "lanesSide = 2; patchesAhead=8; patchesBehind=0; num_actions=5\n",
    "\n",
    "num_inputs = (lanesSide * 2 + 1) * (patchesAhead + patchesBehind)\n",
    "temporal_window = 3\n",
    "network_size = num_inputs * temporal_window + num_actions * temporal_window + num_inputs\n",
    "network_size"
   ]
  },
  {
   "cell_type": "markdown",
   "metadata": {},
   "source": [
    " 64.11 mph"
   ]
  },
  {
   "cell_type": "markdown",
   "metadata": {},
   "source": [
    "```\n",
    "//<![CDATA[\n",
    "\n",
    "// SELF-NOTE: dunno how to get a Conv layer up in this.. couldn't quickly\n",
    "//            figure out how to format in/output tensor shape -- probably\n",
    "//            why it wasn't working. Apparently someone who did well last\n",
    "//            year basically brute-forced this? https://github.com/jordanott/Deep-Traffic/blob/master/deep_traffic.js\n",
    "//            I guess I'll see what a bigger FullNet can do since I'm\n",
    "//            already close to the passing 65mph. May change if I see\n",
    "//            working syntax for Conv->Pool->Full somewhere for ConvNet.js.\n",
    "//              -- WNixalo\n",
    "\n",
    "// a few things don't have var in front of them - they update already existing variables the game needs\n",
    "lanesSide = 3;\n",
    "patchesAhead = 17;\n",
    "patchesBehind = 1;\n",
    "trainIterations = 35000;\n",
    "\n",
    "// the number of other autonomous vehicles controlled by your network\n",
    "otherAgents = 0; // max of 10\n",
    "\n",
    "var num_inputs = (lanesSide * 2 + 1) * (patchesAhead + patchesBehind);\n",
    "var num_actions = 5;\n",
    "var temporal_window = 3;\n",
    "var network_size = num_inputs * temporal_window + num_actions * temporal_window + num_inputs;\n",
    "\n",
    "var layer_defs = [];\n",
    "    layer_defs.push({\n",
    "    type: 'input',\n",
    "    out_sx: 1,\n",
    "    out_sy: 1,\n",
    "    out_depth: network_size\n",
    "});\n",
    "// layer_defs.push({\n",
    "//     type: 'conv',\n",
    "//     filters: 5,\n",
    "//     stride:1,\n",
    "//     activation='relu'\n",
    "// });\n",
    "// layers_defs.push({\n",
    "//     type:'pool',\n",
    "//     sx:2,\n",
    "//     stride:2})\n",
    "layer_defs.push({\n",
    "    type: 'fc',\n",
    "    num_neurons: parseInt(network_size / num_actions / 1),\n",
    "    activation: 'relu'\n",
    "});\n",
    "// Local Contrast Normalization https://cs.stanford.edu/people/karpathy/convnetjs/docs.html\n",
    "layer_defs.push(\n",
    "    {type:'lrn',\n",
    "    k:1,\n",
    "    n:3,\n",
    "    alpha:0.1,\n",
    "    beta:0.75});\n",
    "layer_defs.push({\n",
    "    type: 'fc',\n",
    "    num_neurons: parseInt(network_size / num_actions / 1),\n",
    "    activation: 'relu'\n",
    "});\n",
    "layer_defs.push({\n",
    "    type: 'regression',\n",
    "    num_neurons: num_actions\n",
    "});\n",
    "\n",
    "var tdtrainer_options = {\n",
    "    learning_rate: 0.001,\n",
    "    momentum: 0.0,\n",
    "    batch_size: 128,\n",
    "    l2_decay: 0.01\n",
    "};\n",
    "\n",
    "var opt = {};\n",
    "opt.temporal_window = temporal_window;\n",
    "opt.experience_size = 3000;\n",
    "opt.start_learn_threshold = 500;\n",
    "opt.gamma = 0.7;\n",
    "opt.learning_steps_total = 10000;\n",
    "opt.learning_steps_burnin = 1000;\n",
    "opt.epsilon_min = 0.0;\n",
    "opt.epsilon_test_time = 0.0;\n",
    "opt.layer_defs = layer_defs;\n",
    "opt.tdtrainer_options = tdtrainer_options;\n",
    "\n",
    "brain = new deepqlearn.Brain(num_inputs, num_actions, opt);\n",
    "\n",
    "learn = function (state, lastReward) {\n",
    "brain.backward(lastReward);\n",
    "var action = brain.forward(state);\n",
    "\n",
    "draw_net();\n",
    "draw_stats();\n",
    "\n",
    "return action;\n",
    "}\n",
    "\n",
    "//]]>\n",
    "```"
   ]
  },
  {
   "cell_type": "markdown",
   "metadata": {},
   "source": [
    "65.13 mph"
   ]
  },
  {
   "cell_type": "code",
   "execution_count": null,
   "metadata": {
    "collapsed": true
   },
   "outputs": [],
   "source": []
  }
 ],
 "metadata": {
  "kernelspec": {
   "display_name": "Python 3 (FastAI)",
   "language": "python",
   "name": "fastai"
  },
  "language_info": {
   "codemirror_mode": {
    "name": "ipython",
    "version": 3
   },
   "file_extension": ".py",
   "mimetype": "text/x-python",
   "name": "python",
   "nbconvert_exporter": "python",
   "pygments_lexer": "ipython3",
   "version": "3.6.4"
  }
 },
 "nbformat": 4,
 "nbformat_minor": 2
}
