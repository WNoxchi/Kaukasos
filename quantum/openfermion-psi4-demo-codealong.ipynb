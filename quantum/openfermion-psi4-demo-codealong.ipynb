{
 "cells": [
  {
   "cell_type": "markdown",
   "metadata": {},
   "source": [
    "# OpenFermion – Psi4 demo\n",
    "\n",
    "---\n",
    "\n",
    "A codealong of [openfermionpsi4_demo.ipynb](https://github.com/quantumlib/OpenFermion-Psi4/blob/master/examples/openfermionpsi4_demo.ipynb)\n",
    "\n",
    "Wayne H Nixalo – 2018/6/27"
   ]
  },
  {
   "cell_type": "markdown",
   "metadata": {},
   "source": [
    "## Running Psi4 to populate the OpenFermion MolecularData class"
   ]
  },
  {
   "cell_type": "markdown",
   "metadata": {},
   "source": [
    ">The module `run_psi4.py` provides a user-friendly way of running Psi4 calculations in OpenFermion. The basic idea is that once one generates a `MolecularData` instance, once can then call Psi4 with a specification of certain options (for instance, how muhc memory to use and what calculations to do_ in order to compute things about the molecule, update the `MolecularData` object, and save results of the calculation.\n",
    ">\n",
    ">The most common calculations users will want in OpenFermion would probabl be self-consistent field (aka Hartree-Fock calulations). Our code uses these \"SCF\" calculations to compute orbitals integrals, Hartree-Fock, energy, and more. Other common calculations are CISD and FCI calculations which also compute the 1-RDM and 2-RDM associated with their answers; CCSD calculations which also compute the CCSD amplitudes (useful for UCC) and MP2 calculations which can also be used to UCCSD initial guesses. Note that the `\"delete_input\"` and `\"delete_output\"` options indicate whether to save automatically generated Psi4 input files or not.\n",
    "\n",
    ">To use this plugin, you will need to personally download Psi4. Python code in `psi4_template` instructs Psi4 (not python) to load the `MolecularData` object, populate it with information from calculations, and then save then save the `MolecularData` object as an HDF5. The module `run_psi4` uses subprocesses to actually `run_psi4` and then loads the pickled `MolecularData`. Let's look at a simple example where we compute the energy of H$_2$ at various bond lengths.\n",
    "\n",
    ">Warnings: electronic sructure calculations are finicky. They sometimes fail for surprising reasons. If a particular calculation is not converging it is probably necessary to change some of the SCF options set in `psi4_template`. See the Psi4 documentation for more information or consult an electronic structure theory expert."
   ]
  },
  {
   "cell_type": "code",
   "execution_count": 1,
   "metadata": {},
   "outputs": [],
   "source": [
    "%matplotlib inline"
   ]
  },
  {
   "cell_type": "code",
   "execution_count": 2,
   "metadata": {},
   "outputs": [
    {
     "name": "stdout",
     "output_type": "stream",
     "text": [
      "\n",
      "At bond length of 0.2 ångstrom, molecular hydrogen has:\n",
      "Hartree-Fock energy of 0.1641750014148149 Hartree.\n",
      "MP2 energy of 0.159042663260535 Hartree.\n",
      "FCI energy of 0.15748212414246954\n",
      "Nuclear repulsion energy between protons is 2.64588604295\n",
      "Spatial orbital 0 has energy of -0.8588245273148681\n",
      "Spatial orbital 1 has energy of 1.5723620302922923\n",
      "\n",
      "At bond length of 0.4 ångstrom, molecular hydrogen has:\n",
      "Hartree-Fock energy of -0.9043613977138452 Hartree.\n",
      "MP2 energy of -0.9114367296997886 Hartree.\n",
      "FCI energy of -0.9141497082141279\n",
      "Nuclear repulsion energy between protons is 1.322943021475\n",
      "Spatial orbital 0 has energy of -0.745212533290935\n",
      "Spatial orbital 1 has energy of 1.1674163950381238\n",
      "\n",
      "At bond length of 0.6000000000000001 ångstrom, molecular hydrogen has:\n",
      "Hartree-Fock energy of -1.1011282431368283 Hartree.\n",
      "MP2 energy of -1.111331767479406 Hartree.\n",
      "FCI energy of -1.1162860078265333\n",
      "Nuclear repulsion energy between protons is 0.8819620143166665\n",
      "Spatial orbital 0 has energy of -0.6408762643991083\n",
      "Spatial orbital 1 has energy of 0.8380849781488574\n",
      "\n",
      "At bond length of 0.8 ångstrom, molecular hydrogen has:\n",
      "Hartree-Fock energy of -1.1108503969854673 Hartree.\n",
      "MP2 energy of -1.125453091983667 Hartree.\n",
      "FCI energy of -1.134147666357861\n",
      "Nuclear repulsion energy between protons is 0.6614715107375\n",
      "Spatial orbital 0 has energy of -0.5544958797639516\n",
      "Spatial orbital 1 has energy of 0.6126180834930611\n",
      "\n",
      "At bond length of 1.0 ångstrom, molecular hydrogen has:\n",
      "Hartree-Fock energy of -1.066108648081752 Hartree.\n",
      "MP2 energy of -1.0866648035682118 Hartree.\n",
      "FCI energy of -1.1011503293035887\n",
      "Nuclear repulsion energy between protons is 0.52917720859\n",
      "Spatial orbital 0 has energy of -0.48444167896153395\n",
      "Spatial orbital 1 has energy of 0.4575019361641327\n",
      "\n",
      "At bond length of 1.2000000000000002 ångstrom, molecular hydrogen has:\n",
      "Hartree-Fock energy of -1.0051067048832327 Hartree.\n",
      "MP2 energy of -1.0336620966065266 Hartree.\n",
      "FCI energy of -1.0567407451325899\n",
      "Nuclear repulsion energy between protons is 0.44098100715833327\n",
      "Spatial orbital 0 has energy of -0.4265026407232457\n",
      "Spatial orbital 1 has energy of 0.3441268787843517\n",
      "\n",
      "At bond length of 1.4000000000000001 ångstrom, molecular hydrogen has:\n",
      "Hartree-Fock energy of -0.9414806527840187 Hartree.\n",
      "MP2 energy of -0.980568732858937 Hartree.\n",
      "FCI energy of -1.015468248142692\n",
      "Nuclear repulsion energy between protons is 0.3779837204214285\n",
      "Spatial orbital 0 has energy of -0.37732282396935907\n",
      "Spatial orbital 1 has energy of 0.2589019723128322\n",
      "\n",
      "At bond length of 1.6 ångstrom, molecular hydrogen has:\n",
      "Hartree-Fock energy of -0.881732447952122 Hartree.\n",
      "MP2 energy of -0.9342411695719486 Hartree.\n",
      "FCI energy of -0.9834727280932714\n",
      "Nuclear repulsion energy between protons is 0.33073575536875\n",
      "Spatial orbital 0 has energy of -0.335296350589184\n",
      "Spatial orbital 1 has energy of 0.1945979553997846\n",
      "\n",
      "At bond length of 1.8 ångstrom, molecular hydrogen has:\n",
      "Hartree-Fock energy of -0.8288481459846255 Hartree.\n",
      "MP2 energy of -0.8978805380405488 Hartree.\n",
      "FCI energy of -0.9618169521199156\n",
      "Nuclear repulsion energy between protons is 0.29398733810555555\n",
      "Spatial orbital 0 has energy of -0.2995632202234615\n",
      "Spatial orbital 1 has energy of 0.14596029662462143\n",
      "\n",
      "At bond length of 2.0 ångstrom, molecular hydrogen has:\n",
      "Hartree-Fock energy of -0.7837926524663108 Hartree.\n",
      "MP2 energy of -0.8725100604810726 Hartree.\n",
      "FCI energy of -0.9486411117424082\n",
      "Nuclear repulsion energy between protons is 0.264588604295\n",
      "Spatial orbital 0 has energy of -0.26945922244444087\n",
      "Spatial orbital 1 has energy of 0.10899736813189438\n"
     ]
    },
    {
     "data": {
      "text/plain": [
       "Text(0.5,0,'Bond length in ångstrom')"
      ]
     },
     "execution_count": 2,
     "metadata": {},
     "output_type": "execute_result"
    },
    {
     "data": {
      "image/png": "[encoded data removed]",
      "text/plain": [
       "<Figure size 432x288 with 1 Axes>"
      ]
     },
     "metadata": {},
     "output_type": "display_data"
    }
   ],
   "source": [
    "from openfermion.hamiltonians import MolecularData\n",
    "from openfermionpsi4 import run_psi4\n",
    "\n",
    "# Set molecule parameters\n",
    "basis = 'sto-3g'\n",
    "multiplicity = 1\n",
    "bond_length_interval = 0.2\n",
    "n_points = 10\n",
    "\n",
    "# Set calculation parameters\n",
    "run_scf = 1\n",
    "run_mp2 = 1\n",
    "run_cisd = 0\n",
    "run_ccsd = 0\n",
    "run_fci = 1\n",
    "delete_input = True\n",
    "delete_output = True\n",
    "\n",
    "# Generate molecule at different bond lengths\n",
    "hf_energies = []\n",
    "fci_energies = []\n",
    "bond_lengths = []\n",
    "for point in range(1, n_points + 1):\n",
    "    bond_length = bond_length_interval * float(point)\n",
    "    bond_lengths += [bond_length]\n",
    "    geometry = [('H', (0.,0.,0.)), ('H', (0.,0.,bond_length))]\n",
    "    molecule = MolecularData(\n",
    "        geometry, basis, multiplicity,\n",
    "        description=str(round(bond_length, 2)))\n",
    "    \n",
    "    # Run Psi4\n",
    "    molecule = run_psi4(molecule, \n",
    "                        run_scf=run_scf, \n",
    "                        run_mp2=run_mp2, \n",
    "                        run_cisd=run_cisd, \n",
    "                        run_ccsd=run_ccsd, \n",
    "                        run_fci=run_fci)\n",
    "    \n",
    "    # Print out some results of calculation\n",
    "    print(f'\\nAt bond length of {bond_length} ångstrom, molecular hydrogen has:')\n",
    "    print(f'Hartree-Fock energy of {molecule.hf_energy} Hartree.')\n",
    "    print(f'MP2 energy of {molecule.mp2_energy} Hartree.')\n",
    "    print(f'FCI energy of {molecule.fci_energy}')\n",
    "    print(f'Nuclear repulsion energy between protons is {molecule.nuclear_repulsion}')\n",
    "    for orbital in range(molecule.n_orbitals):\n",
    "        print(f'Spatial orbital {orbital} has energy of {molecule.orbital_energies[orbital]}')\n",
    "    hf_energies += [molecule.hf_energy]\n",
    "    fci_energies += [molecule.fci_energy]\n",
    "    \n",
    "# Plot\n",
    "import matplotlib.pyplot as plt\n",
    "\n",
    "plt.figure(0)\n",
    "plt.plot(bond_lengths, fci_energies, 'x-'); plt.plot(bond_lengths, hf_energies, 'o-');\n",
    "plt.ylabel('Energy in Hartree'); plt.xlabel('Bond length in ångstrom')"
   ]
  },
  {
   "cell_type": "markdown",
   "metadata": {},
   "source": [
    "I don't know what I did but this is cool. 🤓"
   ]
  }
 ],
 "metadata": {
  "kernelspec": {
   "display_name": "Python (quant)",
   "language": "python",
   "name": "quant"
  },
  "language_info": {
   "codemirror_mode": {
    "name": "ipython",
    "version": 3
   },
   "file_extension": ".py",
   "mimetype": "text/x-python",
   "name": "python",
   "nbconvert_exporter": "python",
   "pygments_lexer": "ipython3",
   "version": "3.6.5"
  }
 },
 "nbformat": 4,
 "nbformat_minor": 2
}
