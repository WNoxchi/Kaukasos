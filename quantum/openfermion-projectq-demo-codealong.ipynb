{
 "cells": [
  {
   "cell_type": "markdown",
   "metadata": {},
   "source": [
    "# OpenFermion Project Q Demo\n",
    "\n",
    "---\n",
    "\n",
    "Wayne H Nixalo – 2018/6/26\n",
    "\n",
    "A codealong of the OpenFermion ProjectQ [demo example](https://github.com/quantumlib/OpenFermion-ProjectQ/blob/master/examples/openfermionprojectq_demo.ipynb)."
   ]
  },
  {
   "cell_type": "code",
   "execution_count": 1,
   "metadata": {},
   "outputs": [],
   "source": [
    "%matplotlib inline\n",
    "%reload_ext autoreload\n",
    "%autoreload 2"
   ]
  },
  {
   "cell_type": "markdown",
   "metadata": {},
   "source": [
    "## Simulating a Variational Quantum Eigensolver using OpenFermion ProjectQ"
   ]
  },
  {
   "cell_type": "markdown",
   "metadata": {},
   "source": [
    ">We now demonstrate how one can use both OpenFermion and ProjectQ to run a simple VQE example using a Unitary Coupled Cluster ansatz. It demonstrates a simple way to evaluate the energy, optimize the energy wrt the ansatz and build the corresponding compiled quantum circuit. It utilizes OpenFermion to prepare the Hamiltonians as well as initial parameters and ProjectQ to build and simulate the circuit."
   ]
  },
  {
   "cell_type": "code",
   "execution_count": 2,
   "metadata": {},
   "outputs": [],
   "source": [
    "import os\n",
    "\n",
    "import numpy as np\n",
    "from scipy.optimize import minimize as scipy_minimize\n",
    "\n",
    "from openfermion.config import *\n",
    "from openfermionprojectq import *\n",
    "\n",
    "from openfermion.hamiltonians import MolecularData\n",
    "from openfermion.transforms import jordan_wigner # hi jordan\n",
    "from openfermion.utils import uccsd_singlet_paramsize\n",
    "\n",
    "from projectq.ops import X, All, Measure\n",
    "from projectq.backends import CommandPrinter, CircuitDrawer"
   ]
  },
  {
   "cell_type": "markdown",
   "metadata": {},
   "source": [
    ">Here we load H$_2$ from a precomputed molecule file found in the test data directory, and initialize the ProjectQ circuit compiler to a standard setting thta uses a first-order Trotter decomposition to break up the exponentials of non-commuting operators."
   ]
  },
  {
   "cell_type": "code",
   "execution_count": 3,
   "metadata": {},
   "outputs": [],
   "source": [
    "# Load the molecule\n",
    "filename = os.path.join(DATA_DIRECTORY, 'H2_sto-3g_singlet_0.7414')\n",
    "molecule = MolecularData(filename=filename)\n",
    "\n",
    "# Use a Jordan-Wiger encoding, and compress to remove 0 imaginary components\n",
    "qubit_hamiltonian = jordan_wigner(molecule.get_molecular_hamiltonian())\n",
    "qubit_hamiltonian.compress()\n",
    "compiler_engine = uccsd_trotter_engine()"
   ]
  },
  {
   "cell_type": "markdown",
   "metadata": {},
   "source": [
    "wait where is it getting data_dir... *how* does it know where it is?"
   ]
  },
  {
   "cell_type": "code",
   "execution_count": 4,
   "metadata": {},
   "outputs": [
    {
     "data": {
      "text/plain": [
       "'/Users/WayNoxchi/Deshar/Quantum/OpenFermion/src/openfermion/data'"
      ]
     },
     "execution_count": 4,
     "metadata": {},
     "output_type": "execute_result"
    }
   ],
   "source": [
    "DATA_DIRECTORY"
   ]
  },
  {
   "cell_type": "markdown",
   "metadata": {},
   "source": [
    "Ohhh. The package must an absolute path to its root folder when you build it. So if you move the library it you have to rebuild it. Got it."
   ]
  },
  {
   "cell_type": "markdown",
   "metadata": {},
   "source": [
    ">The Variational Quantum Eigensolver (or VQE) works by parameterizeing a wavefunction $\\lvert Ψ(θ) \\big\\rangle$ through some quantum circuit and minimizing the nergy wrt that angle, which is defined by\n",
    "\n",
    "$$E(θ) = \\big\\langle Ψ(θ)\\lvert H \\lvert Ψ(θ) \\big\\rangle \\,\\,\\,\\,\\, (1)$$\n",
    "\n",
    ">To perform the VQE loop with a simple molecule, it helps to wrap the evaluation of the energy into a simple objective function that takes the parameters of the circuit and returns the enregy. Here we define that function using ProjectQ to handle the qubits and the simulation."
   ]
  },
  {
   "cell_type": "code",
   "execution_count": 5,
   "metadata": {},
   "outputs": [],
   "source": [
    "def energy_objective(packed_amplitudes):\n",
    "    \"\"\"Evaluate the energy of a UCCSD singlet wavefunction w/ packed_amplitudes\n",
    "    Args:\n",
    "        packed_amplitudes(ndarray): Compact array that stores the unique\n",
    "            amplitudes for a UCCSD singlet wavefunction.\n",
    "    Returns:\n",
    "        energy(float): Energy corresponding to the given amplitudes\n",
    "    \"\"\"\n",
    "    os.environ[\"KMP_DUPLICATE_LIB_OK\"]=\"TRUE\"\n",
    "    \n",
    "    # Set Jordan-Wigner initial state w/ correct number of electrons\n",
    "    wavefunction = compiler_engine.allocate_qureg(molecule.n_qubits)\n",
    "    for i in range(molecule.n_electrons):\n",
    "        X | wavefunction[i]\n",
    "    \n",
    "    # Build the circuit and act it on the wavefunction\n",
    "    evolution_operator = uccsd_singlet_evolution(packed_amplitudes,\n",
    "                                                 molecule.n_qubits,\n",
    "                                                 molecule.n_electrons)\n",
    "    evolution_operator | wavefunction\n",
    "    compiler_engine.flush()\n",
    "    \n",
    "    # Evaluate the energy and reset wavefunction\n",
    "    energy = compiler_engine.backend.get_expectation_value(qubit_hamiltonian, wavefunction)\n",
    "    All(Measure) | wavefunction\n",
    "    compiler_engine.flush()\n",
    "    return energy"
   ]
  },
  {
   "cell_type": "markdown",
   "metadata": {},
   "source": [
    ">While we could plug this objective function into any optimizer, SciPy offers a convenient framework within the Python ecosystem. We'll choose as starting amplitudes the classical CCSD values that can be loaded from the molecule if desired. The optimal energy is found and compared to the exact values to verify that our simulation was successful."
   ]
  },
  {
   "cell_type": "code",
   "execution_count": 6,
   "metadata": {
    "scrolled": false
   },
   "outputs": [
    {
     "name": "stdout",
     "output_type": "stream",
     "text": [
      "Optimization terminated successfully.\n",
      "         Current function value: -1.137270\n",
      "         Iterations: 1\n",
      "         Function evaluations: 12\n",
      "         Gradient evaluations: 3\n",
      "\n",
      "Optimal UCCSD Singlet Energy: -1.1372701746253246\n",
      "Optimal UCCSD Singlet Amplitudes: [1.15179120e-09 5.65340671e-02]\n",
      "Classical CCSD Energy: -1.1372701746527767 Hartrees\n",
      "Exact FCI Energy: -1.137270174625328 Hartrees\n",
      "Initial Energy of UCCSD with CCSD amplitudes: -1.137269814563729 Hartrees\n"
     ]
    }
   ],
   "source": [
    "n_amplitudes = uccsd_singlet_paramsize(molecule.n_qubits, molecule.n_electrons)\n",
    "initial_amplitudes = [0, 0.05677]\n",
    "initial_energy = energy_objective(initial_amplitudes)\n",
    "\n",
    "# Run VQE Optimization to find new CCSD parameters\n",
    "opt_result = scipy_minimize(energy_objective, initial_amplitudes,\n",
    "                      method='CG', options={'disp':True})\n",
    "\n",
    "opt_energy, opt_amplitudes = opt_result.fun, opt_result.x\n",
    "print(\"\\nOptimal UCCSD Singlet Energy: {}\".format(opt_energy))\n",
    "print(\"Optimal UCCSD Singlet Amplitudes: {}\".format(opt_amplitudes))\n",
    "print(\"Classical CCSD Energy: {} Hartrees\".format(molecule.ccsd_energy))\n",
    "print(\"Exact FCI Energy: {} Hartrees\".format(molecule.fci_energy))\n",
    "print(\"Initial Energy of UCCSD with CCSD amplitudes: {} Hartrees\".format(initial_energy))"
   ]
  },
  {
   "cell_type": "markdown",
   "metadata": {},
   "source": [
    ">As we can see, the optimization terminates extremely quickly because the classical coupled cluster amplitudes were (for this molecule) already optimal. We can now use ProjectQ to compile this simulation circuit to a set of 2-body quantum gates."
   ]
  },
  {
   "cell_type": "code",
   "execution_count": 7,
   "metadata": {
    "scrolled": false
   },
   "outputs": [
    {
     "name": "stdout",
     "output_type": "stream",
     "text": [
      "Allocate | Qureg[0]\n",
      "Allocate | Qureg[1]\n",
      "Allocate | Qureg[2]\n",
      "Allocate | Qureg[3]\n",
      "X | Qureg[0]\n",
      "X | Qureg[1]\n",
      "Rx(1.570796326795) | Qureg[0]\n",
      "H | Qureg[2]\n",
      "CX | ( Qureg[0], Qureg[1] )\n",
      "CX | ( Qureg[1], Qureg[2] )\n",
      "Rz(1.152e-09) | Qureg[2]\n",
      "CX | ( Qureg[1], Qureg[2] )\n",
      "CX | ( Qureg[0], Qureg[1] )\n",
      "H | Qureg[2]\n",
      "Rx(10.995574287564) | Qureg[0]\n",
      "H | Qureg[0]\n",
      "Rx(1.570796326795) | Qureg[2]\n",
      "CX | ( Qureg[0], Qureg[1] )\n",
      "CX | ( Qureg[1], Qureg[2] )\n",
      "Rz(12.566370613207) | Qureg[2]\n",
      "CX | ( Qureg[1], Qureg[2] )\n",
      "CX | ( Qureg[0], Qureg[1] )\n",
      "Rx(10.995574287564) | Qureg[2]\n",
      "H | Qureg[0]\n",
      "Rx(1.570796326795) | Qureg[0]\n",
      "Rx(1.570796326795) | Qureg[1]\n",
      "Rx(1.570796326795) | Qureg[2]\n",
      "H | Qureg[3]\n",
      "CX | ( Qureg[0], Qureg[1] )\n",
      "CX | ( Qureg[1], Qureg[2] )\n",
      "CX | ( Qureg[2], Qureg[3] )\n",
      "Rz(0.028267033545) | Qureg[3]\n",
      "CX | ( Qureg[2], Qureg[3] )\n",
      "CX | ( Qureg[1], Qureg[2] )\n",
      "CX | ( Qureg[0], Qureg[1] )\n",
      "H | Qureg[3]\n",
      "Rx(10.995574287564) | Qureg[2]\n",
      "Rx(10.995574287564) | Qureg[1]\n",
      "Rx(10.995574287564) | Qureg[0]\n",
      "Rx(1.570796326795) | Qureg[0]\n",
      "H | Qureg[1]\n",
      "Rx(1.570796326795) | Qureg[2]\n",
      "Rx(1.570796326795) | Qureg[3]\n",
      "CX | ( Qureg[0], Qureg[1] )\n",
      "CX | ( Qureg[1], Qureg[2] )\n",
      "CX | ( Qureg[2], Qureg[3] )\n",
      "Rz(12.538103580814) | Qureg[3]\n",
      "CX | ( Qureg[2], Qureg[3] )\n",
      "CX | ( Qureg[1], Qureg[2] )\n",
      "CX | ( Qureg[0], Qureg[1] )\n",
      "Rx(10.995574287564) | Qureg[3]\n",
      "Rx(10.995574287564) | Qureg[2]\n",
      "H | Qureg[1]\n",
      "Rx(10.995574287564) | Qureg[0]\n",
      "H | Qureg[0]\n",
      "H | Qureg[1]\n",
      "Rx(1.570796326795) | Qureg[2]\n",
      "H | Qureg[3]\n",
      "CX | ( Qureg[0], Qureg[1] )\n",
      "CX | ( Qureg[1], Qureg[2] )\n",
      "CX | ( Qureg[2], Qureg[3] )\n",
      "Rz(12.538103580814) | Qureg[3]\n",
      "CX | ( Qureg[2], Qureg[3] )\n",
      "CX | ( Qureg[1], Qureg[2] )\n",
      "CX | ( Qureg[0], Qureg[1] )\n",
      "H | Qureg[3]\n",
      "Rx(10.995574287564) | Qureg[2]\n",
      "H | Qureg[1]\n",
      "H | Qureg[0]\n",
      "H | Qureg[0]\n",
      "Rx(1.570796326795) | Qureg[1]\n",
      "Rx(1.570796326795) | Qureg[2]\n",
      "Rx(1.570796326795) | Qureg[3]\n",
      "CX | ( Qureg[0], Qureg[1] )\n",
      "CX | ( Qureg[1], Qureg[2] )\n",
      "CX | ( Qureg[2], Qureg[3] )\n",
      "Rz(12.538103580814) | Qureg[3]\n",
      "CX | ( Qureg[2], Qureg[3] )\n",
      "CX | ( Qureg[1], Qureg[2] )\n",
      "CX | ( Qureg[0], Qureg[1] )\n",
      "Rx(10.995574287564) | Qureg[3]\n",
      "Rx(10.995574287564) | Qureg[2]\n",
      "Rx(10.995574287564) | Qureg[1]\n",
      "H | Qureg[0]\n",
      "Rx(1.570796326795) | Qureg[0]\n",
      "H | Qureg[1]\n",
      "H | Qureg[2]\n",
      "H | Qureg[3]\n",
      "CX | ( Qureg[0], Qureg[1] )\n",
      "CX | ( Qureg[1], Qureg[2] )\n",
      "CX | ( Qureg[2], Qureg[3] )\n",
      "Rz(0.028267033545) | Qureg[3]\n",
      "CX | ( Qureg[2], Qureg[3] )\n",
      "CX | ( Qureg[1], Qureg[2] )\n",
      "CX | ( Qureg[0], Qureg[1] )\n",
      "H | Qureg[3]\n",
      "H | Qureg[2]\n",
      "H | Qureg[1]\n",
      "Rx(10.995574287564) | Qureg[0]\n",
      "Rx(1.570796326795) | Qureg[0]\n",
      "Rx(1.570796326795) | Qureg[1]\n",
      "H | Qureg[2]\n",
      "Rx(1.570796326795) | Qureg[3]\n",
      "CX | ( Qureg[0], Qureg[1] )\n",
      "CX | ( Qureg[1], Qureg[2] )\n",
      "CX | ( Qureg[2], Qureg[3] )\n",
      "Rz(0.028267033545) | Qureg[3]\n",
      "CX | ( Qureg[2], Qureg[3] )\n",
      "CX | ( Qureg[1], Qureg[2] )\n",
      "CX | ( Qureg[0], Qureg[1] )\n",
      "Rx(10.995574287564) | Qureg[3]\n",
      "H | Qureg[2]\n",
      "Rx(10.995574287564) | Qureg[1]\n",
      "Rx(10.995574287564) | Qureg[0]\n",
      "H | Qureg[0]\n",
      "Rx(1.570796326795) | Qureg[1]\n",
      "H | Qureg[2]\n",
      "H | Qureg[3]\n",
      "CX | ( Qureg[0], Qureg[1] )\n",
      "CX | ( Qureg[1], Qureg[2] )\n",
      "CX | ( Qureg[2], Qureg[3] )\n",
      "Rz(0.028267033545) | Qureg[3]\n",
      "CX | ( Qureg[2], Qureg[3] )\n",
      "CX | ( Qureg[1], Qureg[2] )\n",
      "CX | ( Qureg[0], Qureg[1] )\n",
      "H | Qureg[3]\n",
      "H | Qureg[2]\n",
      "Rx(10.995574287564) | Qureg[1]\n",
      "H | Qureg[0]\n",
      "H | Qureg[0]\n",
      "H | Qureg[1]\n",
      "H | Qureg[2]\n",
      "Rx(1.570796326795) | Qureg[3]\n",
      "CX | ( Qureg[0], Qureg[1] )\n",
      "CX | ( Qureg[1], Qureg[2] )\n",
      "CX | ( Qureg[2], Qureg[3] )\n",
      "Rz(12.538103580814) | Qureg[3]\n",
      "CX | ( Qureg[2], Qureg[3] )\n",
      "CX | ( Qureg[1], Qureg[2] )\n",
      "CX | ( Qureg[0], Qureg[1] )\n",
      "Rx(10.995574287564) | Qureg[3]\n",
      "H | Qureg[2]\n",
      "H | Qureg[1]\n",
      "H | Qureg[0]\n",
      "Rx(1.570796326795) | Qureg[1]\n",
      "H | Qureg[3]\n",
      "CX | ( Qureg[1], Qureg[2] )\n",
      "CX | ( Qureg[2], Qureg[3] )\n",
      "Rz(1.152e-09) | Qureg[3]\n",
      "CX | ( Qureg[2], Qureg[3] )\n",
      "CX | ( Qureg[1], Qureg[2] )\n",
      "H | Qureg[3]\n",
      "Rx(10.995574287564) | Qureg[1]\n",
      "H | Qureg[1]\n",
      "Rx(1.570796326795) | Qureg[3]\n",
      "CX | ( Qureg[1], Qureg[2] )\n",
      "CX | ( Qureg[2], Qureg[3] )\n",
      "Rz(12.566370613207) | Qureg[3]\n",
      "CX | ( Qureg[2], Qureg[3] )\n",
      "CX | ( Qureg[1], Qureg[2] )\n",
      "Rx(10.995574287564) | Qureg[3]\n",
      "H | Qureg[1]\n"
     ]
    }
   ],
   "source": [
    "compiler_engine = uccsd_trotter_engine(CommandPrinter())\n",
    "wavefunction = compiler_engine.allocate_qureg(molecule.n_qubits)\n",
    "for i in range(molecule.n_electrons):\n",
    "    X | wavefunction[i]\n",
    "    \n",
    "# Build the circuit and act it on the wavefunction\n",
    "evolution_operator = uccsd_singlet_evolution(opt_amplitudes,\n",
    "                                             molecule.n_qubits,\n",
    "                                             molecule.n_electrons)\n",
    "evolution_operator | wavefunction\n",
    "compiler_engine.flush()"
   ]
  },
  {
   "cell_type": "markdown",
   "metadata": {},
   "source": [
    "I have no idea what I did, but it felt cool."
   ]
  }
 ],
 "metadata": {
  "kernelspec": {
   "display_name": "Python (quant)",
   "language": "python",
   "name": "quant"
  },
  "language_info": {
   "codemirror_mode": {
    "name": "ipython",
    "version": 3
   },
   "file_extension": ".py",
   "mimetype": "text/x-python",
   "name": "python",
   "nbconvert_exporter": "python",
   "pygments_lexer": "ipython3",
   "version": "3.6.5"
  }
 },
 "nbformat": 4,
 "nbformat_minor": 2
}
