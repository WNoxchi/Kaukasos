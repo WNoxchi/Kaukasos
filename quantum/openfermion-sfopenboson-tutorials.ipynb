{
 "cells": [
  {
   "cell_type": "markdown",
   "metadata": {},
   "source": [
    "# OpenFermion – SFOpenBoson Tutorials\n",
    "\n",
    "---\n",
    "\n",
    "Wayne H Nixalo – 2018/6/27\n",
    "\n",
    "See [SFOpenBoson docs](https://sfopenboson.readthedocs.io/en/latest/tutorials/gaussian.html) for tutorials."
   ]
  },
  {
   "cell_type": "code",
   "execution_count": 12,
   "metadata": {},
   "outputs": [],
   "source": [
    "%matplotlib inline\n",
    "%reload_ext autoreload\n",
    "%autoreload 2"
   ]
  },
  {
   "cell_type": "markdown",
   "metadata": {
    "heading_collapsed": true
   },
   "source": [
    "## 1. [Forced quantum harmonic oscillator](https://sfopenboson.readthedocs.io/en/latest/tutorials/gaussian.html)"
   ]
  },
  {
   "cell_type": "markdown",
   "metadata": {
    "hidden": true
   },
   "source": [
    ">Simulating the time-propagation of a Gaussian Hamiltonian using a continuous-variable (CV) quantum circuit is simple with SFOpenBoson. In this tutorial, we will walk through a simple example using the forced quantum harmanic oscillator."
   ]
  },
  {
   "cell_type": "markdown",
   "metadata": {
    "heading_collapsed": true,
    "hidden": true
   },
   "source": [
    "### Background\n",
    "\n",
    "---"
   ]
  },
  {
   "cell_type": "markdown",
   "metadata": {
    "hidden": true
   },
   "source": [
    ">The Hamiltonian of the forced qauntum harmonic oscillator is given by \n",
    "\n",
    "$$\\hat{H} = \\frac{\\hat{p}^2}{2m} + \\frac{1}{2}mω^2\\hat{q}^2 - F\\hat{q}$$\n",
    "\n",
    ">where\n",
    ">\n",
    ">* $m$ is the mass of the oscilllator,\n",
    ">* $ω$ is the frequency of oscillation,\n",
    ">* $F$ is a time-independent external force.\n",
    ">\n",
    "> Let's define this Hamiltonian using OpenFermion, with $m = ω = 1$ and $F = 2$:"
   ]
  },
  {
   "cell_type": "code",
   "execution_count": 1,
   "metadata": {
    "hidden": true
   },
   "outputs": [],
   "source": [
    "from openfermion.ops import QuadOperator\n",
    "from openfermion.utils import commutator, normal_ordered\n",
    "\n",
    "H = QuadOperator('q0 q0', 0.5) + QuadOperator('p0 p0', 0.5) - QuadOperator('q0', 2)"
   ]
  },
  {
   "cell_type": "markdown",
   "metadata": {
    "hidden": true
   },
   "source": [
    ">In the Heisenberg picture, the time-evolution of the $\\hat{q}$ and $\\hat{p}$ operators is given by:\n",
    "\n",
    "\\begin{split}& \\frac{d}{dt}\\hat{q} = \\frac{i}{\\hbar}[\\hat{H}, \\hat{q}] =  \\hat{p}\\\\\n",
    "& \\frac{d}{dt}\\hat{p} = \\frac{i}{\\hbar}[\\hat{H}, \\hat{q}] = F-\\hat{q}\\end{split}\n",
    "\n",
    "shouldn't that last one be $[\\hat{H},\\hat{p}]$ ?\n",
    "\n",
    ">We can double check these using OpenFermion:"
   ]
  },
  {
   "cell_type": "code",
   "execution_count": 2,
   "metadata": {
    "hidden": true
   },
   "outputs": [
    {
     "data": {
      "text/plain": [
       "(1+0j) [p0]"
      ]
     },
     "execution_count": 2,
     "metadata": {},
     "output_type": "execute_result"
    }
   ],
   "source": [
    "(1j/2)*normal_ordered(commutator(H, QuadOperator('q0')), hbar=2)"
   ]
  },
  {
   "cell_type": "code",
   "execution_count": 3,
   "metadata": {
    "hidden": true
   },
   "outputs": [
    {
     "data": {
      "text/plain": [
       "(-1+0j) [q0] +\n",
       "(2+0j) []"
      ]
     },
     "execution_count": 3,
     "metadata": {},
     "output_type": "execute_result"
    }
   ],
   "source": [
    "(1j/2)*normal_ordered(commutator(H, QuadOperator('p0')), hbar=2)"
   ]
  },
  {
   "cell_type": "markdown",
   "metadata": {
    "hidden": true
   },
   "source": [
    ">Assuming the oscillator has initial conditions $\\hat{q}(0)$ and $\\hat{p}(0)$, it's easy to solve this coupled set of linear differentials analytically, giving the parameterized solution:\n",
    "\n",
    "\\begin{split}&\\hat{q}(t) = (\\hat{q}(0)-F)\\cos(t) + \\hat{p}(0)\\sin(t) + F\\\\\n",
    "&\\hat{p}(t) = (F-\\hat{q}(0))\\sin(t) + \\hat{p}(0)\\cos(t)\\end{split}\n",
    "\n",
    ">Let's now attempt to simulate these dynamics directly in Strawberry Fields, solely from the Hamiltonian we defined above."
   ]
  },
  {
   "cell_type": "markdown",
   "metadata": {
    "heading_collapsed": true,
    "hidden": true
   },
   "source": [
    "### Strawberry Fields simulation\n",
    "\n",
    "---"
   ]
  },
  {
   "cell_type": "markdown",
   "metadata": {
    "hidden": true
   },
   "source": [
    ">To simulate the time-propagation of the forced oscillator in StrawberryFields, we also need to impmort the `GaussianPropagation` class from the SFOpenBoson plugin:"
   ]
  },
  {
   "cell_type": "code",
   "execution_count": 5,
   "metadata": {
    "hidden": true
   },
   "outputs": [],
   "source": [
    "import strawberryfields as sf\n",
    "from strawberryfields.ops import *\n",
    "from sfopenboson.ops import GaussianPropagation"
   ]
  },
  {
   "cell_type": "markdown",
   "metadata": {
    "hidden": true
   },
   "source": [
    ">`GaussianPropagation` accepts the following arguments:\n",
    "* `operator`: a bosonic Gaussian Hamiltonian, either in the form of a `BosonOperator` or `QuadOperator`.\n",
    "* `t` (float): the time propagation value. If not provided, default value is 1.\n",
    "* `mode` (str): By default, `mode='local'` and the Hamiltonian is assumed to apply to only the applied qumodes. For example, if `QuadOperator('q0 p1') | | (q[2], q[4])`, then `q0` acts on `q[2]`, and `p1` acts on `q[4]`.\n",
    ">\n",
    ">Alternatively, you can set `mode='global`, and the Hamiltonian is instead applied to the entire register by directly matching qumode numbers of the defined Hamiltonian; ie: `q0` is applied to `q[0[]`, `p1` is applied to `q[1]`, etc.\n",
    ">\n",
    ">Let's set up the one qumode quantum circuit, propagating the forced oscillator Hamiltonian `H` we defined in the previous section, starting from the initial location $(1, 0.5)$ in phase space, for time $t = 1.43$:"
   ]
  },
  {
   "cell_type": "code",
   "execution_count": 7,
   "metadata": {
    "hidden": true
   },
   "outputs": [],
   "source": [
    "eng, q = sf.Engine(1)\n",
    "with eng:\n",
    "    Xgate(1) | q[0]\n",
    "    Zgate(0.5) | q[0]\n",
    "    GaussianPropagation(H, 1.43) | q"
   ]
  },
  {
   "cell_type": "markdown",
   "metadata": {
    "hidden": true
   },
   "source": [
    ">Now, we can run this simulation using the [Gaussian backend of Strawberry Fields](https://strawberryfields.readthedocs.io/en/latest/code/backend.gaussian.html), and output the location of the oscillator in phase space at time $t = 1.43$:"
   ]
  },
  {
   "cell_type": "code",
   "execution_count": 8,
   "metadata": {
    "hidden": true
   },
   "outputs": [
    {
     "data": {
      "text/plain": [
       "array([2.35472067, 1.06027036])"
      ]
     },
     "execution_count": 8,
     "metadata": {},
     "output_type": "execute_result"
    }
   ],
   "source": [
    "state = eng.run('gaussian')\n",
    "state.means()"
   ]
  },
  {
   "cell_type": "markdown",
   "metadata": {
    "hidden": true
   },
   "source": [
    ">We compare this to the analytic solution,\n",
    "\n",
    "\\begin{split}&\\langle\\hat{q}(1.43)\\rangle = (1-2)\\cos(1.43) + 0.5\\sin(1.43) + 2 = 2.35472,\\\\\n",
    "&\\langle\\hat{p}(1.43)\\rangle = (2-1)\\sin(1.43) + 0.5\\cos(1.43) = 1.06027,\\end{split}\n",
    "\n",
    "> which is in good agreement with the Strawberry Fields result.\n",
    ">\n",
    "> We can also print the CV gates applied by the engine, to see how our time-evolution operator $e^{-i\\hat{H}t/\\hbar}$ got decomposed:"
   ]
  },
  {
   "cell_type": "code",
   "execution_count": 9,
   "metadata": {
    "hidden": true
   },
   "outputs": [
    {
     "name": "stdout",
     "output_type": "stream",
     "text": [
      "Xgate(1), \t(reg[0])\n",
      "Zgate(0.5), \t(reg[0])\n",
      "Rgate(-1.43), \t(reg[0])\n",
      "Xgate(1.719), \t(reg[0])\n",
      "Zgate(1.98), \t(reg[0])\n"
     ]
    }
   ],
   "source": [
    "eng.print_applied()"
   ]
  },
  {
   "cell_type": "markdown",
   "metadata": {
    "heading_collapsed": true,
    "hidden": true
   },
   "source": [
    "### Plotting the phase-space time evolution\n",
    "\n",
    "---"
   ]
  },
  {
   "cell_type": "markdown",
   "metadata": {
    "hidden": true
   },
   "source": [
    ">By looping over various values of $t$, we can plot the phase space location of the oscillator for various values of $t$.\n",
    ">\n",
    ">Consider the following example:"
   ]
  },
  {
   "cell_type": "code",
   "execution_count": 10,
   "metadata": {
    "hidden": true
   },
   "outputs": [],
   "source": [
    "eng, q = sf.Engine(1, hbar=2)\n",
    "\n",
    "t_vals = np.arange(0, 6, 0.02)\n",
    "results = np.zeros([2, len(t_vals)])\n",
    "\n",
    "for step, t in enumerate(t_vals):\n",
    "    eng.reset()\n",
    "    with eng:\n",
    "        Xgate(1) | q[0]\n",
    "        Zgate(0.5) | q[0]\n",
    "        GaussianPropagation(H, t) | q\n",
    "        \n",
    "    state = eng.run('gaussian')\n",
    "    results[:, step] = state.means()"
   ]
  },
  {
   "cell_type": "markdown",
   "metadata": {
    "hidden": true
   },
   "source": [
    ">Here, we are looping over the same circuit as above for values of $t$ wihtin the domain $0 ≤ t ≤ 6$, and storing the resulting expectation values $(\\langle\\hat{q}(t)\\rangle, \\langle\\hat{p}t)\\rangle)$ in the array `results`. We can plot this array in the phase space:"
   ]
  },
  {
   "cell_type": "code",
   "execution_count": 40,
   "metadata": {
    "hidden": true
   },
   "outputs": [
    {
     "data": {
      "image/png": "[encoded data removed]",
      "text/plain": [
       "<Figure size 576x360 with 1 Axes>"
      ]
     },
     "metadata": {},
     "output_type": "display_data"
    }
   ],
   "source": [
    "from matplotlib import pyplot as plt\n",
    "\n",
    "plt.style.use('ggplot')\n",
    "fig,ax = plt.subplots(figsize=(8,5))\n",
    "ax.set_xlabel('q'); ax.set_ylabel('p')\n",
    "plt.xlim((0.0,4.0))\n",
    "ax.plot(*results);"
   ]
  },
  {
   "cell_type": "markdown",
   "metadata": {
    "heading_collapsed": true
   },
   "source": [
    "## 2. [Bose-Hubbard time propagation](https://sfopenboson.readthedocs.io/en/latest/tutorials/bosehubbard.html)"
   ]
  },
  {
   "cell_type": "markdown",
   "metadata": {
    "hidden": true
   },
   "source": [
    ">In this tutorial, we'll walk through an exmaple of Hamiltonian simulation of a Bose-Hubbard model, using Strawberry Fields and OpenFermion."
   ]
  },
  {
   "cell_type": "markdown",
   "metadata": {
    "heading_collapsed": true,
    "hidden": true
   },
   "source": [
    "### On a lattice\n",
    "\n",
    "---"
   ]
  },
  {
   "cell_type": "markdown",
   "metadata": {
    "hidden": true
   },
   "source": [
    ">OpenFermion provides a convenient Hamiltonian function to automatically generate Bose-Hubbard Hamiltonians on a 2-dimensional lattice. For exmaple, to generate a Bose-Hubbard Hamiltonian on a size $ 1 \\times 2$ lattice, with on-site and nearest neighbor interactions, we do"
   ]
  },
  {
   "cell_type": "code",
   "execution_count": 42,
   "metadata": {
    "hidden": true
   },
   "outputs": [
    {
     "data": {
      "text/plain": [
       "1.0 [0^ 0 0^ 0] +\n",
       "-1.0 [0^ 0] +\n",
       "3.0 [0^ 0 1^ 1] +\n",
       "-1.0 [0^ 1] +\n",
       "-1.0 [0 1^] +\n",
       "1.0 [1^ 1 1^ 1] +\n",
       "-1.0 [1^ 1]"
      ]
     },
     "execution_count": 42,
     "metadata": {},
     "output_type": "execute_result"
    }
   ],
   "source": [
    "from openfermion.hamiltonians import bose_hubbard\n",
    "\n",
    "bose_hubbard(x_dimension=1, y_dimension=2, tunneling=1, interaction=2,\n",
    "             chemical_potential=0., dipole=3., periodic=False)"
   ]
  },
  {
   "cell_type": "markdown",
   "metadata": {
    "hidden": true
   },
   "source": [
    ">For more inofrmation regarding this function, please see the [OpenFermion documentation](http://openfermion.readthedocs.io/en/latest/openfermion.html#openfermion.hamiltonians.bose_hubbard).\n",
    ">\n",
    ">Let's use this capability, along with the Hamiltonian propagation and decomposition tools of the SFOpenBoson plugin, to perform Bose-Hubbard simulations in Strawberry Fields. Consider the [Hamiltonian simulation](https://strawberryfields.readthedocs.io/en/latest/algorithms/hamiltonian_simulation.html) algorithm in the Strawberry Fields documentation; to reproduce these results, we first generate a Bose-Hubbard Hamiltonian on a non-periodic $1 \\times 2$ lattice, with tunneling coefficient -1, and on-site interaction strength 1.5."
   ]
  },
  {
   "cell_type": "code",
   "execution_count": 43,
   "metadata": {
    "hidden": true
   },
   "outputs": [],
   "source": [
    "H = bose_hubbard(1, 2, 1, 1.5)"
   ]
  },
  {
   "cell_type": "markdown",
   "metadata": {
    "hidden": true
   },
   "source": [
    ">To simulate the time-propagation of the Hamiltonian in StrawberryFields, we also need to impor the `BoseHubbardPropagation` class from the SFOpenBoson plugin:"
   ]
  },
  {
   "cell_type": "code",
   "execution_count": 44,
   "metadata": {
    "hidden": true
   },
   "outputs": [],
   "source": [
    "import strawberryfields as sf\n",
    "from strawberryfields.ops import *\n",
    "from sfopenboson.ops import BoseHubbardPropagation"
   ]
  },
  {
   "cell_type": "markdown",
   "metadata": {
    "hidden": true
   },
   "source": [
    ">`BoseHubbardPropagation` accepts the following arguments:\n",
    "* `operator`: a Bose-Hubbard Hamiltonian, either in the form of a `BosonOperator` or `QuadOperator`.\n",
    "* `t` (float): the time propagation value. If not provided, default vaue is 1.\n",
    "* `k` (int): the number of products in the truncated Lie product formula. Increasing this parameter increases the numerical accuracy of the decomposition, but also increases the depth of the circuit and the computational time.\n",
    "* `mode` (str): By default, `mode='local'` and the Hamiltonian is assumed to apply to only the applied qumodes. For example, if `QuadOperator('q0 p1') | (q[2], q[4])`, then `q0` acts on `q[2]`, and `p1` acts on `q[4]`.\n",
    "\n",
    ">Alternatively, you can set `mode='global'`, and the Hamiltonian is instead applied to the entire register by directly matching qumode numbers of the defined Hamiltonian; ie: `q0` is applied to `q[0]`, `p1` is applied to `q[1]`, etc.\n",
    "\n",
    ">Let's set up the 2 qumode quantum circuit –– each mode corresponds to  a node in the lattice –– and propagating the Bose-Hubbard Hamiltonian `H` we defined in the previous section, starting from the initial state $\\big\\lvert0,2\\big\\rangle$ in the Fock space, for time $t = 1.086$ and Lie product truncation $k = 20$:"
   ]
  },
  {
   "cell_type": "code",
   "execution_count": 45,
   "metadata": {
    "hidden": true
   },
   "outputs": [],
   "source": [
    "eng, q = sf.Engine(2)\n",
    "with eng:\n",
    "    Fock(2) | q[1]\n",
    "    BoseHubbardPropagation(H, 1.086, 20) | q"
   ]
  },
  {
   "cell_type": "markdown",
   "metadata": {
    "hidden": true
   },
   "source": [
    ">Now we can run this simulation using the [Fock backend of Strawberry Fields](https://strawberryfields.readthedocs.io/en/latest/code/backend.fock.html), and output the Fock state probabilities at time $t = 1.086$:\n",
    ">\n",
    ">**NOTE**\n",
    ">In the Bose-Hubbard model, the number of particles in the system remains constant, so we do not need to increase the cutoff dimension of the simulation beyond the total number of photons in the initial state."
   ]
  },
  {
   "cell_type": "code",
   "execution_count": 46,
   "metadata": {
    "hidden": true
   },
   "outputs": [
    {
     "data": {
      "text/plain": [
       "0.5224012457200198"
      ]
     },
     "execution_count": 46,
     "metadata": {},
     "output_type": "execute_result"
    }
   ],
   "source": [
    "state = eng.run('fock', cutoff_dim=3)\n",
    "state.fock_prob([2,0])"
   ]
  },
  {
   "cell_type": "code",
   "execution_count": 47,
   "metadata": {
    "hidden": true
   },
   "outputs": [
    {
     "data": {
      "text/plain": [
       "0.2356528768567243"
      ]
     },
     "execution_count": 47,
     "metadata": {},
     "output_type": "execute_result"
    }
   ],
   "source": [
    "state.fock_prob([1,1])"
   ]
  },
  {
   "cell_type": "code",
   "execution_count": 48,
   "metadata": {
    "hidden": true
   },
   "outputs": [
    {
     "data": {
      "text/plain": [
       "0.24194587742325954"
      ]
     },
     "execution_count": 48,
     "metadata": {},
     "output_type": "execute_result"
    }
   ],
   "source": [
    "state.fock_prob([0,2])"
   ]
  },
  {
   "cell_type": "markdown",
   "metadata": {
    "hidden": true
   },
   "source": [
    ">We can see that this matches the results obtained in the Strawberry Fields documentation.\n",
    "\n",
    ">Note that, as in the forced quantum harmonic oscillator, tutorial, we can output the decomposition as applied by the Strawberry Fields engine using `eng.print_applied()`."
   ]
  },
  {
   "cell_type": "markdown",
   "metadata": {
    "heading_collapsed": true,
    "hidden": true
   },
   "source": [
    "### On an arbitrary network\n",
    "\n",
    "---"
   ]
  },
  {
   "cell_type": "markdown",
   "metadata": {
    "hidden": true
   },
   "source": [
    ">Alternatively, we are not bound to use the `bose_hubbard` function from OpenFermion; we can define our own Bose-Hubbard Hamiltonian using the `BoseOperator` class. For example, consider a Bose-Hubbard model constrained to a 3-vertex cycle graph; that is, the graph formed by connecting 3 vertices to each other in a cycle."
   ]
  },
  {
   "cell_type": "code",
   "execution_count": 49,
   "metadata": {
    "hidden": true
   },
   "outputs": [],
   "source": [
    "from openfermion.ops import BosonOperator"
   ]
  },
  {
   "cell_type": "markdown",
   "metadata": {
    "hidden": true
   },
   "source": [
    ">Let's define this Hamiltonian using OpenFermion. First, constructing the tunneling terms between each pair of adjacent modes:"
   ]
  },
  {
   "cell_type": "code",
   "execution_count": 50,
   "metadata": {
    "hidden": true
   },
   "outputs": [],
   "source": [
    "J = 1\n",
    "H = BosonOperator('0 1^', -J) + BosonOperator('0^ 1', -J)\n",
    "H += BosonOperator('0 2^', -J) + BosonOperator('0^ 2', -J)\n",
    "H += BosonOperator('1 2^', -J) + BosonOperator('1^ 2', -J)"
   ]
  },
  {
   "cell_type": "markdown",
   "metadata": {
    "hidden": true
   },
   "source": [
    ">Next, let's add an on-site interaction term, with strength $U = 1.5$:"
   ]
  },
  {
   "cell_type": "code",
   "execution_count": 51,
   "metadata": {
    "hidden": true
   },
   "outputs": [],
   "source": [
    "U = 1.5\n",
    "H += BosonOperator('0^ 0 0^ 0', 0.5*U) - BosonOperator('0^ 0', 0.5*U)\n",
    "H += BosonOperator('1^ 1 1^ 1', 0.5*U) - BosonOperator('1^ 1', 0.5*U)\n",
    "H += BosonOperator('2^ 2 2^ 2', 0.5*U) - BosonOperator('2^ 2', 0.5*U)"
   ]
  },
  {
   "cell_type": "markdown",
   "metadata": {
    "hidden": true
   },
   "source": [
    ">**NOTE**\n",
    ">If a Hamiltonian that cannot be written in the form of a Bose-Hubbard model is passed to a `BoseHubbardPropagation`, a `BoseHubbardError` is returned.\n",
    "\n",
    ">As before, we use `BoseHubbardPropagation` to simulate this model for time $t = 1.086$, starting from initial state $\\big\\lvert2,0\\big\\rangle$. Due to the increased size of this model, let's increase the Lie product truncation to $k = 100$:"
   ]
  },
  {
   "cell_type": "code",
   "execution_count": 52,
   "metadata": {
    "hidden": true
   },
   "outputs": [],
   "source": [
    "eng, q = sf.Engine(3)\n",
    "with eng:\n",
    "    Fock(2) | q[0]\n",
    "    BoseHubbardPropagation(H, 1.086, 100) | q"
   ]
  },
  {
   "cell_type": "markdown",
   "metadata": {
    "hidden": true
   },
   "source": [
    ">Running the circuit, and checking some output probabilities:"
   ]
  },
  {
   "cell_type": "code",
   "execution_count": 53,
   "metadata": {
    "hidden": true
   },
   "outputs": [
    {
     "name": "stdout",
     "output_type": "stream",
     "text": [
      "0.08546707601127217\n",
      "0.04925517496558026\n",
      "0.048740564401678614\n",
      "0.3115175636118121\n",
      "0.19789100000566362\n",
      "0.30712862100403837\n"
     ]
    }
   ],
   "source": [
    "state = eng.run('fock', cutoff_dim=3)\n",
    "for i in ([2,0,0], [1,1,0], [1,0,1], [0,2,0], [0,1,1], [0,0,2]):\n",
    "    print(state.fock_prob(i))"
   ]
  },
  {
   "cell_type": "markdown",
   "metadata": {
    "hidden": true
   },
   "source": [
    ">To verifiy this result, we can construct the $6\\times6$ Hamiltonian matrix $H_{ij} = \\langleφ_i\\lvert\\hat{H}\\rvertφ_{ij}\\rangle$ is a member of the set of allowed Fock states  $\\{∣2,0,0⟩,∣1,1,0⟩,∣1,0,1⟩,∣0,2,0⟩,∣0,1,1⟩,∣0,0,2⟩\\}$. Performing these inner products, we find that\n",
    "\n",
    "\\begin{split}H = \\begin{bmatrix}\n",
    "        U & J\\sqrt{2} & J\\sqrt{2} & 0 & 0 & 0\\\\\n",
    "        J\\sqrt{2} & 0 & J & J\\sqrt{2} & J & 0\\\\\n",
    "        J\\sqrt{2} & J & 0 & 0 & J & J\\sqrt{2}\\\\\n",
    "        0 & J\\sqrt{2} & 0 & U & J\\sqrt{2} & 0\\\\\n",
    "        0 & J & J & J\\sqrt{2} & 0 & J\\sqrt{2}\\\\\n",
    "        0 & 0& J\\sqrt{2} & 0 & J\\sqrt{2} & U\n",
    "\\end{bmatrix}.\\end{split}\n",
    "\n",
    ">Therefore, using SciPy to perform the matrix exponential $e^{iHt}$ applied to the initial state:"
   ]
  },
  {
   "cell_type": "code",
   "execution_count": 54,
   "metadata": {
    "hidden": true
   },
   "outputs": [
    {
     "data": {
      "text/plain": [
       "array([0.0854745 , 0.04900244, 0.04900244, 0.30932247, 0.19787567,\n",
       "       0.30932247])"
      ]
     },
     "execution_count": 54,
     "metadata": {},
     "output_type": "execute_result"
    }
   ],
   "source": [
    "from scipy.linalg import expm\n",
    "\n",
    "Jr2 = J*np.sqrt(2)\n",
    "H = np.array([[U , Jr2, Jr2, 0  , 0  , 0  ],\n",
    "             [Jr2, 0  , J  , Jr2, J  , 0  ],\n",
    "             [Jr2, J  , 0  , 0  , J  , Jr2],\n",
    "             [0  , Jr2, 0  , U  , Jr2, 0  ],\n",
    "             [0  , J  , J  , Jr2, 0  , Jr2],\n",
    "             [0  , 0  , Jr2, 0  , Jr2, U  ]])\n",
    "np.abs(expm(-1j*H*1.086)[0])**2"
   ]
  },
  {
   "cell_type": "markdown",
   "metadata": {
    "hidden": true
   },
   "source": [
    ">which agrees within reasonable numerical error with the Strawberry Fields simulation results."
   ]
  }
 ],
 "metadata": {
  "kernelspec": {
   "display_name": "Python (quant)",
   "language": "python",
   "name": "quant"
  },
  "language_info": {
   "codemirror_mode": {
    "name": "ipython",
    "version": 3
   },
   "file_extension": ".py",
   "mimetype": "text/x-python",
   "name": "python",
   "nbconvert_exporter": "python",
   "pygments_lexer": "ipython3",
   "version": "3.6.5"
  }
 },
 "nbformat": 4,
 "nbformat_minor": 2
}
