{
 "cells": [
  {
   "cell_type": "code",
   "execution_count": 1,
   "metadata": {},
   "outputs": [],
   "source": [
    "import numpy as np"
   ]
  },
  {
   "cell_type": "markdown",
   "metadata": {},
   "source": [
    "Testing if dividing away a matrix is eqvt to multiplying its inverse to the entire other side, or ... not.\n",
    "\n",
    "Board:\n",
    "\n",
    "$$\\dot{x}=Ax+Bu$$\n",
    "\n",
    "$$\\dot{x}=f(x,u)$$\n",
    "\n",
    "$$\\dot{q}=f_1(q,\\dot{q})+f_2(q,\\dot{q})u$$\n",
    "\n",
    "Given $\\ddot{q}^d$:\n",
    "\n",
    "$$u=f^{-1}_2(q,\\dot{q})+f_1(q,\\dot{q})$$"
   ]
  },
  {
   "cell_type": "code",
   "execution_count": null,
   "metadata": {},
   "outputs": [],
   "source": []
  }
 ],
 "metadata": {
  "kernelspec": {
   "display_name": "Python 3 (FastAI)",
   "language": "python",
   "name": "fastai"
  },
  "language_info": {
   "codemirror_mode": {
    "name": "ipython",
    "version": 3
   },
   "file_extension": ".py",
   "mimetype": "text/x-python",
   "name": "python",
   "nbconvert_exporter": "python",
   "pygments_lexer": "ipython3",
   "version": "3.6.4"
  }
 },
 "nbformat": 4,
 "nbformat_minor": 2
}
